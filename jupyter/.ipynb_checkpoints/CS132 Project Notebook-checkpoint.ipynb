{
 "cells": [
  {
   "attachments": {},
   "cell_type": "markdown",
   "id": "7214a04c-63b0-4530-be60-d4fb378b5d4c",
   "metadata": {},
   "source": [
    "# CS132 Project - Group 23\n",
    "\n",
    "This is our project, Nutribuns, which aims to use tweets from the recent years to identify the common theme behind online misinformation regarding the food during the Ferdinand Marcos' regime. To narrow down the scope of the project, we will limit the question to whether the common argument of the tweets are on the food prices during the aforementioned regime."
   ]
  },
  {
   "attachments": {},
   "cell_type": "markdown",
   "id": "e7967956-0837-4ef9-b8b9-17bd21acd8e1",
   "metadata": {},
   "source": [
    "## Data Collection\n",
    "\n",
    "In conducting the Data Collection, each of the three members collected 50 tweets using various keywords related to the topic. The tweets were limited to those from 2016-2022. The collected data was then verified by peers."
   ]
  },
  {
   "attachments": {},
   "cell_type": "markdown",
   "id": "d2ebe8e6-4edb-4324-800a-963663837d04",
   "metadata": {},
   "source": [
    "## Data Exploration\n",
    "\n",
    "After collecting a total of 150 tweets, the data was then subjected to preprocessing in order to ensure the validity of data for analysis."
   ]
  },
  {
   "attachments": {},
   "cell_type": "markdown",
   "id": "d7cd20ad-0f5e-41aa-bbe0-1ac979f8b234",
   "metadata": {},
   "source": [
    "### Data Preprocessing\n",
    "\n",
    "The raw data was prepared and transformed before it can be used for analysis or machine learning tasks."
   ]
  },
  {
   "attachments": {},
   "cell_type": "markdown",
   "id": "6b7ceb2e-4caa-4244-86f7-4e4e51f9d7fe",
   "metadata": {},
   "source": [
    "#### Handling Missing Values / Ensuring No Missing Values\n",
    "\n",
    "To ensure there are no missing values in the dataset, empty cells in the dataframe was replaced with a \"NULL\" string as such"
   ]
  },
  {
   "cell_type": "code",
   "execution_count": 1,
   "id": "21eb8ac8-8c62-4d80-b270-4d00a70bec86",
   "metadata": {},
   "outputs": [
    {
     "data": {
      "text/html": [
       "<div>\n",
       "<style scoped>\n",
       "    .dataframe tbody tr th:only-of-type {\n",
       "        vertical-align: middle;\n",
       "    }\n",
       "\n",
       "    .dataframe tbody tr th {\n",
       "        vertical-align: top;\n",
       "    }\n",
       "\n",
       "    .dataframe thead th {\n",
       "        text-align: right;\n",
       "    }\n",
       "</style>\n",
       "<table border=\"1\" class=\"dataframe\">\n",
       "  <thead>\n",
       "    <tr style=\"text-align: right;\">\n",
       "      <th></th>\n",
       "      <th>ID</th>\n",
       "      <th>Timestamp</th>\n",
       "      <th>Tweet URL</th>\n",
       "      <th>Group</th>\n",
       "      <th>Collector</th>\n",
       "      <th>Category</th>\n",
       "      <th>Topic</th>\n",
       "      <th>Keywords</th>\n",
       "      <th>Account handle</th>\n",
       "      <th>Account name</th>\n",
       "      <th>...</th>\n",
       "      <th>Location</th>\n",
       "      <th>Tweet</th>\n",
       "      <th>Tweet Translated</th>\n",
       "      <th>Tweet Type</th>\n",
       "      <th>Date posted</th>\n",
       "      <th>Screenshot</th>\n",
       "      <th>Content type</th>\n",
       "      <th>Likes</th>\n",
       "      <th>Replies</th>\n",
       "      <th>Retweets</th>\n",
       "    </tr>\n",
       "  </thead>\n",
       "  <tbody>\n",
       "    <tr>\n",
       "      <th>0</th>\n",
       "      <td>23-Jan</td>\n",
       "      <td>13/03/2023 13:25</td>\n",
       "      <td>https://twitter.com/GirlFromIhawan/status/1534...</td>\n",
       "      <td>23</td>\n",
       "      <td>Lorico, Hans Daniel</td>\n",
       "      <td>MRCS</td>\n",
       "      <td>Misinformation on Food Situation during Ferdin...</td>\n",
       "      <td>Kadiwa, agricultural, Masagana 99</td>\n",
       "      <td>@GirlFromIhawan</td>\n",
       "      <td>🔥WILD TONIGHT🔥</td>\n",
       "      <td>...</td>\n",
       "      <td>NaN</td>\n",
       "      <td>Yes mare, panahon ni marcos sr. Nagawa na nila...</td>\n",
       "      <td>Yes friend, during the time of Marcos Sr., the...</td>\n",
       "      <td>Text, Reply</td>\n",
       "      <td>08/06/2022 12:48</td>\n",
       "      <td>https://drive.google.com/file/d/1weUGYhQjHZ9jg...</td>\n",
       "      <td>Rational</td>\n",
       "      <td>1.0</td>\n",
       "      <td>0.0</td>\n",
       "      <td>0.0</td>\n",
       "    </tr>\n",
       "    <tr>\n",
       "      <th>1</th>\n",
       "      <td>23-Feb</td>\n",
       "      <td>13/03/2023 13:45</td>\n",
       "      <td>https://twitter.com/kotomba431C/status/1306285...</td>\n",
       "      <td>23</td>\n",
       "      <td>Lorico, Hans Daniel</td>\n",
       "      <td>MRCS</td>\n",
       "      <td>Misinformation on Food Situation during Ferdin...</td>\n",
       "      <td>Nutribun, Panahon ni Marcos, mag-aaral</td>\n",
       "      <td>@kotomba431C</td>\n",
       "      <td>Kotomba Powder</td>\n",
       "      <td>...</td>\n",
       "      <td>NaN</td>\n",
       "      <td>Ito Ang Nutribun at Gatas na ibinibigay sa Mga...</td>\n",
       "      <td>This is the Nutribun and milk that was provide...</td>\n",
       "      <td>Text, Image</td>\n",
       "      <td>17/09/2020 1:35</td>\n",
       "      <td>https://drive.google.com/file/d/1-MhBL8k7V3TBi...</td>\n",
       "      <td>Emotional</td>\n",
       "      <td>16.0</td>\n",
       "      <td>1.0</td>\n",
       "      <td>3.0</td>\n",
       "    </tr>\n",
       "    <tr>\n",
       "      <th>2</th>\n",
       "      <td>23-Mar</td>\n",
       "      <td>13/03/2023 13:50</td>\n",
       "      <td>https://twitter.com/indaysara/status/159141949...</td>\n",
       "      <td>23</td>\n",
       "      <td>Lorico, Hans Daniel</td>\n",
       "      <td>MRCS</td>\n",
       "      <td>Misinformation on Food Situation during Ferdin...</td>\n",
       "      <td>Nutribun, Marcos, nutrition, gulay</td>\n",
       "      <td>@indaysara</td>\n",
       "      <td>Sara Duterte</td>\n",
       "      <td>...</td>\n",
       "      <td>Davao City</td>\n",
       "      <td>Bilang pa-birthday, handog ni Sen. Imee ang mg...</td>\n",
       "      <td>For her birthday, Sen. Imee offers these nutri...</td>\n",
       "      <td>Text, Image, Reply</td>\n",
       "      <td>12/11/2022 21:15</td>\n",
       "      <td>https://drive.google.com/file/d/1cs3B8smx65wTe...</td>\n",
       "      <td>Rational</td>\n",
       "      <td>191.0</td>\n",
       "      <td>12.0</td>\n",
       "      <td>29.0</td>\n",
       "    </tr>\n",
       "    <tr>\n",
       "      <th>3</th>\n",
       "      <td>23-Apr</td>\n",
       "      <td>31/03/2023 10:35</td>\n",
       "      <td>https://twitter.com/aa_alegades/status/1108343...</td>\n",
       "      <td>23</td>\n",
       "      <td>Rosales, Christian Jay</td>\n",
       "      <td>MRCS</td>\n",
       "      <td>Misinformation on Food Situation during Ferdin...</td>\n",
       "      <td>Walang nagugutom, Marcos</td>\n",
       "      <td>@aa_alegades</td>\n",
       "      <td>Alegades</td>\n",
       "      <td>...</td>\n",
       "      <td>Quezon City, National Capital</td>\n",
       "      <td>Kay Marcos, walang nagugutom na estudyante! Sa...</td>\n",
       "      <td>Because of Marcos, no student was hungry. Than...</td>\n",
       "      <td>Text</td>\n",
       "      <td>20/03/2019 20:25</td>\n",
       "      <td>https://drive.google.com/file/d/1HaNIoJc7WmieU...</td>\n",
       "      <td>Emotional</td>\n",
       "      <td>0.0</td>\n",
       "      <td>1.0</td>\n",
       "      <td>0.0</td>\n",
       "    </tr>\n",
       "    <tr>\n",
       "      <th>4</th>\n",
       "      <td>23-May</td>\n",
       "      <td>31/03/2023 14:41</td>\n",
       "      <td>https://twitter.com/Yelle007/status/1303897326...</td>\n",
       "      <td>23</td>\n",
       "      <td>Rosales, Christian Jay</td>\n",
       "      <td>MRCS</td>\n",
       "      <td>Misinformation on Food Situation during Ferdin...</td>\n",
       "      <td>Walang nagugutom, Marcos</td>\n",
       "      <td>@Yelle007</td>\n",
       "      <td>Burger Ranger 🍔✌️😊</td>\n",
       "      <td>...</td>\n",
       "      <td>1551</td>\n",
       "      <td>eschuzme! @dawende, noong time ni Marcos walan...</td>\n",
       "      <td>eschuzme! @dawende, nobody went hungry during ...</td>\n",
       "      <td>Text, Reply (comment)</td>\n",
       "      <td>09/10/2020 11:25</td>\n",
       "      <td>https://drive.google.com/file/d/1iEKP_N0N-6fzM...</td>\n",
       "      <td>Emotional</td>\n",
       "      <td>3.0</td>\n",
       "      <td>0.0</td>\n",
       "      <td>1.0</td>\n",
       "    </tr>\n",
       "    <tr>\n",
       "      <th>...</th>\n",
       "      <td>...</td>\n",
       "      <td>...</td>\n",
       "      <td>...</td>\n",
       "      <td>...</td>\n",
       "      <td>...</td>\n",
       "      <td>...</td>\n",
       "      <td>...</td>\n",
       "      <td>...</td>\n",
       "      <td>...</td>\n",
       "      <td>...</td>\n",
       "      <td>...</td>\n",
       "      <td>...</td>\n",
       "      <td>...</td>\n",
       "      <td>...</td>\n",
       "      <td>...</td>\n",
       "      <td>...</td>\n",
       "      <td>...</td>\n",
       "      <td>...</td>\n",
       "      <td>...</td>\n",
       "      <td>...</td>\n",
       "      <td>...</td>\n",
       "    </tr>\n",
       "    <tr>\n",
       "      <th>145</th>\n",
       "      <td>23-146</td>\n",
       "      <td>19/04/2023 22:22</td>\n",
       "      <td>https://twitter.com/maikaalessandra/status/144...</td>\n",
       "      <td>23</td>\n",
       "      <td>Luteria, Jian Lawrence</td>\n",
       "      <td>MRCS</td>\n",
       "      <td>Misinformation on Food Situation during Ferdin...</td>\n",
       "      <td>pagkain, Marcos</td>\n",
       "      <td>@maikaalessandra</td>\n",
       "      <td>maika ☁️</td>\n",
       "      <td>...</td>\n",
       "      <td>NaN</td>\n",
       "      <td>bes totoo!! Lolo ko lagi sinasabi nun ang gand...</td>\n",
       "      <td>girl it's true!! My grandfather always said th...</td>\n",
       "      <td>Text, Reply</td>\n",
       "      <td>13/10/2021 19:23</td>\n",
       "      <td>https://drive.google.com/file/d/19_TcXZrd2jdjr...</td>\n",
       "      <td>Rational</td>\n",
       "      <td>1.0</td>\n",
       "      <td>0.0</td>\n",
       "      <td>0.0</td>\n",
       "    </tr>\n",
       "    <tr>\n",
       "      <th>146</th>\n",
       "      <td>23-147</td>\n",
       "      <td>19/04/2023 22:33</td>\n",
       "      <td>https://twitter.com/nickojpam/status/145038978...</td>\n",
       "      <td>23</td>\n",
       "      <td>Luteria, Jian Lawrence</td>\n",
       "      <td>MRCS</td>\n",
       "      <td>Misinformation on Food Situation during Ferdin...</td>\n",
       "      <td>pagkain, Marcos</td>\n",
       "      <td>@nickojpam</td>\n",
       "      <td>@niculeth</td>\n",
       "      <td>...</td>\n",
       "      <td>NaN</td>\n",
       "      <td>Lahat kasalanan ni Marcos Yan,naka upo na sya ...</td>\n",
       "      <td>You say it's all Marcos's fault, but he was al...</td>\n",
       "      <td>Text, Reply</td>\n",
       "      <td>19/10/2021 17:14</td>\n",
       "      <td>https://drive.google.com/file/d/18TXvLjyQ_cW9d...</td>\n",
       "      <td>Emotional</td>\n",
       "      <td>5.0</td>\n",
       "      <td>4.0</td>\n",
       "      <td>0.0</td>\n",
       "    </tr>\n",
       "    <tr>\n",
       "      <th>147</th>\n",
       "      <td>23-148</td>\n",
       "      <td>19/04/2023 22:42</td>\n",
       "      <td>https://twitter.com/m32594290/status/144781177...</td>\n",
       "      <td>23</td>\n",
       "      <td>Luteria, Jian Lawrence</td>\n",
       "      <td>MRCS</td>\n",
       "      <td>Misinformation on Food Situation during Ferdin...</td>\n",
       "      <td>walang nagugutom, Marcos</td>\n",
       "      <td>@m32594290</td>\n",
       "      <td>Nate♥️💚</td>\n",
       "      <td>...</td>\n",
       "      <td>NaN</td>\n",
       "      <td>Hindi po ako pinanganak noong si President Mar...</td>\n",
       "      <td>I was not born when President Marcos was in po...</td>\n",
       "      <td>Text</td>\n",
       "      <td>12/10/2021 14:29</td>\n",
       "      <td>https://drive.google.com/file/d/1K_tP9_qMfbRAq...</td>\n",
       "      <td>Emotional</td>\n",
       "      <td>0.0</td>\n",
       "      <td>1.0</td>\n",
       "      <td>2.0</td>\n",
       "    </tr>\n",
       "    <tr>\n",
       "      <th>148</th>\n",
       "      <td>23-149</td>\n",
       "      <td>19/04/2023 22:51</td>\n",
       "      <td>https://twitter.com/Natans_Lover/status/145063...</td>\n",
       "      <td>23</td>\n",
       "      <td>Luteria, Jian Lawrence</td>\n",
       "      <td>MRCS</td>\n",
       "      <td>Misinformation on Food Situation during Ferdin...</td>\n",
       "      <td>starving, Marcos</td>\n",
       "      <td>@Natans_Lover</td>\n",
       "      <td>CosmicSkeptic Fangirl 🏳️‍🌈 | 🏳️‍⚧️⃠</td>\n",
       "      <td>...</td>\n",
       "      <td>A Holy Betrayal</td>\n",
       "      <td>Kida during in Marcos' regime eat Nutribun bre...</td>\n",
       "      <td>Kida during in Marcos' regime eat Nutribun bre...</td>\n",
       "      <td>Text, Image</td>\n",
       "      <td>20/10/2021 9:23</td>\n",
       "      <td>https://drive.google.com/file/d/1B5A2W-suyXrua...</td>\n",
       "      <td>Rational</td>\n",
       "      <td>26.0</td>\n",
       "      <td>3.0</td>\n",
       "      <td>8.0</td>\n",
       "    </tr>\n",
       "    <tr>\n",
       "      <th>149</th>\n",
       "      <td>23-150</td>\n",
       "      <td>19/04/2023 23:03</td>\n",
       "      <td>https://twitter.com/Nicojr39229087/status/1449...</td>\n",
       "      <td>23</td>\n",
       "      <td>Luteria, Jian Lawrence</td>\n",
       "      <td>MRCS</td>\n",
       "      <td>Misinformation on Food Situation during Ferdin...</td>\n",
       "      <td>starving, Marcos</td>\n",
       "      <td>@Nicojr39229087</td>\n",
       "      <td>Nicojr.</td>\n",
       "      <td>...</td>\n",
       "      <td>Republic of the Philippines</td>\n",
       "      <td>WHEN I WAS KID NO ONE GET STARVING BECAUSE PRE...</td>\n",
       "      <td>WHEN I WAS KID NO ONE GET STARVING BECAUSE PRE...</td>\n",
       "      <td>Text, Quote</td>\n",
       "      <td>18/10/2021 9:36</td>\n",
       "      <td>https://drive.google.com/file/d/153ofo4gbdOtXq...</td>\n",
       "      <td>Emotional</td>\n",
       "      <td>0.0</td>\n",
       "      <td>0.0</td>\n",
       "      <td>0.0</td>\n",
       "    </tr>\n",
       "  </tbody>\n",
       "</table>\n",
       "<p>150 rows × 25 columns</p>\n",
       "</div>"
      ],
      "text/plain": [
       "         ID         Timestamp  \\\n",
       "0    23-Jan  13/03/2023 13:25   \n",
       "1    23-Feb  13/03/2023 13:45   \n",
       "2    23-Mar  13/03/2023 13:50   \n",
       "3    23-Apr  31/03/2023 10:35   \n",
       "4    23-May  31/03/2023 14:41   \n",
       "..      ...               ...   \n",
       "145  23-146  19/04/2023 22:22   \n",
       "146  23-147  19/04/2023 22:33   \n",
       "147  23-148  19/04/2023 22:42   \n",
       "148  23-149  19/04/2023 22:51   \n",
       "149  23-150  19/04/2023 23:03   \n",
       "\n",
       "                                             Tweet URL  Group  \\\n",
       "0    https://twitter.com/GirlFromIhawan/status/1534...     23   \n",
       "1    https://twitter.com/kotomba431C/status/1306285...     23   \n",
       "2    https://twitter.com/indaysara/status/159141949...     23   \n",
       "3    https://twitter.com/aa_alegades/status/1108343...     23   \n",
       "4    https://twitter.com/Yelle007/status/1303897326...     23   \n",
       "..                                                 ...    ...   \n",
       "145  https://twitter.com/maikaalessandra/status/144...     23   \n",
       "146  https://twitter.com/nickojpam/status/145038978...     23   \n",
       "147  https://twitter.com/m32594290/status/144781177...     23   \n",
       "148  https://twitter.com/Natans_Lover/status/145063...     23   \n",
       "149  https://twitter.com/Nicojr39229087/status/1449...     23   \n",
       "\n",
       "                  Collector Category  \\\n",
       "0       Lorico, Hans Daniel     MRCS   \n",
       "1       Lorico, Hans Daniel     MRCS   \n",
       "2       Lorico, Hans Daniel     MRCS   \n",
       "3    Rosales, Christian Jay     MRCS   \n",
       "4    Rosales, Christian Jay     MRCS   \n",
       "..                      ...      ...   \n",
       "145  Luteria, Jian Lawrence     MRCS   \n",
       "146  Luteria, Jian Lawrence     MRCS   \n",
       "147  Luteria, Jian Lawrence     MRCS   \n",
       "148  Luteria, Jian Lawrence     MRCS   \n",
       "149  Luteria, Jian Lawrence     MRCS   \n",
       "\n",
       "                                                 Topic  \\\n",
       "0    Misinformation on Food Situation during Ferdin...   \n",
       "1    Misinformation on Food Situation during Ferdin...   \n",
       "2    Misinformation on Food Situation during Ferdin...   \n",
       "3    Misinformation on Food Situation during Ferdin...   \n",
       "4    Misinformation on Food Situation during Ferdin...   \n",
       "..                                                 ...   \n",
       "145  Misinformation on Food Situation during Ferdin...   \n",
       "146  Misinformation on Food Situation during Ferdin...   \n",
       "147  Misinformation on Food Situation during Ferdin...   \n",
       "148  Misinformation on Food Situation during Ferdin...   \n",
       "149  Misinformation on Food Situation during Ferdin...   \n",
       "\n",
       "                                   Keywords    Account handle  \\\n",
       "0         Kadiwa, agricultural, Masagana 99   @GirlFromIhawan   \n",
       "1    Nutribun, Panahon ni Marcos, mag-aaral      @kotomba431C   \n",
       "2        Nutribun, Marcos, nutrition, gulay        @indaysara   \n",
       "3                  Walang nagugutom, Marcos      @aa_alegades   \n",
       "4                  Walang nagugutom, Marcos         @Yelle007   \n",
       "..                                      ...               ...   \n",
       "145                         pagkain, Marcos  @maikaalessandra   \n",
       "146                         pagkain, Marcos        @nickojpam   \n",
       "147                walang nagugutom, Marcos        @m32594290   \n",
       "148                        starving, Marcos     @Natans_Lover   \n",
       "149                        starving, Marcos   @Nicojr39229087   \n",
       "\n",
       "                            Account name  ...                       Location  \\\n",
       "0                         🔥WILD TONIGHT🔥  ...                            NaN   \n",
       "1                         Kotomba Powder  ...                            NaN   \n",
       "2                           Sara Duterte  ...                     Davao City   \n",
       "3                               Alegades  ...  Quezon City, National Capital   \n",
       "4                     Burger Ranger 🍔✌️😊  ...                           1551   \n",
       "..                                   ...  ...                            ...   \n",
       "145                             maika ☁️  ...                            NaN   \n",
       "146                            @niculeth  ...                            NaN   \n",
       "147                              Nate♥️💚  ...                            NaN   \n",
       "148  CosmicSkeptic Fangirl 🏳️‍🌈 | 🏳️‍⚧️⃠  ...                A Holy Betrayal   \n",
       "149                              Nicojr.  ...    Republic of the Philippines   \n",
       "\n",
       "                                                 Tweet  \\\n",
       "0    Yes mare, panahon ni marcos sr. Nagawa na nila...   \n",
       "1    Ito Ang Nutribun at Gatas na ibinibigay sa Mga...   \n",
       "2    Bilang pa-birthday, handog ni Sen. Imee ang mg...   \n",
       "3    Kay Marcos, walang nagugutom na estudyante! Sa...   \n",
       "4    eschuzme! @dawende, noong time ni Marcos walan...   \n",
       "..                                                 ...   \n",
       "145  bes totoo!! Lolo ko lagi sinasabi nun ang gand...   \n",
       "146  Lahat kasalanan ni Marcos Yan,naka upo na sya ...   \n",
       "147  Hindi po ako pinanganak noong si President Mar...   \n",
       "148  Kida during in Marcos' regime eat Nutribun bre...   \n",
       "149  WHEN I WAS KID NO ONE GET STARVING BECAUSE PRE...   \n",
       "\n",
       "                                      Tweet Translated             Tweet Type  \\\n",
       "0    Yes friend, during the time of Marcos Sr., the...            Text, Reply   \n",
       "1    This is the Nutribun and milk that was provide...            Text, Image   \n",
       "2    For her birthday, Sen. Imee offers these nutri...     Text, Image, Reply   \n",
       "3    Because of Marcos, no student was hungry. Than...                   Text   \n",
       "4    eschuzme! @dawende, nobody went hungry during ...  Text, Reply (comment)   \n",
       "..                                                 ...                    ...   \n",
       "145  girl it's true!! My grandfather always said th...            Text, Reply   \n",
       "146  You say it's all Marcos's fault, but he was al...            Text, Reply   \n",
       "147  I was not born when President Marcos was in po...                   Text   \n",
       "148  Kida during in Marcos' regime eat Nutribun bre...            Text, Image   \n",
       "149  WHEN I WAS KID NO ONE GET STARVING BECAUSE PRE...            Text, Quote   \n",
       "\n",
       "          Date posted                                         Screenshot  \\\n",
       "0    08/06/2022 12:48  https://drive.google.com/file/d/1weUGYhQjHZ9jg...   \n",
       "1     17/09/2020 1:35  https://drive.google.com/file/d/1-MhBL8k7V3TBi...   \n",
       "2    12/11/2022 21:15  https://drive.google.com/file/d/1cs3B8smx65wTe...   \n",
       "3    20/03/2019 20:25  https://drive.google.com/file/d/1HaNIoJc7WmieU...   \n",
       "4    09/10/2020 11:25  https://drive.google.com/file/d/1iEKP_N0N-6fzM...   \n",
       "..                ...                                                ...   \n",
       "145  13/10/2021 19:23  https://drive.google.com/file/d/19_TcXZrd2jdjr...   \n",
       "146  19/10/2021 17:14  https://drive.google.com/file/d/18TXvLjyQ_cW9d...   \n",
       "147  12/10/2021 14:29  https://drive.google.com/file/d/1K_tP9_qMfbRAq...   \n",
       "148   20/10/2021 9:23  https://drive.google.com/file/d/1B5A2W-suyXrua...   \n",
       "149   18/10/2021 9:36  https://drive.google.com/file/d/153ofo4gbdOtXq...   \n",
       "\n",
       "    Content type  Likes Replies Retweets  \n",
       "0       Rational    1.0     0.0      0.0  \n",
       "1      Emotional   16.0     1.0      3.0  \n",
       "2       Rational  191.0    12.0     29.0  \n",
       "3      Emotional    0.0     1.0      0.0  \n",
       "4      Emotional    3.0     0.0      1.0  \n",
       "..           ...    ...     ...      ...  \n",
       "145     Rational    1.0     0.0      0.0  \n",
       "146    Emotional    5.0     4.0      0.0  \n",
       "147    Emotional    0.0     1.0      2.0  \n",
       "148     Rational   26.0     3.0      8.0  \n",
       "149    Emotional    0.0     0.0      0.0  \n",
       "\n",
       "[150 rows x 25 columns]"
      ]
     },
     "execution_count": 1,
     "metadata": {},
     "output_type": "execute_result"
    }
   ],
   "source": [
    "# Handling Missing Values / Ensuring No Missing Values\n",
    "\n",
    "import pandas as pd\n",
    "data = pd.read_csv('g23dataset.csv')\n",
    "data = data.iloc[:150]\n",
    "\n",
    "# replace empty cells (if there is) with \"NULL\"\n",
    "data.replace(r'^\\s*$', \"NULL\", regex=True)"
   ]
  },
  {
   "attachments": {},
   "cell_type": "markdown",
   "id": "31b9457a-c72f-45c5-899b-bcd15865272d",
   "metadata": {},
   "source": [
    "#### Handling Outliers and Ensuring Formatting Consistency (date, labels, etc.)\n",
    "\n",
    "To only keep tweets that were posted from 2016 to 2022, the code below was used. In the context of this project, we define the outliers as those that were tweeted outside of the years 2016-2022."
   ]
  },
  {
   "cell_type": "code",
   "execution_count": 2,
   "id": "d497cb2f-3054-4dc1-85a9-59415bb48417",
   "metadata": {},
   "outputs": [],
   "source": [
    "from datetime import datetime\n",
    "\n",
    "# Convert dates into Datetime Object\n",
    "newDates = []\n",
    "for index, row in data.iterrows():\n",
    "    newDate = datetime.strptime(data['Date posted'][index], '%d/%m/%Y %H:%M')\n",
    "    newDates.append(newDate)\n",
    "\n",
    "# Update 'Date posted' column with Dates in Datetime Object Format\n",
    "data['Date posted'] = newDates\n",
    "# Take only tweets that were posted between 2016 and 2022 inclusive\n",
    "mask = (data['Date posted'] >= '2016-01-01 00:00') & (data['Date posted'] <= '2022-12-31 00:00')\n",
    "data = data.loc[mask]"
   ]
  },
  {
   "attachments": {},
   "cell_type": "markdown",
   "id": "2a2501d8-09da-4e33-997f-d60476040571",
   "metadata": {},
   "source": [
    "#### Normalization/standardization/scaling\n",
    "\n",
    "Creating and adding standardized columns of the 'Following' and 'Followers' columns in the dataset"
   ]
  },
  {
   "cell_type": "code",
   "execution_count": 3,
   "id": "1769e6ff-294d-43cc-9df4-e02a17b6956f",
   "metadata": {},
   "outputs": [
    {
     "data": {
      "text/html": [
       "<div>\n",
       "<style scoped>\n",
       "    .dataframe tbody tr th:only-of-type {\n",
       "        vertical-align: middle;\n",
       "    }\n",
       "\n",
       "    .dataframe tbody tr th {\n",
       "        vertical-align: top;\n",
       "    }\n",
       "\n",
       "    .dataframe thead th {\n",
       "        text-align: right;\n",
       "    }\n",
       "</style>\n",
       "<table border=\"1\" class=\"dataframe\">\n",
       "  <thead>\n",
       "    <tr style=\"text-align: right;\">\n",
       "      <th></th>\n",
       "      <th>Date posted</th>\n",
       "      <th>Following (Standardized)</th>\n",
       "      <th>Followers (Standardized)</th>\n",
       "      <th>Likes (Standardized)</th>\n",
       "    </tr>\n",
       "  </thead>\n",
       "  <tbody>\n",
       "    <tr>\n",
       "      <th>0</th>\n",
       "      <td>2022-06-08 12:48:00</td>\n",
       "      <td>0.021925</td>\n",
       "      <td>-0.126628</td>\n",
       "      <td>-0.245358</td>\n",
       "    </tr>\n",
       "    <tr>\n",
       "      <th>1</th>\n",
       "      <td>2020-09-17 01:35:00</td>\n",
       "      <td>0.813428</td>\n",
       "      <td>-0.075867</td>\n",
       "      <td>-0.095056</td>\n",
       "    </tr>\n",
       "    <tr>\n",
       "      <th>2</th>\n",
       "      <td>2022-11-12 21:15:00</td>\n",
       "      <td>-0.680415</td>\n",
       "      <td>8.469706</td>\n",
       "      <td>1.658470</td>\n",
       "    </tr>\n",
       "    <tr>\n",
       "      <th>3</th>\n",
       "      <td>2019-03-20 20:25:00</td>\n",
       "      <td>-0.532784</td>\n",
       "      <td>-0.166978</td>\n",
       "      <td>-0.255378</td>\n",
       "    </tr>\n",
       "    <tr>\n",
       "      <th>4</th>\n",
       "      <td>2020-10-09 11:25:00</td>\n",
       "      <td>0.577366</td>\n",
       "      <td>-0.100380</td>\n",
       "      <td>-0.225318</td>\n",
       "    </tr>\n",
       "  </tbody>\n",
       "</table>\n",
       "</div>"
      ],
      "text/plain": [
       "          Date posted  Following (Standardized)  Followers (Standardized)  \\\n",
       "0 2022-06-08 12:48:00                  0.021925                 -0.126628   \n",
       "1 2020-09-17 01:35:00                  0.813428                 -0.075867   \n",
       "2 2022-11-12 21:15:00                 -0.680415                  8.469706   \n",
       "3 2019-03-20 20:25:00                 -0.532784                 -0.166978   \n",
       "4 2020-10-09 11:25:00                  0.577366                 -0.100380   \n",
       "\n",
       "   Likes (Standardized)  \n",
       "0             -0.245358  \n",
       "1             -0.095056  \n",
       "2              1.658470  \n",
       "3             -0.255378  \n",
       "4             -0.225318  "
      ]
     },
     "execution_count": 3,
     "metadata": {},
     "output_type": "execute_result"
    }
   ],
   "source": [
    "# Create column called 'Following (Standardized)' which is the standardized version of the 'Following' column\n",
    "data['Following (Standardized)'] = (data['Following'] - data['Following'].mean()) / data['Following'].std()\n",
    "# Create column called 'Followers (Standardized)' which is the standardized version of the 'Followers' column\n",
    "data['Followers (Standardized)'] = (data['Followers'] - data['Followers'].mean()) / data['Followers'].std()\n",
    "# Create column called 'Likes (Standardized)' which is the standardized version of the 'Likes' column\n",
    "data['Likes (Standardized)'] = (data['Likes'] - data['Likes'].mean()) / data['Likes'].std()\n",
    "\n",
    "tempData = pd.DataFrame(data['Date posted'])\n",
    "tempData = tempData.join(data['Following (Standardized)'])\n",
    "tempData = tempData.join(data['Followers (Standardized)'])\n",
    "tempData = tempData.join(data['Likes (Standardized)'])\n",
    "tempData.head()"
   ]
  },
  {
   "attachments": {},
   "cell_type": "markdown",
   "id": "1610f556-8de3-4877-bac4-8b99e419a527",
   "metadata": {},
   "source": [
    "#### Categorical data encoding\n",
    "\n",
    "In order to process correctly categorical data, it must undergo categorical data encoding. Namely, the account types will be assigned with 1 for identified accounts (or accounts that have real names, bio and/or verified), 2 for anonymous accounts (or accounts that have pseudonyms, aliases, or untraceable names/bio) and 3 for media accounts (or those used by news outlets/personalities)\n",
    "\n",
    "Moreover, tweet types are categorical encoded as follows: Text is assigned 1, Images are assigned 2, Tweets with videos are assigned 3, tweets with URLs are assigned 4 and replies are assigned 5\n",
    "\n",
    "Lastly, the content types are assigned as follows: Rational content is 1, Emotional content is 2 and Transactional content is 3. "
   ]
  },
  {
   "cell_type": "code",
   "execution_count": 4,
   "id": "3ac3b2bc-c9b8-40a1-8e49-3e496b4dfbb0",
   "metadata": {},
   "outputs": [],
   "source": [
    "# Categorizing Account Type\n",
    "def categorizeAccount(word):\n",
    "    if word == 'Identified':\n",
    "        return 1\n",
    "    elif word == 'Anonymous':\n",
    "        return 2\n",
    "    return 3\n",
    "\n",
    "# Categorizing Tweet Type\n",
    "def categorizeTweet(word):\n",
    "    if word == 'Text':\n",
    "        return 1\n",
    "    elif word == 'Image':\n",
    "        return 2\n",
    "    elif word == 'Video':\n",
    "        return 3\n",
    "    elif word == 'URL':\n",
    "        return 4\n",
    "    return 5\n",
    "\n",
    "# Categorizing Content Type\n",
    "def categorizeContent(word):\n",
    "    if word == 'Rational':\n",
    "        return 1\n",
    "    elif word == 'Emotional':\n",
    "        return 2\n",
    "    return 3"
   ]
  },
  {
   "attachments": {},
   "cell_type": "markdown",
   "id": "535c5910-cc60-4b01-b27b-f51017b3bbc0",
   "metadata": {},
   "source": [
    "### Natural Language Processing (NLP)\n",
    "\n",
    "To further make sense of the data, the preprocessed data uses NLP technique to understand the human language better."
   ]
  },
  {
   "cell_type": "code",
   "execution_count": 5,
   "id": "a745a065-1852-4b2d-8772-bd739db6c34b",
   "metadata": {},
   "outputs": [
    {
     "name": "stderr",
     "output_type": "stream",
     "text": [
      "[nltk_data] Downloading package punkt to\n",
      "[nltk_data]     C:\\Users\\ROG\\AppData\\Roaming\\nltk_data...\n",
      "[nltk_data]   Package punkt is already up-to-date!\n",
      "[nltk_data] Downloading package stopwords to\n",
      "[nltk_data]     C:\\Users\\ROG\\AppData\\Roaming\\nltk_data...\n",
      "[nltk_data]   Package stopwords is already up-to-date!\n",
      "[nltk_data] Downloading package wordnet to\n",
      "[nltk_data]     C:\\Users\\ROG\\AppData\\Roaming\\nltk_data...\n",
      "[nltk_data]   Package wordnet is already up-to-date!\n"
     ]
    },
    {
     "data": {
      "text/plain": [
       "True"
      ]
     },
     "execution_count": 5,
     "metadata": {},
     "output_type": "execute_result"
    }
   ],
   "source": [
    "# Import NLTK and make sure the relevant libraries are downloaded\n",
    "import nltk\n",
    "nltk.download('punkt')\n",
    "nltk.download('stopwords')\n",
    "nltk.download('wordnet')"
   ]
  },
  {
   "attachments": {},
   "cell_type": "markdown",
   "id": "b64379a7-b506-4137-b587-a222b79e0470",
   "metadata": {},
   "source": [
    "#### Tokenization and lower casing\n",
    "\n",
    "In order to transform our unstructured text data into a form fit for data analysis, there are several steps of preprocessing that need to be done.\n",
    "\n",
    "It is important to tokenize the text to make sure NLP libraries can process the raw text. The Natural Language Toolkit (NLTK) python module will be used to tokenize the text. The text is transformed to lowercase to make sure the same word will not be treated as separate tokens during parsing. Punctuation and emoji will also be removed since they are not relevant in determining the main keywords used in the tweets. The stopwords will be removed using NLTK as a basis before tokenizing the text. To make sure that words with similar meanings are not treated as distinct tokens, it is also important to lemmatize the tokens. Lemmatization simplifies the word to its base meaning, known as its lemma, in order to have better results in data analysis. This allows similar words such as \"better\" and \"good\" to be processed as similar tokens. All of these preprocessing methods will be applied to the tweets in the dataframe."
   ]
  },
  {
   "attachments": {},
   "cell_type": "markdown",
   "id": "ccd20ccb-daf5-4b94-bdc8-ccf4a60f9756",
   "metadata": {},
   "source": [
    "#### Stop words removal/Stemming and lemmatization\n",
    "\n",
    "It is important to tokenize the text to make sure NLP libraries can process the raw text. The Natural Language Toolkit (NLTK) python module will be used to tokenize the text. The text is transformed to lowercase to make sure the same word will not be treated as separate tokens during parsing. Punctuation and emoji will also be removed since they are not relevant in determining the main keywords used in the tweets. The stopwords will be removed using NLTK as a basis before tokenizing the text. To make sure that words with similar meanings are not treated as distinct tokens, it is also important to lemmatize the tokens. Lemmatization simplifies the word to its base meaning, known as its lemma, in order to have better results in data analysis. This allows similar words such as \"better\" and \"good\" to be processed as similar tokens. All of these preprocessing methods will be applied to the tweets in the dataframe."
   ]
  },
  {
   "cell_type": "code",
   "execution_count": 6,
   "id": "0880886e-f4e6-4998-a6ad-15937604e728",
   "metadata": {},
   "outputs": [
    {
     "data": {
      "text/html": [
       "<div>\n",
       "<style scoped>\n",
       "    .dataframe tbody tr th:only-of-type {\n",
       "        vertical-align: middle;\n",
       "    }\n",
       "\n",
       "    .dataframe tbody tr th {\n",
       "        vertical-align: top;\n",
       "    }\n",
       "\n",
       "    .dataframe thead th {\n",
       "        text-align: right;\n",
       "    }\n",
       "</style>\n",
       "<table border=\"1\" class=\"dataframe\">\n",
       "  <thead>\n",
       "    <tr style=\"text-align: right;\">\n",
       "      <th></th>\n",
       "      <th>0</th>\n",
       "    </tr>\n",
       "  </thead>\n",
       "  <tbody>\n",
       "    <tr>\n",
       "      <th>0</th>\n",
       "      <td>[yes, friend, time, marcos, sr, able, masagana...</td>\n",
       "    </tr>\n",
       "    <tr>\n",
       "      <th>1</th>\n",
       "      <td>[nutribun, milk, provided, student, time, ferd...</td>\n",
       "    </tr>\n",
       "    <tr>\n",
       "      <th>2</th>\n",
       "      <td>[birthday, sen, imee, offer, nutribuns, child,...</td>\n",
       "    </tr>\n",
       "    <tr>\n",
       "      <th>3</th>\n",
       "      <td>[marcos, student, hungry, thanks, nutribun, ma...</td>\n",
       "    </tr>\n",
       "    <tr>\n",
       "      <th>4</th>\n",
       "      <td>[eschuzme, dawende, nobody, went, hungry, marc...</td>\n",
       "    </tr>\n",
       "  </tbody>\n",
       "</table>\n",
       "</div>"
      ],
      "text/plain": [
       "                                                   0\n",
       "0  [yes, friend, time, marcos, sr, able, masagana...\n",
       "1  [nutribun, milk, provided, student, time, ferd...\n",
       "2  [birthday, sen, imee, offer, nutribuns, child,...\n",
       "3  [marcos, student, hungry, thanks, nutribun, ma...\n",
       "4  [eschuzme, dawende, nobody, went, hungry, marc..."
      ]
     },
     "execution_count": 6,
     "metadata": {},
     "output_type": "execute_result"
    }
   ],
   "source": [
    "# Extract the tweets\n",
    "tweets = data['Tweet Translated'].dropna()\n",
    "\n",
    "# Convert all tweets to lowercase\n",
    "tweets = tweets.str.lower()\n",
    "\n",
    "# Remove punctuation from tweets, remove stopwords then tokenize\n",
    "from nltk.corpus import stopwords\n",
    "from nltk.stem import WordNetLemmatizer\n",
    "\n",
    "lemmatizer = WordNetLemmatizer()\n",
    "\n",
    "# Create Tokenizer\n",
    "\n",
    "import re\n",
    "\n",
    "def tokenizer(text):\n",
    "    # URL Removal\n",
    "    text = re.sub(r\"http\\S+\", \"\", text)\n",
    "    \n",
    "    # Whitespace Removal\n",
    "#     text = re.sub(r\"[^\\w\\s]\", \"\", text)\n",
    "    \n",
    "    # Punctuation Removal\n",
    "    text = ''.join([c for c in text if c.isalnum() or c == ' '])\n",
    "    \n",
    "    # Tokenization\n",
    "    tok_list = nltk.word_tokenize(text)\n",
    "    \n",
    "    # Stopword Removal\n",
    "    tok_list = [word for word in tok_list if word not in stopwords.words('english')]\n",
    "    \n",
    "    # Lemmatization\n",
    "    tok_list = [lemmatizer.lemmatize(word) for word in tok_list]\n",
    "    \n",
    "    return tok_list\n",
    "\n",
    "processed_text = []\n",
    "\n",
    "for text in tweets:\n",
    "    processed_text.append(tokenizer(text))\n",
    "    \n",
    "tokenized_tweets = pd.DataFrame([processed_text])\n",
    "\n",
    "tokenized_tweets = tokenized_tweets.transpose()\n",
    "tokenized_tweets.head()"
   ]
  },
  {
   "attachments": {},
   "cell_type": "markdown",
   "id": "ccb412fe-cb6f-4fa0-accd-4f5cf31d4b2c",
   "metadata": {},
   "source": [
    "### Visualization\n",
    "\n",
    "These visualizations serve to aid the researchers in data processing and data analysis, as well as in presenting the data in an easily digestible format. The plots will be created using the `plotly` module."
   ]
  },
  {
   "attachments": {},
   "cell_type": "markdown",
   "id": "529ec799-1730-40d7-84e7-9e41c405d1e6",
   "metadata": {},
   "source": [
    "#### Plotting Token Count per Tweet\n",
    "\n",
    "This can be used to roughly estimate the time and space complexity of data processing and analysis methods. This will be especially relevant when processing the tokens into n-grams or using methods that suffer from the curse of dimensionality. As sen in the plot below, around half of the tweets have token counts greater than or equal to 20, which might significantly increase processing time of the afforementioned methods."
   ]
  },
  {
   "cell_type": "code",
   "execution_count": 7,
   "id": "d8d08671-7e0d-4948-be71-036d4af0e378",
   "metadata": {},
   "outputs": [
    {
     "data": {
      "application/vnd.plotly.v1+json": {
       "config": {
        "plotlyServerURL": "https://plot.ly"
       },
       "data": [
        {
         "alignmentgroup": "True",
         "bingroup": "x",
         "histfunc": "sum",
         "hovertemplate": "Token Count=%{x}<br>sum of Frequency of Token Count=%{y}<extra></extra>",
         "legendgroup": "",
         "marker": {
          "color": "#636efa",
          "pattern": {
           "shape": ""
          }
         },
         "name": "",
         "offsetgroup": "",
         "orientation": "v",
         "showlegend": false,
         "type": "histogram",
         "x": [
          3,
          5,
          6,
          7,
          8,
          9,
          10,
          11,
          12,
          13,
          14,
          15,
          16,
          17,
          18,
          19,
          20,
          21,
          22,
          23,
          24,
          25,
          26,
          27,
          28,
          29,
          30,
          31,
          32,
          33,
          36
         ],
         "xaxis": "x",
         "y": [
          1,
          1,
          4,
          7,
          3,
          3,
          6,
          1,
          5,
          6,
          6,
          3,
          3,
          6,
          6,
          7,
          3,
          14,
          3,
          9,
          6,
          9,
          7,
          3,
          6,
          7,
          7,
          3,
          1,
          2,
          1
         ],
         "yaxis": "y"
        }
       ],
       "layout": {
        "barmode": "relative",
        "legend": {
         "tracegroupgap": 0
        },
        "template": {
         "data": {
          "bar": [
           {
            "error_x": {
             "color": "#2a3f5f"
            },
            "error_y": {
             "color": "#2a3f5f"
            },
            "marker": {
             "line": {
              "color": "#E5ECF6",
              "width": 0.5
             },
             "pattern": {
              "fillmode": "overlay",
              "size": 10,
              "solidity": 0.2
             }
            },
            "type": "bar"
           }
          ],
          "barpolar": [
           {
            "marker": {
             "line": {
              "color": "#E5ECF6",
              "width": 0.5
             },
             "pattern": {
              "fillmode": "overlay",
              "size": 10,
              "solidity": 0.2
             }
            },
            "type": "barpolar"
           }
          ],
          "carpet": [
           {
            "aaxis": {
             "endlinecolor": "#2a3f5f",
             "gridcolor": "white",
             "linecolor": "white",
             "minorgridcolor": "white",
             "startlinecolor": "#2a3f5f"
            },
            "baxis": {
             "endlinecolor": "#2a3f5f",
             "gridcolor": "white",
             "linecolor": "white",
             "minorgridcolor": "white",
             "startlinecolor": "#2a3f5f"
            },
            "type": "carpet"
           }
          ],
          "choropleth": [
           {
            "colorbar": {
             "outlinewidth": 0,
             "ticks": ""
            },
            "type": "choropleth"
           }
          ],
          "contour": [
           {
            "colorbar": {
             "outlinewidth": 0,
             "ticks": ""
            },
            "colorscale": [
             [
              0,
              "#0d0887"
             ],
             [
              0.1111111111111111,
              "#46039f"
             ],
             [
              0.2222222222222222,
              "#7201a8"
             ],
             [
              0.3333333333333333,
              "#9c179e"
             ],
             [
              0.4444444444444444,
              "#bd3786"
             ],
             [
              0.5555555555555556,
              "#d8576b"
             ],
             [
              0.6666666666666666,
              "#ed7953"
             ],
             [
              0.7777777777777778,
              "#fb9f3a"
             ],
             [
              0.8888888888888888,
              "#fdca26"
             ],
             [
              1,
              "#f0f921"
             ]
            ],
            "type": "contour"
           }
          ],
          "contourcarpet": [
           {
            "colorbar": {
             "outlinewidth": 0,
             "ticks": ""
            },
            "type": "contourcarpet"
           }
          ],
          "heatmap": [
           {
            "colorbar": {
             "outlinewidth": 0,
             "ticks": ""
            },
            "colorscale": [
             [
              0,
              "#0d0887"
             ],
             [
              0.1111111111111111,
              "#46039f"
             ],
             [
              0.2222222222222222,
              "#7201a8"
             ],
             [
              0.3333333333333333,
              "#9c179e"
             ],
             [
              0.4444444444444444,
              "#bd3786"
             ],
             [
              0.5555555555555556,
              "#d8576b"
             ],
             [
              0.6666666666666666,
              "#ed7953"
             ],
             [
              0.7777777777777778,
              "#fb9f3a"
             ],
             [
              0.8888888888888888,
              "#fdca26"
             ],
             [
              1,
              "#f0f921"
             ]
            ],
            "type": "heatmap"
           }
          ],
          "heatmapgl": [
           {
            "colorbar": {
             "outlinewidth": 0,
             "ticks": ""
            },
            "colorscale": [
             [
              0,
              "#0d0887"
             ],
             [
              0.1111111111111111,
              "#46039f"
             ],
             [
              0.2222222222222222,
              "#7201a8"
             ],
             [
              0.3333333333333333,
              "#9c179e"
             ],
             [
              0.4444444444444444,
              "#bd3786"
             ],
             [
              0.5555555555555556,
              "#d8576b"
             ],
             [
              0.6666666666666666,
              "#ed7953"
             ],
             [
              0.7777777777777778,
              "#fb9f3a"
             ],
             [
              0.8888888888888888,
              "#fdca26"
             ],
             [
              1,
              "#f0f921"
             ]
            ],
            "type": "heatmapgl"
           }
          ],
          "histogram": [
           {
            "marker": {
             "pattern": {
              "fillmode": "overlay",
              "size": 10,
              "solidity": 0.2
             }
            },
            "type": "histogram"
           }
          ],
          "histogram2d": [
           {
            "colorbar": {
             "outlinewidth": 0,
             "ticks": ""
            },
            "colorscale": [
             [
              0,
              "#0d0887"
             ],
             [
              0.1111111111111111,
              "#46039f"
             ],
             [
              0.2222222222222222,
              "#7201a8"
             ],
             [
              0.3333333333333333,
              "#9c179e"
             ],
             [
              0.4444444444444444,
              "#bd3786"
             ],
             [
              0.5555555555555556,
              "#d8576b"
             ],
             [
              0.6666666666666666,
              "#ed7953"
             ],
             [
              0.7777777777777778,
              "#fb9f3a"
             ],
             [
              0.8888888888888888,
              "#fdca26"
             ],
             [
              1,
              "#f0f921"
             ]
            ],
            "type": "histogram2d"
           }
          ],
          "histogram2dcontour": [
           {
            "colorbar": {
             "outlinewidth": 0,
             "ticks": ""
            },
            "colorscale": [
             [
              0,
              "#0d0887"
             ],
             [
              0.1111111111111111,
              "#46039f"
             ],
             [
              0.2222222222222222,
              "#7201a8"
             ],
             [
              0.3333333333333333,
              "#9c179e"
             ],
             [
              0.4444444444444444,
              "#bd3786"
             ],
             [
              0.5555555555555556,
              "#d8576b"
             ],
             [
              0.6666666666666666,
              "#ed7953"
             ],
             [
              0.7777777777777778,
              "#fb9f3a"
             ],
             [
              0.8888888888888888,
              "#fdca26"
             ],
             [
              1,
              "#f0f921"
             ]
            ],
            "type": "histogram2dcontour"
           }
          ],
          "mesh3d": [
           {
            "colorbar": {
             "outlinewidth": 0,
             "ticks": ""
            },
            "type": "mesh3d"
           }
          ],
          "parcoords": [
           {
            "line": {
             "colorbar": {
              "outlinewidth": 0,
              "ticks": ""
             }
            },
            "type": "parcoords"
           }
          ],
          "pie": [
           {
            "automargin": true,
            "type": "pie"
           }
          ],
          "scatter": [
           {
            "marker": {
             "colorbar": {
              "outlinewidth": 0,
              "ticks": ""
             }
            },
            "type": "scatter"
           }
          ],
          "scatter3d": [
           {
            "line": {
             "colorbar": {
              "outlinewidth": 0,
              "ticks": ""
             }
            },
            "marker": {
             "colorbar": {
              "outlinewidth": 0,
              "ticks": ""
             }
            },
            "type": "scatter3d"
           }
          ],
          "scattercarpet": [
           {
            "marker": {
             "colorbar": {
              "outlinewidth": 0,
              "ticks": ""
             }
            },
            "type": "scattercarpet"
           }
          ],
          "scattergeo": [
           {
            "marker": {
             "colorbar": {
              "outlinewidth": 0,
              "ticks": ""
             }
            },
            "type": "scattergeo"
           }
          ],
          "scattergl": [
           {
            "marker": {
             "colorbar": {
              "outlinewidth": 0,
              "ticks": ""
             }
            },
            "type": "scattergl"
           }
          ],
          "scattermapbox": [
           {
            "marker": {
             "colorbar": {
              "outlinewidth": 0,
              "ticks": ""
             }
            },
            "type": "scattermapbox"
           }
          ],
          "scatterpolar": [
           {
            "marker": {
             "colorbar": {
              "outlinewidth": 0,
              "ticks": ""
             }
            },
            "type": "scatterpolar"
           }
          ],
          "scatterpolargl": [
           {
            "marker": {
             "colorbar": {
              "outlinewidth": 0,
              "ticks": ""
             }
            },
            "type": "scatterpolargl"
           }
          ],
          "scatterternary": [
           {
            "marker": {
             "colorbar": {
              "outlinewidth": 0,
              "ticks": ""
             }
            },
            "type": "scatterternary"
           }
          ],
          "surface": [
           {
            "colorbar": {
             "outlinewidth": 0,
             "ticks": ""
            },
            "colorscale": [
             [
              0,
              "#0d0887"
             ],
             [
              0.1111111111111111,
              "#46039f"
             ],
             [
              0.2222222222222222,
              "#7201a8"
             ],
             [
              0.3333333333333333,
              "#9c179e"
             ],
             [
              0.4444444444444444,
              "#bd3786"
             ],
             [
              0.5555555555555556,
              "#d8576b"
             ],
             [
              0.6666666666666666,
              "#ed7953"
             ],
             [
              0.7777777777777778,
              "#fb9f3a"
             ],
             [
              0.8888888888888888,
              "#fdca26"
             ],
             [
              1,
              "#f0f921"
             ]
            ],
            "type": "surface"
           }
          ],
          "table": [
           {
            "cells": {
             "fill": {
              "color": "#EBF0F8"
             },
             "line": {
              "color": "white"
             }
            },
            "header": {
             "fill": {
              "color": "#C8D4E3"
             },
             "line": {
              "color": "white"
             }
            },
            "type": "table"
           }
          ]
         },
         "layout": {
          "annotationdefaults": {
           "arrowcolor": "#2a3f5f",
           "arrowhead": 0,
           "arrowwidth": 1
          },
          "autotypenumbers": "strict",
          "coloraxis": {
           "colorbar": {
            "outlinewidth": 0,
            "ticks": ""
           }
          },
          "colorscale": {
           "diverging": [
            [
             0,
             "#8e0152"
            ],
            [
             0.1,
             "#c51b7d"
            ],
            [
             0.2,
             "#de77ae"
            ],
            [
             0.3,
             "#f1b6da"
            ],
            [
             0.4,
             "#fde0ef"
            ],
            [
             0.5,
             "#f7f7f7"
            ],
            [
             0.6,
             "#e6f5d0"
            ],
            [
             0.7,
             "#b8e186"
            ],
            [
             0.8,
             "#7fbc41"
            ],
            [
             0.9,
             "#4d9221"
            ],
            [
             1,
             "#276419"
            ]
           ],
           "sequential": [
            [
             0,
             "#0d0887"
            ],
            [
             0.1111111111111111,
             "#46039f"
            ],
            [
             0.2222222222222222,
             "#7201a8"
            ],
            [
             0.3333333333333333,
             "#9c179e"
            ],
            [
             0.4444444444444444,
             "#bd3786"
            ],
            [
             0.5555555555555556,
             "#d8576b"
            ],
            [
             0.6666666666666666,
             "#ed7953"
            ],
            [
             0.7777777777777778,
             "#fb9f3a"
            ],
            [
             0.8888888888888888,
             "#fdca26"
            ],
            [
             1,
             "#f0f921"
            ]
           ],
           "sequentialminus": [
            [
             0,
             "#0d0887"
            ],
            [
             0.1111111111111111,
             "#46039f"
            ],
            [
             0.2222222222222222,
             "#7201a8"
            ],
            [
             0.3333333333333333,
             "#9c179e"
            ],
            [
             0.4444444444444444,
             "#bd3786"
            ],
            [
             0.5555555555555556,
             "#d8576b"
            ],
            [
             0.6666666666666666,
             "#ed7953"
            ],
            [
             0.7777777777777778,
             "#fb9f3a"
            ],
            [
             0.8888888888888888,
             "#fdca26"
            ],
            [
             1,
             "#f0f921"
            ]
           ]
          },
          "colorway": [
           "#636efa",
           "#EF553B",
           "#00cc96",
           "#ab63fa",
           "#FFA15A",
           "#19d3f3",
           "#FF6692",
           "#B6E880",
           "#FF97FF",
           "#FECB52"
          ],
          "font": {
           "color": "#2a3f5f"
          },
          "geo": {
           "bgcolor": "white",
           "lakecolor": "white",
           "landcolor": "#E5ECF6",
           "showlakes": true,
           "showland": true,
           "subunitcolor": "white"
          },
          "hoverlabel": {
           "align": "left"
          },
          "hovermode": "closest",
          "mapbox": {
           "style": "light"
          },
          "paper_bgcolor": "white",
          "plot_bgcolor": "#E5ECF6",
          "polar": {
           "angularaxis": {
            "gridcolor": "white",
            "linecolor": "white",
            "ticks": ""
           },
           "bgcolor": "#E5ECF6",
           "radialaxis": {
            "gridcolor": "white",
            "linecolor": "white",
            "ticks": ""
           }
          },
          "scene": {
           "xaxis": {
            "backgroundcolor": "#E5ECF6",
            "gridcolor": "white",
            "gridwidth": 2,
            "linecolor": "white",
            "showbackground": true,
            "ticks": "",
            "zerolinecolor": "white"
           },
           "yaxis": {
            "backgroundcolor": "#E5ECF6",
            "gridcolor": "white",
            "gridwidth": 2,
            "linecolor": "white",
            "showbackground": true,
            "ticks": "",
            "zerolinecolor": "white"
           },
           "zaxis": {
            "backgroundcolor": "#E5ECF6",
            "gridcolor": "white",
            "gridwidth": 2,
            "linecolor": "white",
            "showbackground": true,
            "ticks": "",
            "zerolinecolor": "white"
           }
          },
          "shapedefaults": {
           "line": {
            "color": "#2a3f5f"
           }
          },
          "ternary": {
           "aaxis": {
            "gridcolor": "white",
            "linecolor": "white",
            "ticks": ""
           },
           "baxis": {
            "gridcolor": "white",
            "linecolor": "white",
            "ticks": ""
           },
           "bgcolor": "#E5ECF6",
           "caxis": {
            "gridcolor": "white",
            "linecolor": "white",
            "ticks": ""
           }
          },
          "title": {
           "x": 0.05
          },
          "xaxis": {
           "automargin": true,
           "gridcolor": "white",
           "linecolor": "white",
           "ticks": "",
           "title": {
            "standoff": 15
           },
           "zerolinecolor": "white",
           "zerolinewidth": 2
          },
          "yaxis": {
           "automargin": true,
           "gridcolor": "white",
           "linecolor": "white",
           "ticks": "",
           "title": {
            "standoff": 15
           },
           "zerolinecolor": "white",
           "zerolinewidth": 2
          }
         }
        },
        "title": {
         "text": "Frequency of Token Counts in Tweets"
        },
        "xaxis": {
         "anchor": "y",
         "domain": [
          0,
          1
         ],
         "title": {
          "text": "Token Count"
         }
        },
        "yaxis": {
         "anchor": "x",
         "domain": [
          0,
          1
         ],
         "title": {
          "text": "sum of Frequency of Token Count"
         }
        }
       }
      }
     },
     "metadata": {},
     "output_type": "display_data"
    }
   ],
   "source": [
    "# Get token counts of tweets\n",
    "tweet_token_count = []\n",
    "\n",
    "for i in range(len(tokenized_tweets)):\n",
    "    tok_list = tokenized_tweets[0][i]\n",
    "    tweet_token_count.append(len(tok_list))\n",
    "\n",
    "tok_count = []\n",
    "tok_count_freq = []\n",
    "\n",
    "for n in set(tweet_token_count):\n",
    "    tok_count.append(n)\n",
    "    tok_count_freq.append(tweet_token_count.count(n))\n",
    "\n",
    "tok_count_df = pd.DataFrame({'Token Count': tok_count, 'Frequency of Token Count': tok_count_freq})\n",
    "    \n",
    "# Plot token counts in Histogram\n",
    "\n",
    "import plotly.express as px\n",
    "fig = px.histogram(tok_count_df, x='Token Count', y='Frequency of Token Count', title='Frequency of Token Counts in Tweets')\n",
    "fig.show()\n",
    "fig.write_html(\"plots_tokcountfreq.html\")"
   ]
  },
  {
   "attachments": {},
   "cell_type": "markdown",
   "id": "69e18979-6f5e-4381-b83e-e5bb36d9fda1",
   "metadata": {},
   "source": [
    "#### Displaying the most common tokens\n",
    "\n",
    "This will be used to get an initial glimpse of the most common keywords before the data analysis and clustering."
   ]
  },
  {
   "cell_type": "code",
   "execution_count": 8,
   "id": "34586afc-a131-4c3d-bd73-0735695cdacf",
   "metadata": {},
   "outputs": [
    {
     "data": {
      "application/vnd.plotly.v1+json": {
       "config": {
        "plotlyServerURL": "https://plot.ly"
       },
       "data": [
        {
         "alignmentgroup": "True",
         "bingroup": "x",
         "histfunc": "sum",
         "hovertemplate": "Token=%{x}<br>sum of Frequency of Token=%{y}<extra></extra>",
         "legendgroup": "",
         "marker": {
          "color": "#636efa",
          "pattern": {
           "shape": ""
          }
         },
         "name": "",
         "offsetgroup": "",
         "orientation": "v",
         "showlegend": false,
         "type": "histogram",
         "x": [
          "philippine",
          "cheap",
          "back",
          "marcos",
          "people",
          "child",
          "one",
          "hungry",
          "good",
          "school",
          "still",
          "went",
          "rice",
          "president",
          "even",
          "milk",
          "poor",
          "food",
          "nutribun",
          "time",
          "free"
         ],
         "xaxis": "x",
         "y": [
          18,
          25,
          38,
          168,
          19,
          16,
          16,
          36,
          24,
          33,
          17,
          21,
          30,
          29,
          36,
          20,
          22,
          51,
          35,
          124,
          65
         ],
         "yaxis": "y"
        }
       ],
       "layout": {
        "barmode": "relative",
        "legend": {
         "tracegroupgap": 0
        },
        "template": {
         "data": {
          "bar": [
           {
            "error_x": {
             "color": "#2a3f5f"
            },
            "error_y": {
             "color": "#2a3f5f"
            },
            "marker": {
             "line": {
              "color": "#E5ECF6",
              "width": 0.5
             },
             "pattern": {
              "fillmode": "overlay",
              "size": 10,
              "solidity": 0.2
             }
            },
            "type": "bar"
           }
          ],
          "barpolar": [
           {
            "marker": {
             "line": {
              "color": "#E5ECF6",
              "width": 0.5
             },
             "pattern": {
              "fillmode": "overlay",
              "size": 10,
              "solidity": 0.2
             }
            },
            "type": "barpolar"
           }
          ],
          "carpet": [
           {
            "aaxis": {
             "endlinecolor": "#2a3f5f",
             "gridcolor": "white",
             "linecolor": "white",
             "minorgridcolor": "white",
             "startlinecolor": "#2a3f5f"
            },
            "baxis": {
             "endlinecolor": "#2a3f5f",
             "gridcolor": "white",
             "linecolor": "white",
             "minorgridcolor": "white",
             "startlinecolor": "#2a3f5f"
            },
            "type": "carpet"
           }
          ],
          "choropleth": [
           {
            "colorbar": {
             "outlinewidth": 0,
             "ticks": ""
            },
            "type": "choropleth"
           }
          ],
          "contour": [
           {
            "colorbar": {
             "outlinewidth": 0,
             "ticks": ""
            },
            "colorscale": [
             [
              0,
              "#0d0887"
             ],
             [
              0.1111111111111111,
              "#46039f"
             ],
             [
              0.2222222222222222,
              "#7201a8"
             ],
             [
              0.3333333333333333,
              "#9c179e"
             ],
             [
              0.4444444444444444,
              "#bd3786"
             ],
             [
              0.5555555555555556,
              "#d8576b"
             ],
             [
              0.6666666666666666,
              "#ed7953"
             ],
             [
              0.7777777777777778,
              "#fb9f3a"
             ],
             [
              0.8888888888888888,
              "#fdca26"
             ],
             [
              1,
              "#f0f921"
             ]
            ],
            "type": "contour"
           }
          ],
          "contourcarpet": [
           {
            "colorbar": {
             "outlinewidth": 0,
             "ticks": ""
            },
            "type": "contourcarpet"
           }
          ],
          "heatmap": [
           {
            "colorbar": {
             "outlinewidth": 0,
             "ticks": ""
            },
            "colorscale": [
             [
              0,
              "#0d0887"
             ],
             [
              0.1111111111111111,
              "#46039f"
             ],
             [
              0.2222222222222222,
              "#7201a8"
             ],
             [
              0.3333333333333333,
              "#9c179e"
             ],
             [
              0.4444444444444444,
              "#bd3786"
             ],
             [
              0.5555555555555556,
              "#d8576b"
             ],
             [
              0.6666666666666666,
              "#ed7953"
             ],
             [
              0.7777777777777778,
              "#fb9f3a"
             ],
             [
              0.8888888888888888,
              "#fdca26"
             ],
             [
              1,
              "#f0f921"
             ]
            ],
            "type": "heatmap"
           }
          ],
          "heatmapgl": [
           {
            "colorbar": {
             "outlinewidth": 0,
             "ticks": ""
            },
            "colorscale": [
             [
              0,
              "#0d0887"
             ],
             [
              0.1111111111111111,
              "#46039f"
             ],
             [
              0.2222222222222222,
              "#7201a8"
             ],
             [
              0.3333333333333333,
              "#9c179e"
             ],
             [
              0.4444444444444444,
              "#bd3786"
             ],
             [
              0.5555555555555556,
              "#d8576b"
             ],
             [
              0.6666666666666666,
              "#ed7953"
             ],
             [
              0.7777777777777778,
              "#fb9f3a"
             ],
             [
              0.8888888888888888,
              "#fdca26"
             ],
             [
              1,
              "#f0f921"
             ]
            ],
            "type": "heatmapgl"
           }
          ],
          "histogram": [
           {
            "marker": {
             "pattern": {
              "fillmode": "overlay",
              "size": 10,
              "solidity": 0.2
             }
            },
            "type": "histogram"
           }
          ],
          "histogram2d": [
           {
            "colorbar": {
             "outlinewidth": 0,
             "ticks": ""
            },
            "colorscale": [
             [
              0,
              "#0d0887"
             ],
             [
              0.1111111111111111,
              "#46039f"
             ],
             [
              0.2222222222222222,
              "#7201a8"
             ],
             [
              0.3333333333333333,
              "#9c179e"
             ],
             [
              0.4444444444444444,
              "#bd3786"
             ],
             [
              0.5555555555555556,
              "#d8576b"
             ],
             [
              0.6666666666666666,
              "#ed7953"
             ],
             [
              0.7777777777777778,
              "#fb9f3a"
             ],
             [
              0.8888888888888888,
              "#fdca26"
             ],
             [
              1,
              "#f0f921"
             ]
            ],
            "type": "histogram2d"
           }
          ],
          "histogram2dcontour": [
           {
            "colorbar": {
             "outlinewidth": 0,
             "ticks": ""
            },
            "colorscale": [
             [
              0,
              "#0d0887"
             ],
             [
              0.1111111111111111,
              "#46039f"
             ],
             [
              0.2222222222222222,
              "#7201a8"
             ],
             [
              0.3333333333333333,
              "#9c179e"
             ],
             [
              0.4444444444444444,
              "#bd3786"
             ],
             [
              0.5555555555555556,
              "#d8576b"
             ],
             [
              0.6666666666666666,
              "#ed7953"
             ],
             [
              0.7777777777777778,
              "#fb9f3a"
             ],
             [
              0.8888888888888888,
              "#fdca26"
             ],
             [
              1,
              "#f0f921"
             ]
            ],
            "type": "histogram2dcontour"
           }
          ],
          "mesh3d": [
           {
            "colorbar": {
             "outlinewidth": 0,
             "ticks": ""
            },
            "type": "mesh3d"
           }
          ],
          "parcoords": [
           {
            "line": {
             "colorbar": {
              "outlinewidth": 0,
              "ticks": ""
             }
            },
            "type": "parcoords"
           }
          ],
          "pie": [
           {
            "automargin": true,
            "type": "pie"
           }
          ],
          "scatter": [
           {
            "marker": {
             "colorbar": {
              "outlinewidth": 0,
              "ticks": ""
             }
            },
            "type": "scatter"
           }
          ],
          "scatter3d": [
           {
            "line": {
             "colorbar": {
              "outlinewidth": 0,
              "ticks": ""
             }
            },
            "marker": {
             "colorbar": {
              "outlinewidth": 0,
              "ticks": ""
             }
            },
            "type": "scatter3d"
           }
          ],
          "scattercarpet": [
           {
            "marker": {
             "colorbar": {
              "outlinewidth": 0,
              "ticks": ""
             }
            },
            "type": "scattercarpet"
           }
          ],
          "scattergeo": [
           {
            "marker": {
             "colorbar": {
              "outlinewidth": 0,
              "ticks": ""
             }
            },
            "type": "scattergeo"
           }
          ],
          "scattergl": [
           {
            "marker": {
             "colorbar": {
              "outlinewidth": 0,
              "ticks": ""
             }
            },
            "type": "scattergl"
           }
          ],
          "scattermapbox": [
           {
            "marker": {
             "colorbar": {
              "outlinewidth": 0,
              "ticks": ""
             }
            },
            "type": "scattermapbox"
           }
          ],
          "scatterpolar": [
           {
            "marker": {
             "colorbar": {
              "outlinewidth": 0,
              "ticks": ""
             }
            },
            "type": "scatterpolar"
           }
          ],
          "scatterpolargl": [
           {
            "marker": {
             "colorbar": {
              "outlinewidth": 0,
              "ticks": ""
             }
            },
            "type": "scatterpolargl"
           }
          ],
          "scatterternary": [
           {
            "marker": {
             "colorbar": {
              "outlinewidth": 0,
              "ticks": ""
             }
            },
            "type": "scatterternary"
           }
          ],
          "surface": [
           {
            "colorbar": {
             "outlinewidth": 0,
             "ticks": ""
            },
            "colorscale": [
             [
              0,
              "#0d0887"
             ],
             [
              0.1111111111111111,
              "#46039f"
             ],
             [
              0.2222222222222222,
              "#7201a8"
             ],
             [
              0.3333333333333333,
              "#9c179e"
             ],
             [
              0.4444444444444444,
              "#bd3786"
             ],
             [
              0.5555555555555556,
              "#d8576b"
             ],
             [
              0.6666666666666666,
              "#ed7953"
             ],
             [
              0.7777777777777778,
              "#fb9f3a"
             ],
             [
              0.8888888888888888,
              "#fdca26"
             ],
             [
              1,
              "#f0f921"
             ]
            ],
            "type": "surface"
           }
          ],
          "table": [
           {
            "cells": {
             "fill": {
              "color": "#EBF0F8"
             },
             "line": {
              "color": "white"
             }
            },
            "header": {
             "fill": {
              "color": "#C8D4E3"
             },
             "line": {
              "color": "white"
             }
            },
            "type": "table"
           }
          ]
         },
         "layout": {
          "annotationdefaults": {
           "arrowcolor": "#2a3f5f",
           "arrowhead": 0,
           "arrowwidth": 1
          },
          "autotypenumbers": "strict",
          "coloraxis": {
           "colorbar": {
            "outlinewidth": 0,
            "ticks": ""
           }
          },
          "colorscale": {
           "diverging": [
            [
             0,
             "#8e0152"
            ],
            [
             0.1,
             "#c51b7d"
            ],
            [
             0.2,
             "#de77ae"
            ],
            [
             0.3,
             "#f1b6da"
            ],
            [
             0.4,
             "#fde0ef"
            ],
            [
             0.5,
             "#f7f7f7"
            ],
            [
             0.6,
             "#e6f5d0"
            ],
            [
             0.7,
             "#b8e186"
            ],
            [
             0.8,
             "#7fbc41"
            ],
            [
             0.9,
             "#4d9221"
            ],
            [
             1,
             "#276419"
            ]
           ],
           "sequential": [
            [
             0,
             "#0d0887"
            ],
            [
             0.1111111111111111,
             "#46039f"
            ],
            [
             0.2222222222222222,
             "#7201a8"
            ],
            [
             0.3333333333333333,
             "#9c179e"
            ],
            [
             0.4444444444444444,
             "#bd3786"
            ],
            [
             0.5555555555555556,
             "#d8576b"
            ],
            [
             0.6666666666666666,
             "#ed7953"
            ],
            [
             0.7777777777777778,
             "#fb9f3a"
            ],
            [
             0.8888888888888888,
             "#fdca26"
            ],
            [
             1,
             "#f0f921"
            ]
           ],
           "sequentialminus": [
            [
             0,
             "#0d0887"
            ],
            [
             0.1111111111111111,
             "#46039f"
            ],
            [
             0.2222222222222222,
             "#7201a8"
            ],
            [
             0.3333333333333333,
             "#9c179e"
            ],
            [
             0.4444444444444444,
             "#bd3786"
            ],
            [
             0.5555555555555556,
             "#d8576b"
            ],
            [
             0.6666666666666666,
             "#ed7953"
            ],
            [
             0.7777777777777778,
             "#fb9f3a"
            ],
            [
             0.8888888888888888,
             "#fdca26"
            ],
            [
             1,
             "#f0f921"
            ]
           ]
          },
          "colorway": [
           "#636efa",
           "#EF553B",
           "#00cc96",
           "#ab63fa",
           "#FFA15A",
           "#19d3f3",
           "#FF6692",
           "#B6E880",
           "#FF97FF",
           "#FECB52"
          ],
          "font": {
           "color": "#2a3f5f"
          },
          "geo": {
           "bgcolor": "white",
           "lakecolor": "white",
           "landcolor": "#E5ECF6",
           "showlakes": true,
           "showland": true,
           "subunitcolor": "white"
          },
          "hoverlabel": {
           "align": "left"
          },
          "hovermode": "closest",
          "mapbox": {
           "style": "light"
          },
          "paper_bgcolor": "white",
          "plot_bgcolor": "#E5ECF6",
          "polar": {
           "angularaxis": {
            "gridcolor": "white",
            "linecolor": "white",
            "ticks": ""
           },
           "bgcolor": "#E5ECF6",
           "radialaxis": {
            "gridcolor": "white",
            "linecolor": "white",
            "ticks": ""
           }
          },
          "scene": {
           "xaxis": {
            "backgroundcolor": "#E5ECF6",
            "gridcolor": "white",
            "gridwidth": 2,
            "linecolor": "white",
            "showbackground": true,
            "ticks": "",
            "zerolinecolor": "white"
           },
           "yaxis": {
            "backgroundcolor": "#E5ECF6",
            "gridcolor": "white",
            "gridwidth": 2,
            "linecolor": "white",
            "showbackground": true,
            "ticks": "",
            "zerolinecolor": "white"
           },
           "zaxis": {
            "backgroundcolor": "#E5ECF6",
            "gridcolor": "white",
            "gridwidth": 2,
            "linecolor": "white",
            "showbackground": true,
            "ticks": "",
            "zerolinecolor": "white"
           }
          },
          "shapedefaults": {
           "line": {
            "color": "#2a3f5f"
           }
          },
          "ternary": {
           "aaxis": {
            "gridcolor": "white",
            "linecolor": "white",
            "ticks": ""
           },
           "baxis": {
            "gridcolor": "white",
            "linecolor": "white",
            "ticks": ""
           },
           "bgcolor": "#E5ECF6",
           "caxis": {
            "gridcolor": "white",
            "linecolor": "white",
            "ticks": ""
           }
          },
          "title": {
           "x": 0.05
          },
          "xaxis": {
           "automargin": true,
           "gridcolor": "white",
           "linecolor": "white",
           "ticks": "",
           "title": {
            "standoff": 15
           },
           "zerolinecolor": "white",
           "zerolinewidth": 2
          },
          "yaxis": {
           "automargin": true,
           "gridcolor": "white",
           "linecolor": "white",
           "ticks": "",
           "title": {
            "standoff": 15
           },
           "zerolinecolor": "white",
           "zerolinewidth": 2
          }
         }
        },
        "title": {
         "text": "Frequency of Tokens"
        },
        "xaxis": {
         "anchor": "y",
         "domain": [
          0,
          1
         ],
         "title": {
          "text": "Token"
         }
        },
        "yaxis": {
         "anchor": "x",
         "domain": [
          0,
          1
         ],
         "title": {
          "text": "sum of Frequency of Token"
         }
        }
       }
      }
     },
     "metadata": {},
     "output_type": "display_data"
    }
   ],
   "source": [
    "all_tokens = []\n",
    "\n",
    "for i in range(len(tokenized_tweets)):\n",
    "    all_tokens.extend(tokenized_tweets[0][i])\n",
    "    \n",
    "tok = []\n",
    "tok_freq = []\n",
    "\n",
    "for n in set(all_tokens):\n",
    "    tok_count = all_tokens.count(n)\n",
    "    if tok_count > 15:\n",
    "        tok.append(n)\n",
    "        tok_freq.append(all_tokens.count(n))\n",
    "\n",
    "tok_freq_df = pd.DataFrame({'Token': tok, 'Frequency of Token': tok_freq})\n",
    "    \n",
    "# Plot token frequency in Histogram\n",
    "\n",
    "fig = px.histogram(tok_freq_df, x='Token', y='Frequency of Token', title='Frequency of Tokens')\n",
    "fig.show()\n",
    "fig.write_html(\"plots_tokfreq.html\")"
   ]
  },
  {
   "cell_type": "code",
   "execution_count": null,
   "id": "79aca7ae-b022-4701-986f-4db1d4ec5680",
   "metadata": {},
   "outputs": [],
   "source": [
    "from wordcloud import WordCloud\n",
    "import matplotlib.pyplot as plt\n",
    "\n",
    "wordcloud = WordCloud(width = 1600, height = 900,\n",
    "                background_color ='white',\n",
    "                min_font_size = 10).generate(' '.join(all_tokens))\n",
    "plt.figure(figsize = (8, 8), facecolor = None)\n",
    "plt.imshow(wordcloud)\n",
    "plt.axis(\"off\")\n",
    "plt.tight_layout(pad = 0)\n",
    " \n",
    "plt.show()"
   ]
  },
  {
   "attachments": {},
   "cell_type": "markdown",
   "id": "0106c303-8b82-45c2-91ca-d01f588dd4d0",
   "metadata": {},
   "source": [
    "#### Bar Chart for frequency of content types"
   ]
  },
  {
   "cell_type": "code",
   "execution_count": null,
   "id": "51b86098-94fa-4348-9f41-48803e2e7221",
   "metadata": {},
   "outputs": [
    {
     "data": {
      "application/vnd.plotly.v1+json": {
       "config": {
        "plotlyServerURL": "https://plot.ly"
       },
       "data": [
        {
         "alignmentgroup": "True",
         "hovertemplate": "Content type=%{x}<br>Frequency=%{y}<extra></extra>",
         "legendgroup": "",
         "marker": {
          "color": "#636efa",
          "pattern": {
           "shape": ""
          }
         },
         "name": "",
         "offsetgroup": "",
         "orientation": "v",
         "showlegend": false,
         "textposition": "auto",
         "type": "bar",
         "x": [
          "Rational",
          "Emotional",
          "Transactional"
         ],
         "xaxis": "x",
         "y": [
          84,
          63,
          0
         ],
         "yaxis": "y"
        }
       ],
       "layout": {
        "barmode": "relative",
        "legend": {
         "tracegroupgap": 0
        },
        "template": {
         "data": {
          "bar": [
           {
            "error_x": {
             "color": "#2a3f5f"
            },
            "error_y": {
             "color": "#2a3f5f"
            },
            "marker": {
             "line": {
              "color": "#E5ECF6",
              "width": 0.5
             },
             "pattern": {
              "fillmode": "overlay",
              "size": 10,
              "solidity": 0.2
             }
            },
            "type": "bar"
           }
          ],
          "barpolar": [
           {
            "marker": {
             "line": {
              "color": "#E5ECF6",
              "width": 0.5
             },
             "pattern": {
              "fillmode": "overlay",
              "size": 10,
              "solidity": 0.2
             }
            },
            "type": "barpolar"
           }
          ],
          "carpet": [
           {
            "aaxis": {
             "endlinecolor": "#2a3f5f",
             "gridcolor": "white",
             "linecolor": "white",
             "minorgridcolor": "white",
             "startlinecolor": "#2a3f5f"
            },
            "baxis": {
             "endlinecolor": "#2a3f5f",
             "gridcolor": "white",
             "linecolor": "white",
             "minorgridcolor": "white",
             "startlinecolor": "#2a3f5f"
            },
            "type": "carpet"
           }
          ],
          "choropleth": [
           {
            "colorbar": {
             "outlinewidth": 0,
             "ticks": ""
            },
            "type": "choropleth"
           }
          ],
          "contour": [
           {
            "colorbar": {
             "outlinewidth": 0,
             "ticks": ""
            },
            "colorscale": [
             [
              0,
              "#0d0887"
             ],
             [
              0.1111111111111111,
              "#46039f"
             ],
             [
              0.2222222222222222,
              "#7201a8"
             ],
             [
              0.3333333333333333,
              "#9c179e"
             ],
             [
              0.4444444444444444,
              "#bd3786"
             ],
             [
              0.5555555555555556,
              "#d8576b"
             ],
             [
              0.6666666666666666,
              "#ed7953"
             ],
             [
              0.7777777777777778,
              "#fb9f3a"
             ],
             [
              0.8888888888888888,
              "#fdca26"
             ],
             [
              1,
              "#f0f921"
             ]
            ],
            "type": "contour"
           }
          ],
          "contourcarpet": [
           {
            "colorbar": {
             "outlinewidth": 0,
             "ticks": ""
            },
            "type": "contourcarpet"
           }
          ],
          "heatmap": [
           {
            "colorbar": {
             "outlinewidth": 0,
             "ticks": ""
            },
            "colorscale": [
             [
              0,
              "#0d0887"
             ],
             [
              0.1111111111111111,
              "#46039f"
             ],
             [
              0.2222222222222222,
              "#7201a8"
             ],
             [
              0.3333333333333333,
              "#9c179e"
             ],
             [
              0.4444444444444444,
              "#bd3786"
             ],
             [
              0.5555555555555556,
              "#d8576b"
             ],
             [
              0.6666666666666666,
              "#ed7953"
             ],
             [
              0.7777777777777778,
              "#fb9f3a"
             ],
             [
              0.8888888888888888,
              "#fdca26"
             ],
             [
              1,
              "#f0f921"
             ]
            ],
            "type": "heatmap"
           }
          ],
          "heatmapgl": [
           {
            "colorbar": {
             "outlinewidth": 0,
             "ticks": ""
            },
            "colorscale": [
             [
              0,
              "#0d0887"
             ],
             [
              0.1111111111111111,
              "#46039f"
             ],
             [
              0.2222222222222222,
              "#7201a8"
             ],
             [
              0.3333333333333333,
              "#9c179e"
             ],
             [
              0.4444444444444444,
              "#bd3786"
             ],
             [
              0.5555555555555556,
              "#d8576b"
             ],
             [
              0.6666666666666666,
              "#ed7953"
             ],
             [
              0.7777777777777778,
              "#fb9f3a"
             ],
             [
              0.8888888888888888,
              "#fdca26"
             ],
             [
              1,
              "#f0f921"
             ]
            ],
            "type": "heatmapgl"
           }
          ],
          "histogram": [
           {
            "marker": {
             "pattern": {
              "fillmode": "overlay",
              "size": 10,
              "solidity": 0.2
             }
            },
            "type": "histogram"
           }
          ],
          "histogram2d": [
           {
            "colorbar": {
             "outlinewidth": 0,
             "ticks": ""
            },
            "colorscale": [
             [
              0,
              "#0d0887"
             ],
             [
              0.1111111111111111,
              "#46039f"
             ],
             [
              0.2222222222222222,
              "#7201a8"
             ],
             [
              0.3333333333333333,
              "#9c179e"
             ],
             [
              0.4444444444444444,
              "#bd3786"
             ],
             [
              0.5555555555555556,
              "#d8576b"
             ],
             [
              0.6666666666666666,
              "#ed7953"
             ],
             [
              0.7777777777777778,
              "#fb9f3a"
             ],
             [
              0.8888888888888888,
              "#fdca26"
             ],
             [
              1,
              "#f0f921"
             ]
            ],
            "type": "histogram2d"
           }
          ],
          "histogram2dcontour": [
           {
            "colorbar": {
             "outlinewidth": 0,
             "ticks": ""
            },
            "colorscale": [
             [
              0,
              "#0d0887"
             ],
             [
              0.1111111111111111,
              "#46039f"
             ],
             [
              0.2222222222222222,
              "#7201a8"
             ],
             [
              0.3333333333333333,
              "#9c179e"
             ],
             [
              0.4444444444444444,
              "#bd3786"
             ],
             [
              0.5555555555555556,
              "#d8576b"
             ],
             [
              0.6666666666666666,
              "#ed7953"
             ],
             [
              0.7777777777777778,
              "#fb9f3a"
             ],
             [
              0.8888888888888888,
              "#fdca26"
             ],
             [
              1,
              "#f0f921"
             ]
            ],
            "type": "histogram2dcontour"
           }
          ],
          "mesh3d": [
           {
            "colorbar": {
             "outlinewidth": 0,
             "ticks": ""
            },
            "type": "mesh3d"
           }
          ],
          "parcoords": [
           {
            "line": {
             "colorbar": {
              "outlinewidth": 0,
              "ticks": ""
             }
            },
            "type": "parcoords"
           }
          ],
          "pie": [
           {
            "automargin": true,
            "type": "pie"
           }
          ],
          "scatter": [
           {
            "fillpattern": {
             "fillmode": "overlay",
             "size": 10,
             "solidity": 0.2
            },
            "type": "scatter"
           }
          ],
          "scatter3d": [
           {
            "line": {
             "colorbar": {
              "outlinewidth": 0,
              "ticks": ""
             }
            },
            "marker": {
             "colorbar": {
              "outlinewidth": 0,
              "ticks": ""
             }
            },
            "type": "scatter3d"
           }
          ],
          "scattercarpet": [
           {
            "marker": {
             "colorbar": {
              "outlinewidth": 0,
              "ticks": ""
             }
            },
            "type": "scattercarpet"
           }
          ],
          "scattergeo": [
           {
            "marker": {
             "colorbar": {
              "outlinewidth": 0,
              "ticks": ""
             }
            },
            "type": "scattergeo"
           }
          ],
          "scattergl": [
           {
            "marker": {
             "colorbar": {
              "outlinewidth": 0,
              "ticks": ""
             }
            },
            "type": "scattergl"
           }
          ],
          "scattermapbox": [
           {
            "marker": {
             "colorbar": {
              "outlinewidth": 0,
              "ticks": ""
             }
            },
            "type": "scattermapbox"
           }
          ],
          "scatterpolar": [
           {
            "marker": {
             "colorbar": {
              "outlinewidth": 0,
              "ticks": ""
             }
            },
            "type": "scatterpolar"
           }
          ],
          "scatterpolargl": [
           {
            "marker": {
             "colorbar": {
              "outlinewidth": 0,
              "ticks": ""
             }
            },
            "type": "scatterpolargl"
           }
          ],
          "scatterternary": [
           {
            "marker": {
             "colorbar": {
              "outlinewidth": 0,
              "ticks": ""
             }
            },
            "type": "scatterternary"
           }
          ],
          "surface": [
           {
            "colorbar": {
             "outlinewidth": 0,
             "ticks": ""
            },
            "colorscale": [
             [
              0,
              "#0d0887"
             ],
             [
              0.1111111111111111,
              "#46039f"
             ],
             [
              0.2222222222222222,
              "#7201a8"
             ],
             [
              0.3333333333333333,
              "#9c179e"
             ],
             [
              0.4444444444444444,
              "#bd3786"
             ],
             [
              0.5555555555555556,
              "#d8576b"
             ],
             [
              0.6666666666666666,
              "#ed7953"
             ],
             [
              0.7777777777777778,
              "#fb9f3a"
             ],
             [
              0.8888888888888888,
              "#fdca26"
             ],
             [
              1,
              "#f0f921"
             ]
            ],
            "type": "surface"
           }
          ],
          "table": [
           {
            "cells": {
             "fill": {
              "color": "#EBF0F8"
             },
             "line": {
              "color": "white"
             }
            },
            "header": {
             "fill": {
              "color": "#C8D4E3"
             },
             "line": {
              "color": "white"
             }
            },
            "type": "table"
           }
          ]
         },
         "layout": {
          "annotationdefaults": {
           "arrowcolor": "#2a3f5f",
           "arrowhead": 0,
           "arrowwidth": 1
          },
          "autotypenumbers": "strict",
          "coloraxis": {
           "colorbar": {
            "outlinewidth": 0,
            "ticks": ""
           }
          },
          "colorscale": {
           "diverging": [
            [
             0,
             "#8e0152"
            ],
            [
             0.1,
             "#c51b7d"
            ],
            [
             0.2,
             "#de77ae"
            ],
            [
             0.3,
             "#f1b6da"
            ],
            [
             0.4,
             "#fde0ef"
            ],
            [
             0.5,
             "#f7f7f7"
            ],
            [
             0.6,
             "#e6f5d0"
            ],
            [
             0.7,
             "#b8e186"
            ],
            [
             0.8,
             "#7fbc41"
            ],
            [
             0.9,
             "#4d9221"
            ],
            [
             1,
             "#276419"
            ]
           ],
           "sequential": [
            [
             0,
             "#0d0887"
            ],
            [
             0.1111111111111111,
             "#46039f"
            ],
            [
             0.2222222222222222,
             "#7201a8"
            ],
            [
             0.3333333333333333,
             "#9c179e"
            ],
            [
             0.4444444444444444,
             "#bd3786"
            ],
            [
             0.5555555555555556,
             "#d8576b"
            ],
            [
             0.6666666666666666,
             "#ed7953"
            ],
            [
             0.7777777777777778,
             "#fb9f3a"
            ],
            [
             0.8888888888888888,
             "#fdca26"
            ],
            [
             1,
             "#f0f921"
            ]
           ],
           "sequentialminus": [
            [
             0,
             "#0d0887"
            ],
            [
             0.1111111111111111,
             "#46039f"
            ],
            [
             0.2222222222222222,
             "#7201a8"
            ],
            [
             0.3333333333333333,
             "#9c179e"
            ],
            [
             0.4444444444444444,
             "#bd3786"
            ],
            [
             0.5555555555555556,
             "#d8576b"
            ],
            [
             0.6666666666666666,
             "#ed7953"
            ],
            [
             0.7777777777777778,
             "#fb9f3a"
            ],
            [
             0.8888888888888888,
             "#fdca26"
            ],
            [
             1,
             "#f0f921"
            ]
           ]
          },
          "colorway": [
           "#636efa",
           "#EF553B",
           "#00cc96",
           "#ab63fa",
           "#FFA15A",
           "#19d3f3",
           "#FF6692",
           "#B6E880",
           "#FF97FF",
           "#FECB52"
          ],
          "font": {
           "color": "#2a3f5f"
          },
          "geo": {
           "bgcolor": "white",
           "lakecolor": "white",
           "landcolor": "#E5ECF6",
           "showlakes": true,
           "showland": true,
           "subunitcolor": "white"
          },
          "hoverlabel": {
           "align": "left"
          },
          "hovermode": "closest",
          "mapbox": {
           "style": "light"
          },
          "paper_bgcolor": "white",
          "plot_bgcolor": "#E5ECF6",
          "polar": {
           "angularaxis": {
            "gridcolor": "white",
            "linecolor": "white",
            "ticks": ""
           },
           "bgcolor": "#E5ECF6",
           "radialaxis": {
            "gridcolor": "white",
            "linecolor": "white",
            "ticks": ""
           }
          },
          "scene": {
           "xaxis": {
            "backgroundcolor": "#E5ECF6",
            "gridcolor": "white",
            "gridwidth": 2,
            "linecolor": "white",
            "showbackground": true,
            "ticks": "",
            "zerolinecolor": "white"
           },
           "yaxis": {
            "backgroundcolor": "#E5ECF6",
            "gridcolor": "white",
            "gridwidth": 2,
            "linecolor": "white",
            "showbackground": true,
            "ticks": "",
            "zerolinecolor": "white"
           },
           "zaxis": {
            "backgroundcolor": "#E5ECF6",
            "gridcolor": "white",
            "gridwidth": 2,
            "linecolor": "white",
            "showbackground": true,
            "ticks": "",
            "zerolinecolor": "white"
           }
          },
          "shapedefaults": {
           "line": {
            "color": "#2a3f5f"
           }
          },
          "ternary": {
           "aaxis": {
            "gridcolor": "white",
            "linecolor": "white",
            "ticks": ""
           },
           "baxis": {
            "gridcolor": "white",
            "linecolor": "white",
            "ticks": ""
           },
           "bgcolor": "#E5ECF6",
           "caxis": {
            "gridcolor": "white",
            "linecolor": "white",
            "ticks": ""
           }
          },
          "title": {
           "x": 0.05
          },
          "xaxis": {
           "automargin": true,
           "gridcolor": "white",
           "linecolor": "white",
           "ticks": "",
           "title": {
            "standoff": 15
           },
           "zerolinecolor": "white",
           "zerolinewidth": 2
          },
          "yaxis": {
           "automargin": true,
           "gridcolor": "white",
           "linecolor": "white",
           "ticks": "",
           "title": {
            "standoff": 15
           },
           "zerolinecolor": "white",
           "zerolinewidth": 2
          }
         }
        },
        "title": {
         "text": "Bar Chart showing the Frequency of Content Types"
        },
        "xaxis": {
         "anchor": "y",
         "domain": [
          0,
          1
         ],
         "title": {
          "text": "Content type"
         }
        },
        "yaxis": {
         "anchor": "x",
         "domain": [
          0,
          1
         ],
         "title": {
          "text": "Frequency"
         }
        }
       }
      },
      "text/html": [
       "<div>                            <div id=\"e33ca82b-191b-472a-b5bf-0f97227c70fe\" class=\"plotly-graph-div\" style=\"height:525px; width:100%;\"></div>            <script type=\"text/javascript\">                require([\"plotly\"], function(Plotly) {                    window.PLOTLYENV=window.PLOTLYENV || {};                                    if (document.getElementById(\"e33ca82b-191b-472a-b5bf-0f97227c70fe\")) {                    Plotly.newPlot(                        \"e33ca82b-191b-472a-b5bf-0f97227c70fe\",                        [{\"alignmentgroup\":\"True\",\"hovertemplate\":\"Content type=%{x}<br>Frequency=%{y}<extra></extra>\",\"legendgroup\":\"\",\"marker\":{\"color\":\"#636efa\",\"pattern\":{\"shape\":\"\"}},\"name\":\"\",\"offsetgroup\":\"\",\"orientation\":\"v\",\"showlegend\":false,\"textposition\":\"auto\",\"x\":[\"Rational\",\"Emotional\",\"Transactional\"],\"xaxis\":\"x\",\"y\":[84,63,0],\"yaxis\":\"y\",\"type\":\"bar\"}],                        {\"template\":{\"data\":{\"histogram2dcontour\":[{\"type\":\"histogram2dcontour\",\"colorbar\":{\"outlinewidth\":0,\"ticks\":\"\"},\"colorscale\":[[0.0,\"#0d0887\"],[0.1111111111111111,\"#46039f\"],[0.2222222222222222,\"#7201a8\"],[0.3333333333333333,\"#9c179e\"],[0.4444444444444444,\"#bd3786\"],[0.5555555555555556,\"#d8576b\"],[0.6666666666666666,\"#ed7953\"],[0.7777777777777778,\"#fb9f3a\"],[0.8888888888888888,\"#fdca26\"],[1.0,\"#f0f921\"]]}],\"choropleth\":[{\"type\":\"choropleth\",\"colorbar\":{\"outlinewidth\":0,\"ticks\":\"\"}}],\"histogram2d\":[{\"type\":\"histogram2d\",\"colorbar\":{\"outlinewidth\":0,\"ticks\":\"\"},\"colorscale\":[[0.0,\"#0d0887\"],[0.1111111111111111,\"#46039f\"],[0.2222222222222222,\"#7201a8\"],[0.3333333333333333,\"#9c179e\"],[0.4444444444444444,\"#bd3786\"],[0.5555555555555556,\"#d8576b\"],[0.6666666666666666,\"#ed7953\"],[0.7777777777777778,\"#fb9f3a\"],[0.8888888888888888,\"#fdca26\"],[1.0,\"#f0f921\"]]}],\"heatmap\":[{\"type\":\"heatmap\",\"colorbar\":{\"outlinewidth\":0,\"ticks\":\"\"},\"colorscale\":[[0.0,\"#0d0887\"],[0.1111111111111111,\"#46039f\"],[0.2222222222222222,\"#7201a8\"],[0.3333333333333333,\"#9c179e\"],[0.4444444444444444,\"#bd3786\"],[0.5555555555555556,\"#d8576b\"],[0.6666666666666666,\"#ed7953\"],[0.7777777777777778,\"#fb9f3a\"],[0.8888888888888888,\"#fdca26\"],[1.0,\"#f0f921\"]]}],\"heatmapgl\":[{\"type\":\"heatmapgl\",\"colorbar\":{\"outlinewidth\":0,\"ticks\":\"\"},\"colorscale\":[[0.0,\"#0d0887\"],[0.1111111111111111,\"#46039f\"],[0.2222222222222222,\"#7201a8\"],[0.3333333333333333,\"#9c179e\"],[0.4444444444444444,\"#bd3786\"],[0.5555555555555556,\"#d8576b\"],[0.6666666666666666,\"#ed7953\"],[0.7777777777777778,\"#fb9f3a\"],[0.8888888888888888,\"#fdca26\"],[1.0,\"#f0f921\"]]}],\"contourcarpet\":[{\"type\":\"contourcarpet\",\"colorbar\":{\"outlinewidth\":0,\"ticks\":\"\"}}],\"contour\":[{\"type\":\"contour\",\"colorbar\":{\"outlinewidth\":0,\"ticks\":\"\"},\"colorscale\":[[0.0,\"#0d0887\"],[0.1111111111111111,\"#46039f\"],[0.2222222222222222,\"#7201a8\"],[0.3333333333333333,\"#9c179e\"],[0.4444444444444444,\"#bd3786\"],[0.5555555555555556,\"#d8576b\"],[0.6666666666666666,\"#ed7953\"],[0.7777777777777778,\"#fb9f3a\"],[0.8888888888888888,\"#fdca26\"],[1.0,\"#f0f921\"]]}],\"surface\":[{\"type\":\"surface\",\"colorbar\":{\"outlinewidth\":0,\"ticks\":\"\"},\"colorscale\":[[0.0,\"#0d0887\"],[0.1111111111111111,\"#46039f\"],[0.2222222222222222,\"#7201a8\"],[0.3333333333333333,\"#9c179e\"],[0.4444444444444444,\"#bd3786\"],[0.5555555555555556,\"#d8576b\"],[0.6666666666666666,\"#ed7953\"],[0.7777777777777778,\"#fb9f3a\"],[0.8888888888888888,\"#fdca26\"],[1.0,\"#f0f921\"]]}],\"mesh3d\":[{\"type\":\"mesh3d\",\"colorbar\":{\"outlinewidth\":0,\"ticks\":\"\"}}],\"scatter\":[{\"fillpattern\":{\"fillmode\":\"overlay\",\"size\":10,\"solidity\":0.2},\"type\":\"scatter\"}],\"parcoords\":[{\"type\":\"parcoords\",\"line\":{\"colorbar\":{\"outlinewidth\":0,\"ticks\":\"\"}}}],\"scatterpolargl\":[{\"type\":\"scatterpolargl\",\"marker\":{\"colorbar\":{\"outlinewidth\":0,\"ticks\":\"\"}}}],\"bar\":[{\"error_x\":{\"color\":\"#2a3f5f\"},\"error_y\":{\"color\":\"#2a3f5f\"},\"marker\":{\"line\":{\"color\":\"#E5ECF6\",\"width\":0.5},\"pattern\":{\"fillmode\":\"overlay\",\"size\":10,\"solidity\":0.2}},\"type\":\"bar\"}],\"scattergeo\":[{\"type\":\"scattergeo\",\"marker\":{\"colorbar\":{\"outlinewidth\":0,\"ticks\":\"\"}}}],\"scatterpolar\":[{\"type\":\"scatterpolar\",\"marker\":{\"colorbar\":{\"outlinewidth\":0,\"ticks\":\"\"}}}],\"histogram\":[{\"marker\":{\"pattern\":{\"fillmode\":\"overlay\",\"size\":10,\"solidity\":0.2}},\"type\":\"histogram\"}],\"scattergl\":[{\"type\":\"scattergl\",\"marker\":{\"colorbar\":{\"outlinewidth\":0,\"ticks\":\"\"}}}],\"scatter3d\":[{\"type\":\"scatter3d\",\"line\":{\"colorbar\":{\"outlinewidth\":0,\"ticks\":\"\"}},\"marker\":{\"colorbar\":{\"outlinewidth\":0,\"ticks\":\"\"}}}],\"scattermapbox\":[{\"type\":\"scattermapbox\",\"marker\":{\"colorbar\":{\"outlinewidth\":0,\"ticks\":\"\"}}}],\"scatterternary\":[{\"type\":\"scatterternary\",\"marker\":{\"colorbar\":{\"outlinewidth\":0,\"ticks\":\"\"}}}],\"scattercarpet\":[{\"type\":\"scattercarpet\",\"marker\":{\"colorbar\":{\"outlinewidth\":0,\"ticks\":\"\"}}}],\"carpet\":[{\"aaxis\":{\"endlinecolor\":\"#2a3f5f\",\"gridcolor\":\"white\",\"linecolor\":\"white\",\"minorgridcolor\":\"white\",\"startlinecolor\":\"#2a3f5f\"},\"baxis\":{\"endlinecolor\":\"#2a3f5f\",\"gridcolor\":\"white\",\"linecolor\":\"white\",\"minorgridcolor\":\"white\",\"startlinecolor\":\"#2a3f5f\"},\"type\":\"carpet\"}],\"table\":[{\"cells\":{\"fill\":{\"color\":\"#EBF0F8\"},\"line\":{\"color\":\"white\"}},\"header\":{\"fill\":{\"color\":\"#C8D4E3\"},\"line\":{\"color\":\"white\"}},\"type\":\"table\"}],\"barpolar\":[{\"marker\":{\"line\":{\"color\":\"#E5ECF6\",\"width\":0.5},\"pattern\":{\"fillmode\":\"overlay\",\"size\":10,\"solidity\":0.2}},\"type\":\"barpolar\"}],\"pie\":[{\"automargin\":true,\"type\":\"pie\"}]},\"layout\":{\"autotypenumbers\":\"strict\",\"colorway\":[\"#636efa\",\"#EF553B\",\"#00cc96\",\"#ab63fa\",\"#FFA15A\",\"#19d3f3\",\"#FF6692\",\"#B6E880\",\"#FF97FF\",\"#FECB52\"],\"font\":{\"color\":\"#2a3f5f\"},\"hovermode\":\"closest\",\"hoverlabel\":{\"align\":\"left\"},\"paper_bgcolor\":\"white\",\"plot_bgcolor\":\"#E5ECF6\",\"polar\":{\"bgcolor\":\"#E5ECF6\",\"angularaxis\":{\"gridcolor\":\"white\",\"linecolor\":\"white\",\"ticks\":\"\"},\"radialaxis\":{\"gridcolor\":\"white\",\"linecolor\":\"white\",\"ticks\":\"\"}},\"ternary\":{\"bgcolor\":\"#E5ECF6\",\"aaxis\":{\"gridcolor\":\"white\",\"linecolor\":\"white\",\"ticks\":\"\"},\"baxis\":{\"gridcolor\":\"white\",\"linecolor\":\"white\",\"ticks\":\"\"},\"caxis\":{\"gridcolor\":\"white\",\"linecolor\":\"white\",\"ticks\":\"\"}},\"coloraxis\":{\"colorbar\":{\"outlinewidth\":0,\"ticks\":\"\"}},\"colorscale\":{\"sequential\":[[0.0,\"#0d0887\"],[0.1111111111111111,\"#46039f\"],[0.2222222222222222,\"#7201a8\"],[0.3333333333333333,\"#9c179e\"],[0.4444444444444444,\"#bd3786\"],[0.5555555555555556,\"#d8576b\"],[0.6666666666666666,\"#ed7953\"],[0.7777777777777778,\"#fb9f3a\"],[0.8888888888888888,\"#fdca26\"],[1.0,\"#f0f921\"]],\"sequentialminus\":[[0.0,\"#0d0887\"],[0.1111111111111111,\"#46039f\"],[0.2222222222222222,\"#7201a8\"],[0.3333333333333333,\"#9c179e\"],[0.4444444444444444,\"#bd3786\"],[0.5555555555555556,\"#d8576b\"],[0.6666666666666666,\"#ed7953\"],[0.7777777777777778,\"#fb9f3a\"],[0.8888888888888888,\"#fdca26\"],[1.0,\"#f0f921\"]],\"diverging\":[[0,\"#8e0152\"],[0.1,\"#c51b7d\"],[0.2,\"#de77ae\"],[0.3,\"#f1b6da\"],[0.4,\"#fde0ef\"],[0.5,\"#f7f7f7\"],[0.6,\"#e6f5d0\"],[0.7,\"#b8e186\"],[0.8,\"#7fbc41\"],[0.9,\"#4d9221\"],[1,\"#276419\"]]},\"xaxis\":{\"gridcolor\":\"white\",\"linecolor\":\"white\",\"ticks\":\"\",\"title\":{\"standoff\":15},\"zerolinecolor\":\"white\",\"automargin\":true,\"zerolinewidth\":2},\"yaxis\":{\"gridcolor\":\"white\",\"linecolor\":\"white\",\"ticks\":\"\",\"title\":{\"standoff\":15},\"zerolinecolor\":\"white\",\"automargin\":true,\"zerolinewidth\":2},\"scene\":{\"xaxis\":{\"backgroundcolor\":\"#E5ECF6\",\"gridcolor\":\"white\",\"linecolor\":\"white\",\"showbackground\":true,\"ticks\":\"\",\"zerolinecolor\":\"white\",\"gridwidth\":2},\"yaxis\":{\"backgroundcolor\":\"#E5ECF6\",\"gridcolor\":\"white\",\"linecolor\":\"white\",\"showbackground\":true,\"ticks\":\"\",\"zerolinecolor\":\"white\",\"gridwidth\":2},\"zaxis\":{\"backgroundcolor\":\"#E5ECF6\",\"gridcolor\":\"white\",\"linecolor\":\"white\",\"showbackground\":true,\"ticks\":\"\",\"zerolinecolor\":\"white\",\"gridwidth\":2}},\"shapedefaults\":{\"line\":{\"color\":\"#2a3f5f\"}},\"annotationdefaults\":{\"arrowcolor\":\"#2a3f5f\",\"arrowhead\":0,\"arrowwidth\":1},\"geo\":{\"bgcolor\":\"white\",\"landcolor\":\"#E5ECF6\",\"subunitcolor\":\"white\",\"showland\":true,\"showlakes\":true,\"lakecolor\":\"white\"},\"title\":{\"x\":0.05},\"mapbox\":{\"style\":\"light\"}}},\"xaxis\":{\"anchor\":\"y\",\"domain\":[0.0,1.0],\"title\":{\"text\":\"Content type\"}},\"yaxis\":{\"anchor\":\"x\",\"domain\":[0.0,1.0],\"title\":{\"text\":\"Frequency\"}},\"legend\":{\"tracegroupgap\":0},\"title\":{\"text\":\"Bar Chart showing the Frequency of Content Types\"},\"barmode\":\"relative\"},                        {\"responsive\": true}                    ).then(function(){\n",
       "                            \n",
       "var gd = document.getElementById('e33ca82b-191b-472a-b5bf-0f97227c70fe');\n",
       "var x = new MutationObserver(function (mutations, observer) {{\n",
       "        var display = window.getComputedStyle(gd).display;\n",
       "        if (!display || display === 'none') {{\n",
       "            console.log([gd, 'removed!']);\n",
       "            Plotly.purge(gd);\n",
       "            observer.disconnect();\n",
       "        }}\n",
       "}});\n",
       "\n",
       "// Listen for the removal of the full notebook cells\n",
       "var notebookContainer = gd.closest('#notebook-container');\n",
       "if (notebookContainer) {{\n",
       "    x.observe(notebookContainer, {childList: true});\n",
       "}}\n",
       "\n",
       "// Listen for the clearing of the current output cell\n",
       "var outputEl = gd.closest('.output');\n",
       "if (outputEl) {{\n",
       "    x.observe(outputEl, {childList: true});\n",
       "}}\n",
       "\n",
       "                        })                };                });            </script>        </div>"
      ]
     },
     "metadata": {},
     "output_type": "display_data"
    }
   ],
   "source": [
    "contentType = data['Content type'].value_counts()\n",
    "contentCat = ['Rational', 'Emotional', 'Transactional']\n",
    "\n",
    "# Get the frequency of each content type\n",
    "contentFreq = []\n",
    "for category in contentCat:\n",
    "    try:\n",
    "        contentFreq.append(contentType[category])\n",
    "    except KeyError:\n",
    "        contentFreq.append(0)\n",
    "\n",
    "# Create dataframe consisting of the different content types and their frequencies\n",
    "dataContent = pd.DataFrame({'Content type' : contentCat,\n",
    "                            'Frequency' : contentFreq},\n",
    "                           columns=['Content type', 'Frequency'])\n",
    "\n",
    "# Show bar plot of dataContent dataframe\n",
    "\n",
    "fig = px.bar(dataContent, x='Content type', y='Frequency', title='Bar Chart showing the Frequency of Content Types')\n",
    "fig.show()\n",
    "fig.write_html(\"plots_contenttypes.html\")"
   ]
  },
  {
   "attachments": {},
   "cell_type": "markdown",
   "id": "8e94c82f",
   "metadata": {},
   "source": [
    "## Data Modeling"
   ]
  },
  {
   "attachments": {},
   "cell_type": "markdown",
   "id": "b26d4d4b",
   "metadata": {},
   "source": [
    "### Model using Latent Dirichlet Allocation"
   ]
  },
  {
   "cell_type": "code",
   "execution_count": null,
   "id": "3f0314db",
   "metadata": {},
   "outputs": [
    {
     "data": {
      "text/html": [
       "<div>\n",
       "<style scoped>\n",
       "    .dataframe tbody tr th:only-of-type {\n",
       "        vertical-align: middle;\n",
       "    }\n",
       "\n",
       "    .dataframe tbody tr th {\n",
       "        vertical-align: top;\n",
       "    }\n",
       "\n",
       "    .dataframe thead th {\n",
       "        text-align: right;\n",
       "    }\n",
       "</style>\n",
       "<table border=\"1\" class=\"dataframe\">\n",
       "  <thead>\n",
       "    <tr style=\"text-align: right;\">\n",
       "      <th></th>\n",
       "      <th>Keywords</th>\n",
       "      <th>Topic ID</th>\n",
       "    </tr>\n",
       "  </thead>\n",
       "  <tbody>\n",
       "    <tr>\n",
       "      <th>0</th>\n",
       "      <td>came chaos chaos stopped cory stopped milk sto...</td>\n",
       "      <td>1</td>\n",
       "    </tr>\n",
       "    <tr>\n",
       "      <th>1</th>\n",
       "      <td>ph well mom dont also rice foodmy mom many fre...</td>\n",
       "      <td>2</td>\n",
       "    </tr>\n",
       "    <tr>\n",
       "      <th>2</th>\n",
       "      <td>said even born president beautiful school real...</td>\n",
       "      <td>3</td>\n",
       "    </tr>\n",
       "    <tr>\n",
       "      <th>3</th>\n",
       "      <td>rice free dilaw time marcos hungry term bounti...</td>\n",
       "      <td>4</td>\n",
       "    </tr>\n",
       "    <tr>\n",
       "      <th>4</th>\n",
       "      <td>nutribun least free klim back school powdered ...</td>\n",
       "      <td>5</td>\n",
       "    </tr>\n",
       "    <tr>\n",
       "      <th>5</th>\n",
       "      <td>time back poor garden werent know marcos time ...</td>\n",
       "      <td>6</td>\n",
       "    </tr>\n",
       "    <tr>\n",
       "      <th>6</th>\n",
       "      <td>youre blame education free free education bbms...</td>\n",
       "      <td>7</td>\n",
       "    </tr>\n",
       "    <tr>\n",
       "      <th>7</th>\n",
       "      <td>healthy snack eat nutribun school nowadays tho...</td>\n",
       "      <td>8</td>\n",
       "    </tr>\n",
       "    <tr>\n",
       "      <th>8</th>\n",
       "      <td>filipino time product went marcos time food po...</td>\n",
       "      <td>9</td>\n",
       "    </tr>\n",
       "    <tr>\n",
       "      <th>9</th>\n",
       "      <td>program nutribuns nobody feeding program agric...</td>\n",
       "      <td>10</td>\n",
       "    </tr>\n",
       "    <tr>\n",
       "      <th>10</th>\n",
       "      <td>would cheap marcos everything recess everythin...</td>\n",
       "      <td>11</td>\n",
       "    </tr>\n",
       "    <tr>\n",
       "      <th>11</th>\n",
       "      <td>ask concerned get starving pilipino rare conce...</td>\n",
       "      <td>12</td>\n",
       "    </tr>\n",
       "    <tr>\n",
       "      <th>12</th>\n",
       "      <td>price became became poorer poorer poorer do30 ...</td>\n",
       "      <td>13</td>\n",
       "    </tr>\n",
       "  </tbody>\n",
       "</table>\n",
       "</div>"
      ],
      "text/plain": [
       "                                             Keywords  Topic ID\n",
       "0   came chaos chaos stopped cory stopped milk sto...         1\n",
       "1   ph well mom dont also rice foodmy mom many fre...         2\n",
       "2   said even born president beautiful school real...         3\n",
       "3   rice free dilaw time marcos hungry term bounti...         4\n",
       "4   nutribun least free klim back school powdered ...         5\n",
       "5   time back poor garden werent know marcos time ...         6\n",
       "6   youre blame education free free education bbms...         7\n",
       "7   healthy snack eat nutribun school nowadays tho...         8\n",
       "8   filipino time product went marcos time food po...         9\n",
       "9   program nutribuns nobody feeding program agric...        10\n",
       "10  would cheap marcos everything recess everythin...        11\n",
       "11  ask concerned get starving pilipino rare conce...        12\n",
       "12  price became became poorer poorer poorer do30 ...        13"
      ]
     },
     "execution_count": 11,
     "metadata": {},
     "output_type": "execute_result"
    }
   ],
   "source": [
    "import numpy as np\n",
    "from sklearn.feature_extraction.text import TfidfVectorizer\n",
    "from sklearn import decomposition\n",
    "\n",
    "# Generate features\n",
    "tf_vectorizer = TfidfVectorizer(tokenizer=tokenizer,\n",
    "                                max_df=0.8,\n",
    "                                use_idf=True, norm=None, token_pattern=None,\n",
    "                                ngram_range=(1,2))\n",
    "tf_vectors = tf_vectorizer.fit_transform(tweets)\n",
    "\n",
    "# Create top 10 topics\n",
    "n_topics = 13\n",
    "lda = decomposition.LatentDirichletAllocation(n_components=n_topics, max_iter=10, \n",
    "                                              learning_method='online', learning_offset=50, n_jobs=1, random_state=42)\n",
    "W = lda.fit_transform(tf_vectors)\n",
    "H = lda.components_\n",
    "\n",
    "# Show top 15 relevant tokens for each of the topics\n",
    "num_words = 9\n",
    "vocab = np.array(tf_vectorizer.get_feature_names_out())\n",
    "top_words = lambda t: [vocab[i] for i in np.argsort(t)[:-num_words-1:-1]]\n",
    "topic_words = ([top_words(t) for t in H])\n",
    "topics = [' '.join(t) for t in topic_words]\n",
    "df_topics = pd.DataFrame(topics, columns=['Keywords'])\n",
    "df_topics['Topic ID'] = range(1, len(topics) + 1)\n",
    "df_topics"
   ]
  },
  {
   "cell_type": "code",
   "execution_count": null,
   "id": "c19eb17c",
   "metadata": {},
   "outputs": [
    {
     "data": {
      "text/html": [
       "<div>\n",
       "<style scoped>\n",
       "    .dataframe tbody tr th:only-of-type {\n",
       "        vertical-align: middle;\n",
       "    }\n",
       "\n",
       "    .dataframe tbody tr th {\n",
       "        vertical-align: top;\n",
       "    }\n",
       "\n",
       "    .dataframe thead th {\n",
       "        text-align: right;\n",
       "    }\n",
       "</style>\n",
       "<table border=\"1\" class=\"dataframe\">\n",
       "  <thead>\n",
       "    <tr style=\"text-align: right;\">\n",
       "      <th></th>\n",
       "      <th>Topic1</th>\n",
       "      <th>Topic2</th>\n",
       "      <th>Topic3</th>\n",
       "      <th>Topic4</th>\n",
       "      <th>Topic5</th>\n",
       "      <th>Topic6</th>\n",
       "      <th>Topic7</th>\n",
       "      <th>Topic8</th>\n",
       "      <th>Topic9</th>\n",
       "      <th>Topic10</th>\n",
       "      <th>Topic11</th>\n",
       "      <th>Topic12</th>\n",
       "      <th>Topic13</th>\n",
       "      <th>dominant_topic</th>\n",
       "      <th>breakdown</th>\n",
       "    </tr>\n",
       "  </thead>\n",
       "  <tbody>\n",
       "    <tr>\n",
       "      <th>Tweet1</th>\n",
       "      <td>0.0</td>\n",
       "      <td>0.00</td>\n",
       "      <td>0.0</td>\n",
       "      <td>0.0</td>\n",
       "      <td>0.0</td>\n",
       "      <td>0.0</td>\n",
       "      <td>1.00</td>\n",
       "      <td>0.00</td>\n",
       "      <td>0.0</td>\n",
       "      <td>0.0</td>\n",
       "      <td>0.0</td>\n",
       "      <td>0.00</td>\n",
       "      <td>0.0</td>\n",
       "      <td>7</td>\n",
       "      <td>Topic7: 1.0</td>\n",
       "    </tr>\n",
       "    <tr>\n",
       "      <th>Tweet2</th>\n",
       "      <td>0.0</td>\n",
       "      <td>0.69</td>\n",
       "      <td>0.0</td>\n",
       "      <td>0.0</td>\n",
       "      <td>0.3</td>\n",
       "      <td>0.0</td>\n",
       "      <td>0.00</td>\n",
       "      <td>0.00</td>\n",
       "      <td>0.0</td>\n",
       "      <td>0.0</td>\n",
       "      <td>0.0</td>\n",
       "      <td>0.00</td>\n",
       "      <td>0.0</td>\n",
       "      <td>2</td>\n",
       "      <td>Topic2: 0.69\\nTopic5: 0.3</td>\n",
       "    </tr>\n",
       "    <tr>\n",
       "      <th>Tweet3</th>\n",
       "      <td>0.0</td>\n",
       "      <td>0.00</td>\n",
       "      <td>0.0</td>\n",
       "      <td>0.0</td>\n",
       "      <td>0.0</td>\n",
       "      <td>0.0</td>\n",
       "      <td>0.00</td>\n",
       "      <td>0.00</td>\n",
       "      <td>0.0</td>\n",
       "      <td>1.0</td>\n",
       "      <td>0.0</td>\n",
       "      <td>0.00</td>\n",
       "      <td>0.0</td>\n",
       "      <td>10</td>\n",
       "      <td>Topic10: 1.0</td>\n",
       "    </tr>\n",
       "    <tr>\n",
       "      <th>Tweet4</th>\n",
       "      <td>0.0</td>\n",
       "      <td>0.00</td>\n",
       "      <td>0.0</td>\n",
       "      <td>0.0</td>\n",
       "      <td>0.0</td>\n",
       "      <td>0.0</td>\n",
       "      <td>0.99</td>\n",
       "      <td>0.00</td>\n",
       "      <td>0.0</td>\n",
       "      <td>0.0</td>\n",
       "      <td>0.0</td>\n",
       "      <td>0.00</td>\n",
       "      <td>0.0</td>\n",
       "      <td>7</td>\n",
       "      <td>Topic7: 0.99</td>\n",
       "    </tr>\n",
       "    <tr>\n",
       "      <th>Tweet5</th>\n",
       "      <td>0.0</td>\n",
       "      <td>0.00</td>\n",
       "      <td>0.0</td>\n",
       "      <td>0.0</td>\n",
       "      <td>0.0</td>\n",
       "      <td>0.0</td>\n",
       "      <td>0.00</td>\n",
       "      <td>0.00</td>\n",
       "      <td>0.0</td>\n",
       "      <td>1.0</td>\n",
       "      <td>0.0</td>\n",
       "      <td>0.00</td>\n",
       "      <td>0.0</td>\n",
       "      <td>10</td>\n",
       "      <td>Topic10: 1.0</td>\n",
       "    </tr>\n",
       "    <tr>\n",
       "      <th>...</th>\n",
       "      <td>...</td>\n",
       "      <td>...</td>\n",
       "      <td>...</td>\n",
       "      <td>...</td>\n",
       "      <td>...</td>\n",
       "      <td>...</td>\n",
       "      <td>...</td>\n",
       "      <td>...</td>\n",
       "      <td>...</td>\n",
       "      <td>...</td>\n",
       "      <td>...</td>\n",
       "      <td>...</td>\n",
       "      <td>...</td>\n",
       "      <td>...</td>\n",
       "      <td>...</td>\n",
       "    </tr>\n",
       "    <tr>\n",
       "      <th>Tweet145</th>\n",
       "      <td>0.0</td>\n",
       "      <td>0.00</td>\n",
       "      <td>1.0</td>\n",
       "      <td>0.0</td>\n",
       "      <td>0.0</td>\n",
       "      <td>0.0</td>\n",
       "      <td>0.00</td>\n",
       "      <td>0.00</td>\n",
       "      <td>0.0</td>\n",
       "      <td>0.0</td>\n",
       "      <td>0.0</td>\n",
       "      <td>0.00</td>\n",
       "      <td>0.0</td>\n",
       "      <td>3</td>\n",
       "      <td>Topic3: 1.0</td>\n",
       "    </tr>\n",
       "    <tr>\n",
       "      <th>Tweet146</th>\n",
       "      <td>0.0</td>\n",
       "      <td>0.00</td>\n",
       "      <td>0.0</td>\n",
       "      <td>0.0</td>\n",
       "      <td>0.0</td>\n",
       "      <td>0.0</td>\n",
       "      <td>1.00</td>\n",
       "      <td>0.00</td>\n",
       "      <td>0.0</td>\n",
       "      <td>0.0</td>\n",
       "      <td>0.0</td>\n",
       "      <td>0.00</td>\n",
       "      <td>0.0</td>\n",
       "      <td>7</td>\n",
       "      <td>Topic7: 1.0</td>\n",
       "    </tr>\n",
       "    <tr>\n",
       "      <th>Tweet147</th>\n",
       "      <td>0.0</td>\n",
       "      <td>0.00</td>\n",
       "      <td>1.0</td>\n",
       "      <td>0.0</td>\n",
       "      <td>0.0</td>\n",
       "      <td>0.0</td>\n",
       "      <td>0.00</td>\n",
       "      <td>0.00</td>\n",
       "      <td>0.0</td>\n",
       "      <td>0.0</td>\n",
       "      <td>0.0</td>\n",
       "      <td>0.00</td>\n",
       "      <td>0.0</td>\n",
       "      <td>3</td>\n",
       "      <td>Topic3: 1.0</td>\n",
       "    </tr>\n",
       "    <tr>\n",
       "      <th>Tweet148</th>\n",
       "      <td>0.0</td>\n",
       "      <td>0.00</td>\n",
       "      <td>0.0</td>\n",
       "      <td>0.0</td>\n",
       "      <td>0.0</td>\n",
       "      <td>0.0</td>\n",
       "      <td>0.00</td>\n",
       "      <td>0.99</td>\n",
       "      <td>0.0</td>\n",
       "      <td>0.0</td>\n",
       "      <td>0.0</td>\n",
       "      <td>0.00</td>\n",
       "      <td>0.0</td>\n",
       "      <td>8</td>\n",
       "      <td>Topic8: 0.99</td>\n",
       "    </tr>\n",
       "    <tr>\n",
       "      <th>Tweet149</th>\n",
       "      <td>0.0</td>\n",
       "      <td>0.00</td>\n",
       "      <td>0.0</td>\n",
       "      <td>0.0</td>\n",
       "      <td>0.0</td>\n",
       "      <td>0.0</td>\n",
       "      <td>0.00</td>\n",
       "      <td>0.00</td>\n",
       "      <td>0.0</td>\n",
       "      <td>0.0</td>\n",
       "      <td>0.0</td>\n",
       "      <td>0.99</td>\n",
       "      <td>0.0</td>\n",
       "      <td>12</td>\n",
       "      <td>Topic12: 0.99</td>\n",
       "    </tr>\n",
       "  </tbody>\n",
       "</table>\n",
       "<p>149 rows × 15 columns</p>\n",
       "</div>"
      ],
      "text/plain": [
       "          Topic1  Topic2  Topic3  Topic4  Topic5  Topic6  Topic7  Topic8   \n",
       "Tweet1       0.0    0.00     0.0     0.0     0.0     0.0    1.00    0.00  \\\n",
       "Tweet2       0.0    0.69     0.0     0.0     0.3     0.0    0.00    0.00   \n",
       "Tweet3       0.0    0.00     0.0     0.0     0.0     0.0    0.00    0.00   \n",
       "Tweet4       0.0    0.00     0.0     0.0     0.0     0.0    0.99    0.00   \n",
       "Tweet5       0.0    0.00     0.0     0.0     0.0     0.0    0.00    0.00   \n",
       "...          ...     ...     ...     ...     ...     ...     ...     ...   \n",
       "Tweet145     0.0    0.00     1.0     0.0     0.0     0.0    0.00    0.00   \n",
       "Tweet146     0.0    0.00     0.0     0.0     0.0     0.0    1.00    0.00   \n",
       "Tweet147     0.0    0.00     1.0     0.0     0.0     0.0    0.00    0.00   \n",
       "Tweet148     0.0    0.00     0.0     0.0     0.0     0.0    0.00    0.99   \n",
       "Tweet149     0.0    0.00     0.0     0.0     0.0     0.0    0.00    0.00   \n",
       "\n",
       "          Topic9  Topic10  Topic11  Topic12  Topic13  dominant_topic   \n",
       "Tweet1       0.0      0.0      0.0     0.00      0.0               7  \\\n",
       "Tweet2       0.0      0.0      0.0     0.00      0.0               2   \n",
       "Tweet3       0.0      1.0      0.0     0.00      0.0              10   \n",
       "Tweet4       0.0      0.0      0.0     0.00      0.0               7   \n",
       "Tweet5       0.0      1.0      0.0     0.00      0.0              10   \n",
       "...          ...      ...      ...      ...      ...             ...   \n",
       "Tweet145     0.0      0.0      0.0     0.00      0.0               3   \n",
       "Tweet146     0.0      0.0      0.0     0.00      0.0               7   \n",
       "Tweet147     0.0      0.0      0.0     0.00      0.0               3   \n",
       "Tweet148     0.0      0.0      0.0     0.00      0.0               8   \n",
       "Tweet149     0.0      0.0      0.0     0.99      0.0              12   \n",
       "\n",
       "                          breakdown  \n",
       "Tweet1                  Topic7: 1.0  \n",
       "Tweet2    Topic2: 0.69\\nTopic5: 0.3  \n",
       "Tweet3                 Topic10: 1.0  \n",
       "Tweet4                 Topic7: 0.99  \n",
       "Tweet5                 Topic10: 1.0  \n",
       "...                             ...  \n",
       "Tweet145                Topic3: 1.0  \n",
       "Tweet146                Topic7: 1.0  \n",
       "Tweet147                Topic3: 1.0  \n",
       "Tweet148               Topic8: 0.99  \n",
       "Tweet149              Topic12: 0.99  \n",
       "\n",
       "[149 rows x 15 columns]"
      ]
     },
     "execution_count": 12,
     "metadata": {},
     "output_type": "execute_result"
    }
   ],
   "source": [
    "# Model Visualization\n",
    "\n",
    "# Assign topic to each tweet\n",
    "topicid = [\"Topic\" + str(i+1) for i in range(lda.n_components)]\n",
    "tweetid = [\"Tweet\" + str(i+1) for i in range(len(tweets))]\n",
    "\n",
    "df_topics_lda = pd.DataFrame(np.round(W,2), columns=topicid, index=tweetid)\n",
    "significanttopic = np.argmax(df_topics_lda.values, axis=1)+1\n",
    "\n",
    "df_topics_lda['dominant_topic'] = significanttopic\n",
    "df_topics_lda['breakdown'] = df_topics_lda.apply(lambda row: '\\n'.join([f'{col}: {row[col]}' \n",
    "                                                        for col in sorted(df_topics_lda.columns, key=lambda x: row[x], reverse=True) \n",
    "                                                        if row[col] > 0 and col != 'dominant_topic']), axis=1)\n",
    "df_topics_lda"
   ]
  },
  {
   "cell_type": "code",
   "execution_count": null,
   "id": "48ed4afe",
   "metadata": {},
   "outputs": [],
   "source": [
    "# Visualize topics\n",
    "from sklearn.manifold import TSNE\n",
    "from sklearn.cluster import KMeans\n",
    "\n",
    "# Apply t-SNE for dimensionality reduction\n",
    "tsne = TSNE(n_components=2, angle=0.01, random_state=42, metric='cosine')\n",
    "tsne_result = tsne.fit_transform(df_topics_lda.iloc[:,:n_topics])\n",
    "\n",
    "# Apply K-means clustering\n",
    "kmeans = KMeans(n_clusters=n_topics, n_init=10, random_state=42)\n",
    "cluster_labels = kmeans.fit_predict(df_topics_lda.iloc[:,:n_topics])"
   ]
  },
  {
   "cell_type": "code",
   "execution_count": null,
   "id": "dc0f5bc3",
   "metadata": {
    "scrolled": true
   },
   "outputs": [
    {
     "data": {
      "text/html": [
       "<div>\n",
       "<style scoped>\n",
       "    .dataframe tbody tr th:only-of-type {\n",
       "        vertical-align: middle;\n",
       "    }\n",
       "\n",
       "    .dataframe tbody tr th {\n",
       "        vertical-align: top;\n",
       "    }\n",
       "\n",
       "    .dataframe thead th {\n",
       "        text-align: right;\n",
       "    }\n",
       "</style>\n",
       "<table border=\"1\" class=\"dataframe\">\n",
       "  <thead>\n",
       "    <tr style=\"text-align: right;\">\n",
       "      <th></th>\n",
       "      <th>X</th>\n",
       "      <th>Y</th>\n",
       "      <th>Tweet</th>\n",
       "      <th>Cluster</th>\n",
       "      <th>Breakdown</th>\n",
       "    </tr>\n",
       "  </thead>\n",
       "  <tbody>\n",
       "    <tr>\n",
       "      <th>0</th>\n",
       "      <td>80.540207</td>\n",
       "      <td>67.438240</td>\n",
       "      <td>yes friend, during the time of marcos&lt;br&gt;sr., ...</td>\n",
       "      <td>7</td>\n",
       "      <td>Topic7: 1.0</td>\n",
       "    </tr>\n",
       "    <tr>\n",
       "      <th>1</th>\n",
       "      <td>31.995012</td>\n",
       "      <td>-107.129845</td>\n",
       "      <td>this is the nutribun and milk that was&lt;br&gt;prov...</td>\n",
       "      <td>2</td>\n",
       "      <td>Topic2: 0.69&lt;br&gt;Topic5: 0.3</td>\n",
       "    </tr>\n",
       "    <tr>\n",
       "      <th>2</th>\n",
       "      <td>11.308453</td>\n",
       "      <td>-247.629868</td>\n",
       "      <td>for her birthday, sen. imee offers these&lt;br&gt;nu...</td>\n",
       "      <td>10</td>\n",
       "      <td>Topic10: 1.0</td>\n",
       "    </tr>\n",
       "    <tr>\n",
       "      <th>3</th>\n",
       "      <td>80.023186</td>\n",
       "      <td>102.863457</td>\n",
       "      <td>because of marcos, no student was&lt;br&gt;hungry. t...</td>\n",
       "      <td>7</td>\n",
       "      <td>Topic7: 0.99</td>\n",
       "    </tr>\n",
       "    <tr>\n",
       "      <th>4</th>\n",
       "      <td>11.308453</td>\n",
       "      <td>-247.629868</td>\n",
       "      <td>eschuzme! @dawende, nobody went hungry&lt;br&gt;duri...</td>\n",
       "      <td>10</td>\n",
       "      <td>Topic10: 1.0</td>\n",
       "    </tr>\n",
       "    <tr>\n",
       "      <th>...</th>\n",
       "      <td>...</td>\n",
       "      <td>...</td>\n",
       "      <td>...</td>\n",
       "      <td>...</td>\n",
       "      <td>...</td>\n",
       "    </tr>\n",
       "    <tr>\n",
       "      <th>144</th>\n",
       "      <td>-69.037773</td>\n",
       "      <td>162.150360</td>\n",
       "      <td>girl it's true!! my grandfather always&lt;br&gt;said...</td>\n",
       "      <td>3</td>\n",
       "      <td>Topic3: 1.0</td>\n",
       "    </tr>\n",
       "    <tr>\n",
       "      <th>145</th>\n",
       "      <td>80.540207</td>\n",
       "      <td>67.438240</td>\n",
       "      <td>you say it's all marcos's fault, but he&lt;br&gt;was...</td>\n",
       "      <td>7</td>\n",
       "      <td>Topic7: 1.0</td>\n",
       "    </tr>\n",
       "    <tr>\n",
       "      <th>146</th>\n",
       "      <td>-69.037773</td>\n",
       "      <td>162.150360</td>\n",
       "      <td>i was not born when president marcos was&lt;br&gt;in...</td>\n",
       "      <td>3</td>\n",
       "      <td>Topic3: 1.0</td>\n",
       "    </tr>\n",
       "    <tr>\n",
       "      <th>147</th>\n",
       "      <td>188.617111</td>\n",
       "      <td>15.898989</td>\n",
       "      <td>kida during in marcos' regime eat&lt;br&gt;nutribun ...</td>\n",
       "      <td>8</td>\n",
       "      <td>Topic8: 0.99</td>\n",
       "    </tr>\n",
       "    <tr>\n",
       "      <th>148</th>\n",
       "      <td>-230.467484</td>\n",
       "      <td>-143.406693</td>\n",
       "      <td>when i was kid no one get starving&lt;br&gt;because ...</td>\n",
       "      <td>12</td>\n",
       "      <td>Topic12: 0.99</td>\n",
       "    </tr>\n",
       "  </tbody>\n",
       "</table>\n",
       "<p>149 rows × 5 columns</p>\n",
       "</div>"
      ],
      "text/plain": [
       "              X           Y   \n",
       "0     80.540207   67.438240  \\\n",
       "1     31.995012 -107.129845   \n",
       "2     11.308453 -247.629868   \n",
       "3     80.023186  102.863457   \n",
       "4     11.308453 -247.629868   \n",
       "..          ...         ...   \n",
       "144  -69.037773  162.150360   \n",
       "145   80.540207   67.438240   \n",
       "146  -69.037773  162.150360   \n",
       "147  188.617111   15.898989   \n",
       "148 -230.467484 -143.406693   \n",
       "\n",
       "                                                 Tweet Cluster   \n",
       "0    yes friend, during the time of marcos<br>sr., ...       7  \\\n",
       "1    this is the nutribun and milk that was<br>prov...       2   \n",
       "2    for her birthday, sen. imee offers these<br>nu...      10   \n",
       "3    because of marcos, no student was<br>hungry. t...       7   \n",
       "4    eschuzme! @dawende, nobody went hungry<br>duri...      10   \n",
       "..                                                 ...     ...   \n",
       "144  girl it's true!! my grandfather always<br>said...       3   \n",
       "145  you say it's all marcos's fault, but he<br>was...       7   \n",
       "146  i was not born when president marcos was<br>in...       3   \n",
       "147  kida during in marcos' regime eat<br>nutribun ...       8   \n",
       "148  when i was kid no one get starving<br>because ...      12   \n",
       "\n",
       "                       Breakdown  \n",
       "0                    Topic7: 1.0  \n",
       "1    Topic2: 0.69<br>Topic5: 0.3  \n",
       "2                   Topic10: 1.0  \n",
       "3                   Topic7: 0.99  \n",
       "4                   Topic10: 1.0  \n",
       "..                           ...  \n",
       "144                  Topic3: 1.0  \n",
       "145                  Topic7: 1.0  \n",
       "146                  Topic3: 1.0  \n",
       "147                 Topic8: 0.99  \n",
       "148                Topic12: 0.99  \n",
       "\n",
       "[149 rows x 5 columns]"
      ]
     },
     "execution_count": 14,
     "metadata": {},
     "output_type": "execute_result"
    }
   ],
   "source": [
    "# Create a new dataframe with t-SNE coordinates and cluster labels\n",
    "import textwrap\n",
    "\n",
    "def split_text(text, max_length):\n",
    "  lines = textwrap.wrap(text, width=max_length, break_long_words=False)\n",
    "  return \"<br>\".join(lines)\n",
    "\n",
    "df_topics_cluster = pd.DataFrame({'X': tsne_result[:, 0],\n",
    "                                  'Y': tsne_result[:, 1],\n",
    "                                  'Tweet': tweets.values,\n",
    "                                  'Cluster': df_topics_lda.reset_index()['dominant_topic'].astype(str).values, # topics via LDA\n",
    "                                  # 'Cluster': cluster_labels},                                         # clusters via K-means\n",
    "                                  'Breakdown': df_topics_lda.reset_index()['breakdown'].values})\n",
    "\n",
    "df_topics_cluster['Tweet'] = df_topics_cluster['Tweet'].apply(lambda x: split_text(x, 40))\n",
    "df_topics_cluster['Breakdown'] = df_topics_cluster['Breakdown'].str.replace('\\n','<br>')\n",
    "\n",
    "df_topics_cluster"
   ]
  },
  {
   "cell_type": "code",
   "execution_count": null,
   "id": "78b55fe8",
   "metadata": {},
   "outputs": [
    {
     "data": {
      "application/vnd.plotly.v1+json": {
       "config": {
        "plotlyServerURL": "https://plot.ly"
       },
       "data": [
        {
         "customdata": [
          [
           "1",
           "@bethangsioco you are wrong, with my 50<br>centavo allowance, i already had the<br>ability to buy palamig and sapin sapin,<br>with 10 centavos to spare. during<br>dismissal, i would buy coconut juice<br>with my 50 centavo allowance. it is not<br>true that the value of the peso lowered.",
           "Topic1: 1.0"
          ],
          [
           "1",
           "@thatoneesteban @kbrosas not all people<br>in the part are victims during the time<br>of martial law ... according to my<br>grandfather and grandmother, life back<br>then was great during the time of marcos<br>... martial law was set in place only<br>because of communists ... those who did<br>not disobey the law were not victims ...<br>life was properous back then no hunger<br>...",
           "Topic1: 1.0"
          ],
          [
           "1",
           "this is how cheap the goods were during<br>the time of marcos<br>#marcosjrforpresident2022  bring back<br>marcos",
           "Topic1: 0.98"
          ],
          [
           "1",
           "this was how we were before, many things<br>were free♥️",
           "Topic1: 0.96"
          ],
          [
           "1",
           "when marcos was president, we had free<br>nutribun at school. there was also milk.<br>it was stopped when cory came in. after<br>that there was more chaos in mindanao",
           "Topic1: 0.99"
          ],
          [
           "1",
           "haven't you noticed that the rich are<br>seemingly afraid of marcos because it<br>was the poor who marcos had as priority,<br>during the time of marcos, based on the<br>stories of the elders, the agricultural<br>system was excellent, when the<br>leadership was replaced by the aquinos,<br>former government companies were<br>privatized.",
           "Topic1: 1.0"
          ],
          [
           "1",
           "i agree @pulburonn  ml was very<br>necessary during that time. if it<br>weren't for ml, what happened in<br>cambodia would have also happened to the<br>philippines. also, it was very nice<br>living in the time of marcos. i did not<br>even think of money before because there<br>was a lot of free food that was given by<br>the school and the community.",
           "Topic1: 1.0"
          ],
          [
           "1",
           "i remember during the time of marcos<br>nutribun was free, there was even milk.",
           "Topic1: 0.98"
          ],
          [
           "1",
           "i remember during the time of marcos,<br>nutribun was free, there was even milk.",
           "Topic1: 0.98"
          ]
         ],
         "hovertemplate": "<b>%{hovertext}</b><br><br>Breakdown=%{customdata[2]}<extra></extra>",
         "hovertext": [
          "@bethangsioco you are wrong, with my 50<br>centavo allowance, i already had the<br>ability to buy palamig and sapin sapin,<br>with 10 centavos to spare. during<br>dismissal, i would buy coconut juice<br>with my 50 centavo allowance. it is not<br>true that the value of the peso lowered.",
          "@thatoneesteban @kbrosas not all people<br>in the part are victims during the time<br>of martial law ... according to my<br>grandfather and grandmother, life back<br>then was great during the time of marcos<br>... martial law was set in place only<br>because of communists ... those who did<br>not disobey the law were not victims ...<br>life was properous back then no hunger<br>...",
          "this is how cheap the goods were during<br>the time of marcos<br>#marcosjrforpresident2022  bring back<br>marcos",
          "this was how we were before, many things<br>were free♥️",
          "when marcos was president, we had free<br>nutribun at school. there was also milk.<br>it was stopped when cory came in. after<br>that there was more chaos in mindanao",
          "haven't you noticed that the rich are<br>seemingly afraid of marcos because it<br>was the poor who marcos had as priority,<br>during the time of marcos, based on the<br>stories of the elders, the agricultural<br>system was excellent, when the<br>leadership was replaced by the aquinos,<br>former government companies were<br>privatized.",
          "i agree @pulburonn  ml was very<br>necessary during that time. if it<br>weren't for ml, what happened in<br>cambodia would have also happened to the<br>philippines. also, it was very nice<br>living in the time of marcos. i did not<br>even think of money before because there<br>was a lot of free food that was given by<br>the school and the community.",
          "i remember during the time of marcos<br>nutribun was free, there was even milk.",
          "i remember during the time of marcos,<br>nutribun was free, there was even milk."
         ],
         "legendgroup": "1",
         "marker": {
          "color": "#636efa",
          "symbol": "circle"
         },
         "mode": "markers",
         "name": "1",
         "orientation": "v",
         "showlegend": true,
         "type": "scatter",
         "x": [
          -218.3583526611328,
          -218.3583526611328,
          -210.92205810546875,
          -182.3350372314453,
          -172.01060485839844,
          -192.5296630859375,
          -218.3583526611328,
          -194.35984802246094,
          -210.92205810546875
         ],
         "xaxis": "x",
         "y": [
          113.51825714111328,
          113.51825714111328,
          142.91748046875,
          142.97900390625,
          113.18157196044922,
          121.81513977050781,
          113.51825714111328,
          95.99054718017578,
          142.91748046875
         ],
         "yaxis": "y"
        },
        {
         "customdata": [
          [
           "2",
           "my mom was able to reach the time of<br>marcos... if you were thin and lacked<br>nutrition... you received more attention<br>and you will be given food  my mom also<br>worked in manila before  the rich were<br>really the ones who were furious before",
           "Topic2: 1.0"
          ],
          [
           "2",
           "they said it was chaotic during martial<br>law. well, it was actually peaceful you<br>know. goods were cheap. and there were<br>many freebies from marcos.",
           "Topic2: 0.99"
          ],
          [
           "2",
           "i don't think during the marcos days<br>that people couldn't eat, poop, or leave<br>- they can and they even enjoy the<br>safest environment they are in, there<br>was also economic advancement and<br>welfare. well of course unless they're<br>npas. 😂 now? what happened? why? i don't<br>want to speak. haha!",
           "Topic2: 1.0"
          ],
          [
           "2",
           "this is the nutribun and milk that was<br>provided for the students during the<br>time of ferdinand marcos. ❤<br>https://t.co/le2q3bxblq",
           "Topic2: 0.69<br>Topic5: 0.3"
          ],
          [
           "2",
           "@botitsky ph became self-sufficient in<br>&amp; exporter of rice during fm<br>incumbency. that's why irri was<br>installed in ph in 64, due to potential<br>of ph to model rice production, added to<br>los banos ecology.",
           "Topic2: 1.0"
          ]
         ],
         "hovertemplate": "<b>%{hovertext}</b><br><br>Breakdown=%{customdata[2]}<extra></extra>",
         "hovertext": [
          "my mom was able to reach the time of<br>marcos... if you were thin and lacked<br>nutrition... you received more attention<br>and you will be given food  my mom also<br>worked in manila before  the rich were<br>really the ones who were furious before",
          "they said it was chaotic during martial<br>law. well, it was actually peaceful you<br>know. goods were cheap. and there were<br>many freebies from marcos.",
          "i don't think during the marcos days<br>that people couldn't eat, poop, or leave<br>- they can and they even enjoy the<br>safest environment they are in, there<br>was also economic advancement and<br>welfare. well of course unless they're<br>npas. 😂 now? what happened? why? i don't<br>want to speak. haha!",
          "this is the nutribun and milk that was<br>provided for the students during the<br>time of ferdinand marcos. ❤<br>https://t.co/le2q3bxblq",
          "@botitsky ph became self-sufficient in<br>&amp; exporter of rice during fm<br>incumbency. that's why irri was<br>installed in ph in 64, due to potential<br>of ph to model rice production, added to<br>los banos ecology."
         ],
         "legendgroup": "2",
         "marker": {
          "color": "#EF553B",
          "symbol": "circle"
         },
         "mode": "markers",
         "name": "2",
         "orientation": "v",
         "showlegend": true,
         "type": "scatter",
         "x": [
          -1.6846799850463867,
          -9.28873062133789,
          15.690434455871582,
          31.995012283325195,
          7.28024435043335
         ],
         "xaxis": "x",
         "y": [
          -77.5179214477539,
          -97.91854858398438,
          -89.60161590576172,
          -107.12984466552734,
          -111.39324951171875
         ],
         "yaxis": "y"
        },
        {
         "customdata": [
          [
           "3",
           "girl it's true!! my grandfather always<br>said that life was beautiful when marcos<br>was president, the goods were still very<br>cheap. then mommy said that even when<br>they were in school, marcos always had<br>rationed food for them, so she said<br>there really was no malnourishment<br>during that time.",
           "Topic3: 1.0"
          ],
          [
           "3",
           "i was there. i was in elementary school.<br>project of former president marcos. it<br>was a good life. even if you had no<br>allowance, there was free nutribun and<br>soup.",
           "Topic3: 0.99"
          ],
          [
           "3",
           "@datumx11  you're fake news, percy lapid<br>is more credible than you.. there was no<br>famine back then because there were fti<br>and kadiwa rolling stores around the<br>country aside from mrs marcos' green<br>revolution project.. don't spread<br>ignorance here",
           "Topic3: 1.0"
          ],
          [
           "3",
           "@philstarnews there were free reader's<br>and science digests. 2 pesos for a kilo<br>of rice. cheap goods and food. it wasn't<br>scary to play at night. after edsa we<br>were starving. the price of goods<br>increased. our doctor at the community<br>clinic was gone. there were also no free<br>books at school and whatnot",
           "Topic3: 1.0"
          ],
          [
           "3",
           "@repasar1 everyday nfa employees go<br>around the markets to see if rice<br>retailers sell an overpriced rice. if<br>caught, the license is revoked and they<br>still have a case. no one went hungry<br>during the marcos years. galunggong<br>(mackerel) cost 20/kilo. i hope to<br>return to that lifestyle.",
           "Topic3: 1.0"
          ],
          [
           "3",
           "you are the ones who should stop!!! and<br>it's true that what marcos did in the<br>philippines will never be forgotten, it<br>was beautiful, imagine in his time there<br>was nutribun, klim milk, corn powder and<br>bulgor in schools, and even the clothing<br>was very filipino!! that's why i love<br>marcos",
           "Topic3: 1.0"
          ],
          [
           "3",
           "there really was plenty of food during<br>the time of president marcos. that,<br>cocoy acts like he was paid, just to<br>divert attention. it's always marcos<br>despite the passing of time?<br>#electionfraud2016",
           "Topic3: 0.99"
          ],
          [
           "3",
           "imagine before during the time of<br>president marcos more than 30 years from<br>now, we would be leading more in the<br>entire sea region and exporter of rice<br>because of the masagana 99 project of<br>president marcos  , take note vietnam<br>was one of those countries that the<br>government taught how to harvest rice<br>abundantly now look they are already<br>progressive.",
           "Topic3: 1.0"
          ],
          [
           "3",
           "klim, bulgur, corn meal, those were the<br>rations of the people during the marcos<br>regime which is why nobody went hungry,<br>the 1 centavo could be spent and life<br>was peaceful, there were no snatchers,<br>rapists, holduppers, burglars, and<br>kidnappers. nothing comes close to the<br>time of fem. i was born in 1962 which is<br>why i know this.<br>https://twitter.com/joepring_/status/1450799542996135944",
           "Topic3: 1.0"
          ],
          [
           "3",
           "same with corikong ... what is the deal<br>with @lenirobredo in the future, where<br>even mud will be eaten by the filipinos?<br>during the time of cory, the chicken<br>blood and chicken feet were eaten and a<br>lot were eating pagpag or leftover food<br>because of the aquinos.  marcos is back<br>#launionforbbmsara",
           "Topic3: 1.0"
          ],
          [
           "3",
           "according to the foolish diehard fans of<br>noynoy their lives were better during<br>his time because goods were cheaper. i<br>said instead, \"king ina niyo\" goods were<br>cheaper during the time of marcos.",
           "Topic3: 0.99"
          ],
          [
           "3",
           "back in the time of pres. marcos,<br>copious amounts of food arrived in your<br>homes. i will reiterate, food was the<br>one that approached you. 🤦‍♀️proof?🤦‍♀️<br>are the experiences of my mom, aunts,<br>uncles, and grandma who are still alive<br>right now🤷‍♀️that was their experience<br>during the time of marcos",
           "Topic3: 1.0"
          ],
          [
           "3",
           "@ilda_talk imagine when i was little<br>during the time of p marcos, there was<br>free bread, rice, sardines and klim milk<br>ml is good that time, we were safe now<br>all lost and messy",
           "Topic3: 0.99"
          ],
          [
           "3",
           "back in marcos' era, nobody was poor or<br>hungry because of the free food provided<br>in school and poor families always<br>received aid, i'm a witness, that's the<br>fact! #bbmismypresident2022",
           "Topic3: 0.99"
          ],
          [
           "3",
           "i was not born when president marcos was<br>in power, i really wish i was born in<br>that year because i want to experience<br>what happened in the philippines back<br>then when people were not hungry. i hope<br>it can still happen now, even though<br>there are naive young people",
           "Topic3: 1.0"
          ],
          [
           "3",
           "i was not born during that time but my<br>grandfather said, the agri business was<br>easy back then, since there were<br>assistances. and the prices were cheap,<br>there was many benefits for everyone. 🤗<br>even he belongs to a marcos loyalist. it<br>used to be their group. 💪but, he's gone<br>last 1999 killed by a drug addict. 😣",
           "Topic3: 1.0"
          ],
          [
           "3",
           "during the time of marcos they simply<br>gave away nfa, when cory came into power<br>it suddenly received a price. there was<br>free nutribun amd yellow corn in school.",
           "Topic3: 0.99"
          ],
          [
           "3",
           "true... it's easy to miss the time of<br>marcos. everyone received food. there<br>were even free school supplies back<br>then.",
           "Topic3: 0.99"
          ],
          [
           "3",
           "this bread reminded me that the era of<br>former president ferdinand e. marcos<br>gave free food to the children before,<br>in order to combat malnutrition, for me<br>he is the first best president in the<br>philippines #bbmsara2022",
           "Topic3: 0.99"
          ]
         ],
         "hovertemplate": "<b>%{hovertext}</b><br><br>Breakdown=%{customdata[2]}<extra></extra>",
         "hovertext": [
          "girl it's true!! my grandfather always<br>said that life was beautiful when marcos<br>was president, the goods were still very<br>cheap. then mommy said that even when<br>they were in school, marcos always had<br>rationed food for them, so she said<br>there really was no malnourishment<br>during that time.",
          "i was there. i was in elementary school.<br>project of former president marcos. it<br>was a good life. even if you had no<br>allowance, there was free nutribun and<br>soup.",
          "@datumx11  you're fake news, percy lapid<br>is more credible than you.. there was no<br>famine back then because there were fti<br>and kadiwa rolling stores around the<br>country aside from mrs marcos' green<br>revolution project.. don't spread<br>ignorance here",
          "@philstarnews there were free reader's<br>and science digests. 2 pesos for a kilo<br>of rice. cheap goods and food. it wasn't<br>scary to play at night. after edsa we<br>were starving. the price of goods<br>increased. our doctor at the community<br>clinic was gone. there were also no free<br>books at school and whatnot",
          "@repasar1 everyday nfa employees go<br>around the markets to see if rice<br>retailers sell an overpriced rice. if<br>caught, the license is revoked and they<br>still have a case. no one went hungry<br>during the marcos years. galunggong<br>(mackerel) cost 20/kilo. i hope to<br>return to that lifestyle.",
          "you are the ones who should stop!!! and<br>it's true that what marcos did in the<br>philippines will never be forgotten, it<br>was beautiful, imagine in his time there<br>was nutribun, klim milk, corn powder and<br>bulgor in schools, and even the clothing<br>was very filipino!! that's why i love<br>marcos",
          "there really was plenty of food during<br>the time of president marcos. that,<br>cocoy acts like he was paid, just to<br>divert attention. it's always marcos<br>despite the passing of time?<br>#electionfraud2016",
          "imagine before during the time of<br>president marcos more than 30 years from<br>now, we would be leading more in the<br>entire sea region and exporter of rice<br>because of the masagana 99 project of<br>president marcos  , take note vietnam<br>was one of those countries that the<br>government taught how to harvest rice<br>abundantly now look they are already<br>progressive.",
          "klim, bulgur, corn meal, those were the<br>rations of the people during the marcos<br>regime which is why nobody went hungry,<br>the 1 centavo could be spent and life<br>was peaceful, there were no snatchers,<br>rapists, holduppers, burglars, and<br>kidnappers. nothing comes close to the<br>time of fem. i was born in 1962 which is<br>why i know this.<br>https://twitter.com/joepring_/status/1450799542996135944",
          "same with corikong ... what is the deal<br>with @lenirobredo in the future, where<br>even mud will be eaten by the filipinos?<br>during the time of cory, the chicken<br>blood and chicken feet were eaten and a<br>lot were eating pagpag or leftover food<br>because of the aquinos.  marcos is back<br>#launionforbbmsara",
          "according to the foolish diehard fans of<br>noynoy their lives were better during<br>his time because goods were cheaper. i<br>said instead, \"king ina niyo\" goods were<br>cheaper during the time of marcos.",
          "back in the time of pres. marcos,<br>copious amounts of food arrived in your<br>homes. i will reiterate, food was the<br>one that approached you. 🤦‍♀️proof?🤦‍♀️<br>are the experiences of my mom, aunts,<br>uncles, and grandma who are still alive<br>right now🤷‍♀️that was their experience<br>during the time of marcos",
          "@ilda_talk imagine when i was little<br>during the time of p marcos, there was<br>free bread, rice, sardines and klim milk<br>ml is good that time, we were safe now<br>all lost and messy",
          "back in marcos' era, nobody was poor or<br>hungry because of the free food provided<br>in school and poor families always<br>received aid, i'm a witness, that's the<br>fact! #bbmismypresident2022",
          "i was not born when president marcos was<br>in power, i really wish i was born in<br>that year because i want to experience<br>what happened in the philippines back<br>then when people were not hungry. i hope<br>it can still happen now, even though<br>there are naive young people",
          "i was not born during that time but my<br>grandfather said, the agri business was<br>easy back then, since there were<br>assistances. and the prices were cheap,<br>there was many benefits for everyone. 🤗<br>even he belongs to a marcos loyalist. it<br>used to be their group. 💪but, he's gone<br>last 1999 killed by a drug addict. 😣",
          "during the time of marcos they simply<br>gave away nfa, when cory came into power<br>it suddenly received a price. there was<br>free nutribun amd yellow corn in school.",
          "true... it's easy to miss the time of<br>marcos. everyone received food. there<br>were even free school supplies back<br>then.",
          "this bread reminded me that the era of<br>former president ferdinand e. marcos<br>gave free food to the children before,<br>in order to combat malnutrition, for me<br>he is the first best president in the<br>philippines #bbmsara2022"
         ],
         "legendgroup": "3",
         "marker": {
          "color": "#00cc96",
          "symbol": "circle"
         },
         "mode": "markers",
         "name": "3",
         "orientation": "v",
         "showlegend": true,
         "type": "scatter",
         "x": [
          -69.03777313232422,
          -32.70147705078125,
          -5.511035919189453,
          -39.87624740600586,
          -69.03777313232422,
          -69.03777313232422,
          -32.70147705078125,
          -69.54505920410156,
          -96.40923309326172,
          -63.77434158325195,
          -36.53691482543945,
          -69.54505920410156,
          -36.53691482543945,
          -36.53691482543945,
          -69.03777313232422,
          -69.03777313232422,
          -32.70147705078125,
          -32.70147705078125,
          -36.53691482543945
         ],
         "xaxis": "x",
         "y": [
          162.15036010742188,
          146.96493530273438,
          171.9673614501953,
          219.01007080078125,
          162.15036010742188,
          162.15036010742188,
          146.96493530273438,
          202.03482055664062,
          184.25222778320312,
          126.49569702148438,
          186.16053771972656,
          202.03482055664062,
          186.16053771972656,
          186.16053771972656,
          162.15036010742188,
          162.15036010742188,
          146.96493530273438,
          146.96493530273438,
          186.16053771972656
         ],
         "yaxis": "y"
        },
        {
         "customdata": [
          [
           "4",
           "@philstarnews i do not remember any<br>particular occurrence like that. life<br>was happy and quiet during the time of<br>marcos. we had free ballet and piano<br>teachers. the clinic had doctors and<br>dentists with free medicine. we had free<br>milk and yellow corn that's why we were<br>never hungry. we had feeding in school<br>1/2",
           "Topic4: 1.0"
          ],
          [
           "4",
           "look back: in may 1973, the green<br>revolution was launched by former pres.<br>marcos & madame imelda, under the name<br>of masagana (bountiful) 99,which aimed<br>to produce 99 sacks of rice  per hectare<br>that was necessary to make the country<br>self-sufficient in terms of rice. #pbbm<br>ctto",
           "Topic4: 1.0"
          ],
          [
           "4",
           "for those who experienced free milo,<br>milk(klim), bulgur, bread, free<br>mouthwash during the time of marcos,<br>only marcos has the compassion for those<br>families who are full and hungry without<br>the media covering for them.<br>#labanmarcosjr  still marcos",
           "Topic4: 0.99"
          ],
          [
           "4",
           "during the time of marcos kangkong and<br>galunggong (mackerel) was 20 and 40<br>which they say was what made the lives<br>of people hard. when cory was in power,<br>the price of everything was doubled! but<br>it was still the fault of marcos. the<br>dilaw enjoyed blaming others. any color<br>is fine just not dilaw. choose the real<br>lesser evil.",
           "Topic4: 1.0"
          ],
          [
           "4",
           "time of marcos .... cheap rice and<br>galunggong ...!!! was not the time of a<br>mothers' greed .... bullets replaced<br>rice ....!!!",
           "Topic4: 0.99"
          ],
          [
           "4",
           "@maarrkkkyyyy  correct and panot is the<br>worst.... time of marcos... no child was<br>hungry.",
           "Topic4: 0.99"
          ],
          [
           "4",
           "@ancalerts the masagana 99 project of<br>president marcos during his term, all<br>farmers had bountiful harvest. the<br>philippines even taught the proper<br>harvesting techniques to vietnam. after<br>corykong grabbed the power, all the good<br>projects of president marcos was<br>removed. here we are now after 33 years<br>#bagsak",
           "Topic4: 1.0"
          ],
          [
           "4",
           "@renguillar @k_aletha and 5 others  yes,<br>klim. that is why during marcos, no poor<br>child got hungry. because there were<br>marcos type building of schools. and<br>there were ration snacks.",
           "Topic4: 0.99"
          ]
         ],
         "hovertemplate": "<b>%{hovertext}</b><br><br>Breakdown=%{customdata[2]}<extra></extra>",
         "hovertext": [
          "@philstarnews i do not remember any<br>particular occurrence like that. life<br>was happy and quiet during the time of<br>marcos. we had free ballet and piano<br>teachers. the clinic had doctors and<br>dentists with free medicine. we had free<br>milk and yellow corn that's why we were<br>never hungry. we had feeding in school<br>1/2",
          "look back: in may 1973, the green<br>revolution was launched by former pres.<br>marcos & madame imelda, under the name<br>of masagana (bountiful) 99,which aimed<br>to produce 99 sacks of rice  per hectare<br>that was necessary to make the country<br>self-sufficient in terms of rice. #pbbm<br>ctto",
          "for those who experienced free milo,<br>milk(klim), bulgur, bread, free<br>mouthwash during the time of marcos,<br>only marcos has the compassion for those<br>families who are full and hungry without<br>the media covering for them.<br>#labanmarcosjr  still marcos",
          "during the time of marcos kangkong and<br>galunggong (mackerel) was 20 and 40<br>which they say was what made the lives<br>of people hard. when cory was in power,<br>the price of everything was doubled! but<br>it was still the fault of marcos. the<br>dilaw enjoyed blaming others. any color<br>is fine just not dilaw. choose the real<br>lesser evil.",
          "time of marcos .... cheap rice and<br>galunggong ...!!! was not the time of a<br>mothers' greed .... bullets replaced<br>rice ....!!!",
          "@maarrkkkyyyy  correct and panot is the<br>worst.... time of marcos... no child was<br>hungry.",
          "@ancalerts the masagana 99 project of<br>president marcos during his term, all<br>farmers had bountiful harvest. the<br>philippines even taught the proper<br>harvesting techniques to vietnam. after<br>corykong grabbed the power, all the good<br>projects of president marcos was<br>removed. here we are now after 33 years<br>#bagsak",
          "@renguillar @k_aletha and 5 others  yes,<br>klim. that is why during marcos, no poor<br>child got hungry. because there were<br>marcos type building of schools. and<br>there were ration snacks."
         ],
         "legendgroup": "4",
         "marker": {
          "color": "#ab63fa",
          "symbol": "circle"
         },
         "mode": "markers",
         "name": "4",
         "orientation": "v",
         "showlegend": true,
         "type": "scatter",
         "x": [
          -6.634251117706299,
          -43.573978424072266,
          -22.879302978515625,
          -48.307640075683594,
          -31.770837783813477,
          -22.879302978515625,
          -18.787147521972656,
          -54.356178283691406
         ],
         "xaxis": "x",
         "y": [
          10.060861587524414,
          -12.173112869262695,
          30.839677810668945,
          33.3345832824707,
          8.162708282470703,
          30.839677810668945,
          -11.434159278869629,
          10.50372314453125
         ],
         "yaxis": "y"
        },
        {
         "customdata": [
          [
           "5",
           "i remember back then, even when i did<br>not have pocket money, i was still able<br>to eat because of the free nutribun and<br>klim milk for the students and because<br>of that no student went hungry, marcos<br>had true compassion for the filpinos and<br>the country",
           "Topic5: 0.99"
          ],
          [
           "5",
           "back then there was free klim milk,<br>nutribun bread and wheat or bulgur that<br>were distributed daily to public schools<br>to fight malnutrition in our country.<br>but when marcos disappeared and cory<br>aquino became the president, the free<br>[nutribun] gradually disappeared<br>#covid19ph",
           "Topic5: 1.0"
          ],
          [
           "5",
           "marcos sr had a great vision for this<br>country. food &energy sufficiency coz he<br>planned to be the asia's superpower.he<br>built roads,bridges,power plants &<br>towers for power transport then hired<br>brains to make the best crops. but a<br>housewife told us that she's better.<br>now,we're poor.",
           "Topic5: 1.0"
          ],
          [
           "5",
           "during the time of marcos, the rise of<br>the dollar was controlled, galunggong<br>(mackerel) was cheap. why do those<br>people who did not even reach the marcos<br>regime feel the need to get mad? i was<br>grade 1 during martial law. i go to<br>school alone, because my parents felt<br>secure that there were no addicts on the<br>street.",
           "Topic5: 1.0"
          ],
          [
           "5",
           "during the time of pres marcos, no one<br>was hungry in school because there was<br>nutribun am & pm, the roads were safe,<br>the people were polite.",
           "Topic5: 0.99"
          ],
          [
           "5",
           "there were npa members who pretended to<br>be soldiers back then to show that the<br>martial law declared by marcos was bad.<br>and my dad and mom said they were taken<br>care of, there was always food and<br>vaccines, no child went hungry, marcos<br>and imelda visited from house to house",
           "Topic5: 1.0"
          ],
          [
           "5",
           "who among you had the chance to taste<br>the klim and corn flour which were great<br>in making polvoron. it was free during<br>the time of ferdinand marcos! plus<br>nutribun. #genx let us not fool<br>ourselves i am genx💅🏼😎",
           "Topic5: 0.99"
          ],
          [
           "5",
           "ph attained food sufficiency only under<br>ferdinand marcos<br>https://viralvideo.ph/ph-attained-food-<br>sufficiency-only-under-ferdinand-<br>marcos/?utm_source=rss&utm_medium=rss&utm_campaign=ph-<br>attained-food-sufficiency-only-under-<br>ferdinand-marcos",
           "Topic5: 0.98"
          ],
          [
           "5",
           "👊👊👊 it's become crazy at least during<br>the time of president marcos the<br>students were not hungry because there<br>were free snacks like nutribun and it<br>was still hot. then every family was<br>also given monthly powdered milk and<br>powdered chuchu which is made into<br>lugaw.<br>https://facebook.com/fe.venus/posts/3610255529014821",
           "Topic5: 1.0"
          ],
          [
           "5",
           "ph attained food sufficiency only under<br>ferdinand marcos<br>https://viralvideo.ph/ph-attained-food-<br>sufficiency-only-under-ferdinand-<br>marcos/?utm_source=rss&utm_medium=rss&utm_campaign=ph-<br>attained-food-sufficiency-only-under-<br>ferdinand-marcos",
           "Topic5: 0.98"
          ],
          [
           "5",
           "food was free in public schools during<br>the time of marcos. goodness gracious.<br>#pilipinasdebates2016",
           "Topic5: 0.98"
          ],
          [
           "5",
           "answer cory's biggest jejemon trolls!!!<br>your brain has no nutrition..  at least<br>marcos had nutribun, klim, trigo and<br>free dental hygiene check up..",
           "Topic5: 0.99"
          ],
          [
           "5",
           "i grew old without knowing what the<br>aquino family did... i studied<br>elementary during the time of president<br>marcos, we had food and milk at school.<br>when the government went to the mother<br>of the balding man, all students went<br>hungry. that's how trash the dilawan<br>were",
           "Topic5: 1.0"
          ],
          [
           "5",
           "@apocalypsetita @jcmanila and 3 others<br>that's why i remember during marcos's<br>time there was a green revolution, the<br>fields were abundant for the pinoys, no<br>one was hungry because there was always<br>a new harvest in the backyard planting.<br>now lazy lazy lazy just hope. even in<br>the family, we still depend on the<br>parents, even if we already have our own<br>family. that's the truth",
           "Topic5: 1.0"
          ],
          [
           "5",
           "@tloremla  it's true!! during marcos<br>time, i was in grade school free food at<br>school.. no child hungry at school and<br>there was free milk and the nutribun<br>bread was very big...",
           "Topic5: 0.99"
          ],
          [
           "5",
           "because he was so angry with the marcos<br>family, he didn't taste nutribun and<br>klim due to being rich back then or he<br>was paid by the activists ever since he<br>was in high school 😂",
           "Topic5: 0.99"
          ],
          [
           "5",
           "there are still \"never again\" and<br>\"marcos not a hero\" remaining idiots<br>here in the philippines. most of them<br>did not even reach martial law or at<br>least ate the last nutribun.  dumb<br>people indoctrinated by the holy<br>textbook, designed by aquino's oligarch<br>allies.",
           "Topic5: 1.0"
          ],
          [
           "5",
           "sometimes when my mother was talking<br>about how good the country was back then<br>under marcos' rule, like cheap food,<br>free nutribun in schools, it seemed like<br>it would be better to go back to that<br>time",
           "Topic5: 0.99"
          ],
          [
           "5",
           "ph attained food sufficiency only under<br>ferdinand marcos<br>https://viralvideo.ph/ph-attained-food-<br>sufficiency-only-under-ferdinand-<br>marcos/?utm_source=rss&utm_medium=rss&utm_campaign=ph-<br>attained-food-sufficiency-only-under-<br>ferdinand-marcos",
           "Topic5: 0.98"
          ]
         ],
         "hovertemplate": "<b>%{hovertext}</b><br><br>Breakdown=%{customdata[2]}<extra></extra>",
         "hovertext": [
          "i remember back then, even when i did<br>not have pocket money, i was still able<br>to eat because of the free nutribun and<br>klim milk for the students and because<br>of that no student went hungry, marcos<br>had true compassion for the filpinos and<br>the country",
          "back then there was free klim milk,<br>nutribun bread and wheat or bulgur that<br>were distributed daily to public schools<br>to fight malnutrition in our country.<br>but when marcos disappeared and cory<br>aquino became the president, the free<br>[nutribun] gradually disappeared<br>#covid19ph",
          "marcos sr had a great vision for this<br>country. food &energy sufficiency coz he<br>planned to be the asia's superpower.he<br>built roads,bridges,power plants &<br>towers for power transport then hired<br>brains to make the best crops. but a<br>housewife told us that she's better.<br>now,we're poor.",
          "during the time of marcos, the rise of<br>the dollar was controlled, galunggong<br>(mackerel) was cheap. why do those<br>people who did not even reach the marcos<br>regime feel the need to get mad? i was<br>grade 1 during martial law. i go to<br>school alone, because my parents felt<br>secure that there were no addicts on the<br>street.",
          "during the time of pres marcos, no one<br>was hungry in school because there was<br>nutribun am & pm, the roads were safe,<br>the people were polite.",
          "there were npa members who pretended to<br>be soldiers back then to show that the<br>martial law declared by marcos was bad.<br>and my dad and mom said they were taken<br>care of, there was always food and<br>vaccines, no child went hungry, marcos<br>and imelda visited from house to house",
          "who among you had the chance to taste<br>the klim and corn flour which were great<br>in making polvoron. it was free during<br>the time of ferdinand marcos! plus<br>nutribun. #genx let us not fool<br>ourselves i am genx💅🏼😎",
          "ph attained food sufficiency only under<br>ferdinand marcos<br>https://viralvideo.ph/ph-attained-food-<br>sufficiency-only-under-ferdinand-<br>marcos/?utm_source=rss&utm_medium=rss&utm_campaign=ph-<br>attained-food-sufficiency-only-under-<br>ferdinand-marcos",
          "👊👊👊 it's become crazy at least during<br>the time of president marcos the<br>students were not hungry because there<br>were free snacks like nutribun and it<br>was still hot. then every family was<br>also given monthly powdered milk and<br>powdered chuchu which is made into<br>lugaw.<br>https://facebook.com/fe.venus/posts/3610255529014821",
          "ph attained food sufficiency only under<br>ferdinand marcos<br>https://viralvideo.ph/ph-attained-food-<br>sufficiency-only-under-ferdinand-<br>marcos/?utm_source=rss&utm_medium=rss&utm_campaign=ph-<br>attained-food-sufficiency-only-under-<br>ferdinand-marcos",
          "food was free in public schools during<br>the time of marcos. goodness gracious.<br>#pilipinasdebates2016",
          "answer cory's biggest jejemon trolls!!!<br>your brain has no nutrition..  at least<br>marcos had nutribun, klim, trigo and<br>free dental hygiene check up..",
          "i grew old without knowing what the<br>aquino family did... i studied<br>elementary during the time of president<br>marcos, we had food and milk at school.<br>when the government went to the mother<br>of the balding man, all students went<br>hungry. that's how trash the dilawan<br>were",
          "@apocalypsetita @jcmanila and 3 others<br>that's why i remember during marcos's<br>time there was a green revolution, the<br>fields were abundant for the pinoys, no<br>one was hungry because there was always<br>a new harvest in the backyard planting.<br>now lazy lazy lazy just hope. even in<br>the family, we still depend on the<br>parents, even if we already have our own<br>family. that's the truth",
          "@tloremla  it's true!! during marcos<br>time, i was in grade school free food at<br>school.. no child hungry at school and<br>there was free milk and the nutribun<br>bread was very big...",
          "because he was so angry with the marcos<br>family, he didn't taste nutribun and<br>klim due to being rich back then or he<br>was paid by the activists ever since he<br>was in high school 😂",
          "there are still \"never again\" and<br>\"marcos not a hero\" remaining idiots<br>here in the philippines. most of them<br>did not even reach martial law or at<br>least ate the last nutribun.  dumb<br>people indoctrinated by the holy<br>textbook, designed by aquino's oligarch<br>allies.",
          "sometimes when my mother was talking<br>about how good the country was back then<br>under marcos' rule, like cheap food,<br>free nutribun in schools, it seemed like<br>it would be better to go back to that<br>time",
          "ph attained food sufficiency only under<br>ferdinand marcos<br>https://viralvideo.ph/ph-attained-food-<br>sufficiency-only-under-ferdinand-<br>marcos/?utm_source=rss&utm_medium=rss&utm_campaign=ph-<br>attained-food-sufficiency-only-under-<br>ferdinand-marcos"
         ],
         "legendgroup": "5",
         "marker": {
          "color": "#FFA15A",
          "symbol": "circle"
         },
         "mode": "markers",
         "name": "5",
         "orientation": "v",
         "showlegend": true,
         "type": "scatter",
         "x": [
          144.02891540527344,
          101.40633392333984,
          115.32681274414062,
          156.73495483398438,
          139.1040802001953,
          156.73495483398438,
          80.33096313476562,
          118.96611785888672,
          101.40633392333984,
          118.96611785888672,
          118.96611785888672,
          139.1040802001953,
          156.73495483398438,
          101.40633392333984,
          89.9976806640625,
          139.1040802001953,
          101.40633392333984,
          139.1040802001953,
          118.96611785888672
         ],
         "xaxis": "x",
         "y": [
          -162.4788818359375,
          -100.88731384277344,
          -167.65744018554688,
          -131.91416931152344,
          -98.74905395507812,
          -131.91416931152344,
          -126.9582290649414,
          -134.2237091064453,
          -100.88731384277344,
          -134.2237091064453,
          -134.2237091064453,
          -98.74905395507812,
          -131.91416931152344,
          -100.88731384277344,
          -152.27244567871094,
          -98.74905395507812,
          -100.88731384277344,
          -98.74905395507812,
          -134.2237091064453
         ],
         "yaxis": "y"
        },
        {
         "customdata": [
          [
           "6",
           "i hope it goes back to the time before<br>when schools had garden vegetables<br>hahhah it was so fun to garden, cook,<br>then eat. also the free milk and bread<br>led to students being full during the<br>time of marcos",
           "Topic6: 0.86<br>Topic5: 0.13"
          ],
          [
           "6",
           "i know that you did not reach marcos'<br>time back then. there were few poor and<br>hungry back then. even the children<br>weren't malnourished because of the free<br>food back then. 80% poor people? you are<br>the ones who don't know anything because<br>you weren't born during marcos' time",
           "Topic6: 1.0"
          ],
          [
           "6",
           "during the time of marcos nfa rice was<br>not sold, it was free, rationed, and<br>given to the poor",
           "Topic6: 0.99"
          ],
          [
           "6",
           "@rodybaher3 and @conrado_balweg it's not<br>sustainable but no one was hungry during<br>that time?? all the goods were cheap?<br>they say there was nothing difficult<br>during the time of marcos and before you<br>speak of a dictator, first learn why<br>martial law needed to be implemented",
           "Topic6: 0.99"
          ]
         ],
         "hovertemplate": "<b>%{hovertext}</b><br><br>Breakdown=%{customdata[2]}<extra></extra>",
         "hovertext": [
          "i hope it goes back to the time before<br>when schools had garden vegetables<br>hahhah it was so fun to garden, cook,<br>then eat. also the free milk and bread<br>led to students being full during the<br>time of marcos",
          "i know that you did not reach marcos'<br>time back then. there were few poor and<br>hungry back then. even the children<br>weren't malnourished because of the free<br>food back then. 80% poor people? you are<br>the ones who don't know anything because<br>you weren't born during marcos' time",
          "during the time of marcos nfa rice was<br>not sold, it was free, rationed, and<br>given to the poor",
          "@rodybaher3 and @conrado_balweg it's not<br>sustainable but no one was hungry during<br>that time?? all the goods were cheap?<br>they say there was nothing difficult<br>during the time of marcos and before you<br>speak of a dictator, first learn why<br>martial law needed to be implemented"
         ],
         "legendgroup": "6",
         "marker": {
          "color": "#19d3f3",
          "symbol": "circle"
         },
         "mode": "markers",
         "name": "6",
         "orientation": "v",
         "showlegend": true,
         "type": "scatter",
         "x": [
          69.34392547607422,
          49.82377243041992,
          57.944400787353516,
          38.67323303222656
         ],
         "xaxis": "x",
         "y": [
          -37.0535774230957,
          -43.50339126586914,
          -19.728540420532227,
          -26.608503341674805
         ],
         "yaxis": "y"
        },
        {
         "customdata": [
          [
           "7",
           "its 1982 and marcos wants food self-<br>sufficiency coupled with economic<br>independence for the philippines.",
           "Topic7: 0.99"
          ],
          [
           "7",
           "a lot of things were free during the<br>time of marcos and there were a lot of<br>rations even if there weren't typhoons.<br>during the time of panot, even if you<br>already suffered from the typhoon, you<br>will still not be given aid if you were<br>not a supporter. do you remember yolanda",
           "Topic7: 1.0"
          ],
          [
           "7",
           "they act like they were already there<br>during the time of marcos? hey eneng<br>don't be a brat because i was alive<br>during the time of marcos but i never<br>had a bad experience, and i remember my<br>school days, milk, bread, and bulgor<br>were free in school... after edsa, the<br>npas that replaced them dabbled in<br>corrupt acts in the farm..😠😠",
           "Topic7: 1.0"
          ],
          [
           "7",
           "you say it's all marcos's fault, but he<br>was already sitting, you can blame the<br>past administration, during marcos' time<br>there were free education and free meals<br>for the students, why even the education<br>of bbm's son you're complaining, you<br>know you're just envious😜 blame the<br>dilawan",
           "Topic7: 1.0"
          ],
          [
           "7",
           "@mjcayabyabinq sister, are you like this<br>because you didn't get to eat nutribun?<br>ask the elders it was free during the<br>time of marcos.",
           "Topic7: 0.99"
          ],
          [
           "7",
           "but tbh it was good during marcos' time,<br>the goods were cheap. and you could buy<br>more than 3 kilos of rice for 6 pesos,<br>right?",
           "Topic7: 0.99"
          ],
          [
           "7",
           "@thedorkknight9 bro, marcos is the<br>president of my people., that's a sick<br>child you posted and even in this day<br>there are children like that who get<br>sick. there was no famine during marcos'<br>time because i was already a person of<br>that time..everything was cheaper<br>including water, electricity was cheap<br>and at work everything was regular.",
           "Topic7: 1.0"
          ],
          [
           "7",
           "everything was caused by marcos, he was<br>already in power, blame the past<br>administration, back during the time of<br>marcos there was free education and even<br>the food for the students was free, why<br>meddle with the schooling of bbm's son<br>that's just jealousy😜blame the dilawan",
           "Topic7: 1.0"
          ],
          [
           "7",
           "there was martial law during the marcos<br>era, but the prices were cheap and no<br>one was hungry",
           "Topic7: 0.51<br>Topic5: 0.24<br>Topic3: 0.23"
          ],
          [
           "7",
           "the reason why the poor were the only<br>ones who suffered is because of the<br>dilawan who became pink now..back during<br>the time of marcos we did not feel<br>hunger because the free food and milk<br>were abundant... back during the time of<br>cory it went downhill even until ninoy.<br>https://twitter.com/joepring_/status/1450799542996135944",
           "Topic7: 1.0"
          ],
          [
           "7",
           "yes friend, during the time of marcos<br>sr., they we're able to do just that,<br>the masagana 99 project. from giving<br>fertilizer up to distribution to<br>\"kadiwa\" of different agricultural<br>products, the government worked hand in<br>hand with the farmers.",
           "Topic7: 1.0"
          ],
          [
           "7",
           "during marcos time, bringin money to<br>school was not a trend and there were no<br>hungry students. students were just<br>advised to bring glass....<br>http://fb.me/4eqygvqaz",
           "Topic7: 0.99"
          ],
          [
           "7",
           "@jeniieandpeers and @kayemontevidad<br>bruh, during the time of marcos, even<br>the poor could eat because everything<br>was cheap, and now you're still going to<br>vote for someone who didn't develop the<br>philippines, you're just a stupid boy",
           "Topic7: 1.0"
          ],
          [
           "7",
           "why did we get free nutribun and sopas<br>during the time of marcos after his<br>regime no more",
           "Topic7: 0.78<br>Topic8: 0.21"
          ],
          [
           "7",
           "because of marcos, no student was<br>hungry. thanks for the nutribun marcos!<br>long live marcos! #mlnonfiction",
           "Topic7: 0.99"
          ]
         ],
         "hovertemplate": "<b>%{hovertext}</b><br><br>Breakdown=%{customdata[2]}<extra></extra>",
         "hovertext": [
          "its 1982 and marcos wants food self-<br>sufficiency coupled with economic<br>independence for the philippines.",
          "a lot of things were free during the<br>time of marcos and there were a lot of<br>rations even if there weren't typhoons.<br>during the time of panot, even if you<br>already suffered from the typhoon, you<br>will still not be given aid if you were<br>not a supporter. do you remember yolanda",
          "they act like they were already there<br>during the time of marcos? hey eneng<br>don't be a brat because i was alive<br>during the time of marcos but i never<br>had a bad experience, and i remember my<br>school days, milk, bread, and bulgor<br>were free in school... after edsa, the<br>npas that replaced them dabbled in<br>corrupt acts in the farm..😠😠",
          "you say it's all marcos's fault, but he<br>was already sitting, you can blame the<br>past administration, during marcos' time<br>there were free education and free meals<br>for the students, why even the education<br>of bbm's son you're complaining, you<br>know you're just envious😜 blame the<br>dilawan",
          "@mjcayabyabinq sister, are you like this<br>because you didn't get to eat nutribun?<br>ask the elders it was free during the<br>time of marcos.",
          "but tbh it was good during marcos' time,<br>the goods were cheap. and you could buy<br>more than 3 kilos of rice for 6 pesos,<br>right?",
          "@thedorkknight9 bro, marcos is the<br>president of my people., that's a sick<br>child you posted and even in this day<br>there are children like that who get<br>sick. there was no famine during marcos'<br>time because i was already a person of<br>that time..everything was cheaper<br>including water, electricity was cheap<br>and at work everything was regular.",
          "everything was caused by marcos, he was<br>already in power, blame the past<br>administration, back during the time of<br>marcos there was free education and even<br>the food for the students was free, why<br>meddle with the schooling of bbm's son<br>that's just jealousy😜blame the dilawan",
          "there was martial law during the marcos<br>era, but the prices were cheap and no<br>one was hungry",
          "the reason why the poor were the only<br>ones who suffered is because of the<br>dilawan who became pink now..back during<br>the time of marcos we did not feel<br>hunger because the free food and milk<br>were abundant... back during the time of<br>cory it went downhill even until ninoy.<br>https://twitter.com/joepring_/status/1450799542996135944",
          "yes friend, during the time of marcos<br>sr., they we're able to do just that,<br>the masagana 99 project. from giving<br>fertilizer up to distribution to<br>\"kadiwa\" of different agricultural<br>products, the government worked hand in<br>hand with the farmers.",
          "during marcos time, bringin money to<br>school was not a trend and there were no<br>hungry students. students were just<br>advised to bring glass....<br>http://fb.me/4eqygvqaz",
          "@jeniieandpeers and @kayemontevidad<br>bruh, during the time of marcos, even<br>the poor could eat because everything<br>was cheap, and now you're still going to<br>vote for someone who didn't develop the<br>philippines, you're just a stupid boy",
          "why did we get free nutribun and sopas<br>during the time of marcos after his<br>regime no more",
          "because of marcos, no student was<br>hungry. thanks for the nutribun marcos!<br>long live marcos! #mlnonfiction"
         ],
         "legendgroup": "7",
         "marker": {
          "color": "#FF6692",
          "symbol": "circle"
         },
         "mode": "markers",
         "name": "7",
         "orientation": "v",
         "showlegend": true,
         "type": "scatter",
         "x": [
          76.14017486572266,
          80.54020690917969,
          80.54020690917969,
          80.54020690917969,
          47.24701690673828,
          47.24701690673828,
          101.8393325805664,
          106.50348663330078,
          53.88570785522461,
          106.50348663330078,
          80.54020690917969,
          52.30488967895508,
          80.54020690917969,
          118.73091888427734,
          80.02318572998047
         ],
         "xaxis": "x",
         "y": [
          33.42945861816406,
          67.43824005126953,
          67.43824005126953,
          67.43824005126953,
          74.47830200195312,
          74.47830200195312,
          40.72203826904297,
          90.0289077758789,
          103.21897888183594,
          90.0289077758789,
          67.43824005126953,
          45.452030181884766,
          67.43824005126953,
          61.76706314086914,
          102.86345672607422
         ],
         "yaxis": "y"
        },
        {
         "customdata": [
          [
           "8",
           "i was here when it happened--free during<br>the time of marcos, , bam said during<br>the time of aquino--scraps were the only<br>thing you can eat from the store.",
           "Topic8: 0.99"
          ],
          [
           "8",
           "even here in laguna the elders still<br>prefer the time of marcos. there were<br>many projects, the people were<br>disciplined, there was a lot of food,<br>there was a focus in projects related to<br>education, etc.",
           "Topic8: 0.99"
          ],
          [
           "8",
           "@dozz3h_vbril that is what i experienced<br>back then, during the time of<br>marcos..agricultural products were in<br>abundance..because of governmental<br>support, especially with irrigation..and<br>everthing changed when marcos sr. was<br>removed from office.<br>https://t.co/ickbrv5xtm..",
           "Topic8: 0.99"
          ],
          [
           "8",
           "during the time of marcos, there was<br>free food in public schools. the<br>infrastructures.",
           "Topic8: 0.98"
          ],
          [
           "8",
           "nutribun was a healthy snack advocated<br>during the administration of president<br>marcos, distributed in public schools<br>nationwide, to minimize the consumption<br>of unhealthy junk foods by students for<br>a healthy living.    read full story:<br>http://pia.gov.ph/news/articles/1024894.",
           "Topic8: 1.0"
          ],
          [
           "8",
           "they were happy during the time of<br>marcos because they had free nutribun 😴",
           "Topic8: 0.74<br>Topic5: 0.23"
          ],
          [
           "8",
           "during the time of marcos, it was never<br>the case where betamax, isaw, ulo, pwet,<br>paa ng manok (chicken blood, chicken<br>intestine, chicken head, chicken butt,<br>chicken feet) were eaten.  but when the<br>economy was handled by the cartel's that<br>acted as tentacles by korikong or dila<br>one after edsa1?  oh all of those things<br>became a viand of poor filipinos.<br>gets!!!...",
           "Topic8: 1.0"
          ],
          [
           "8",
           "kida during in marcos' regime eat<br>nutribun bread, i thought ppl are<br>starving marcos regime    and kids in<br>nowadays eat a bag of piattos....    the<br>evolution of school snacks",
           "Topic8: 0.99"
          ],
          [
           "8",
           "do you not know that during the time of<br>marcos, there was always free food? fish<br>among others were cheap",
           "Topic8: 0.99"
          ],
          [
           "8",
           "@lynr3 @fortunatojen @banwa_ko<br>@krisaquinoworld i was alive during the<br>time of marcos my father had a decent<br>job, we were filled with skim milk and<br>nutribun. i am guessing that you are<br>stubborn that is why you do not like<br>marcos",
           "Topic8: 0.99"
          ]
         ],
         "hovertemplate": "<b>%{hovertext}</b><br><br>Breakdown=%{customdata[2]}<extra></extra>",
         "hovertext": [
          "i was here when it happened--free during<br>the time of marcos, , bam said during<br>the time of aquino--scraps were the only<br>thing you can eat from the store.",
          "even here in laguna the elders still<br>prefer the time of marcos. there were<br>many projects, the people were<br>disciplined, there was a lot of food,<br>there was a focus in projects related to<br>education, etc.",
          "@dozz3h_vbril that is what i experienced<br>back then, during the time of<br>marcos..agricultural products were in<br>abundance..because of governmental<br>support, especially with irrigation..and<br>everthing changed when marcos sr. was<br>removed from office.<br>https://t.co/ickbrv5xtm..",
          "during the time of marcos, there was<br>free food in public schools. the<br>infrastructures.",
          "nutribun was a healthy snack advocated<br>during the administration of president<br>marcos, distributed in public schools<br>nationwide, to minimize the consumption<br>of unhealthy junk foods by students for<br>a healthy living.    read full story:<br>http://pia.gov.ph/news/articles/1024894.",
          "they were happy during the time of<br>marcos because they had free nutribun 😴",
          "during the time of marcos, it was never<br>the case where betamax, isaw, ulo, pwet,<br>paa ng manok (chicken blood, chicken<br>intestine, chicken head, chicken butt,<br>chicken feet) were eaten.  but when the<br>economy was handled by the cartel's that<br>acted as tentacles by korikong or dila<br>one after edsa1?  oh all of those things<br>became a viand of poor filipinos.<br>gets!!!...",
          "kida during in marcos' regime eat<br>nutribun bread, i thought ppl are<br>starving marcos regime    and kids in<br>nowadays eat a bag of piattos....    the<br>evolution of school snacks",
          "do you not know that during the time of<br>marcos, there was always free food? fish<br>among others were cheap",
          "@lynr3 @fortunatojen @banwa_ko<br>@krisaquinoworld i was alive during the<br>time of marcos my father had a decent<br>job, we were filled with skim milk and<br>nutribun. i am guessing that you are<br>stubborn that is why you do not like<br>marcos"
         ],
         "legendgroup": "8",
         "marker": {
          "color": "#B6E880",
          "symbol": "circle"
         },
         "mode": "markers",
         "name": "8",
         "orientation": "v",
         "showlegend": true,
         "type": "scatter",
         "x": [
          188.6171112060547,
          188.6171112060547,
          213.7025909423828,
          183.43077087402344,
          216.83819580078125,
          199.05419921875,
          163.99783325195312,
          188.6171112060547,
          213.7025909423828,
          213.7025909423828
         ],
         "xaxis": "x",
         "y": [
          15.898988723754883,
          15.898988723754883,
          -4.975439071655273,
          -14.315385818481445,
          25.59939193725586,
          -32.7834587097168,
          -0.06093237176537514,
          15.898988723754883,
          -4.975439071655273,
          -4.975439071655273
         ],
         "yaxis": "y"
        },
        {
         "customdata": [
          [
           "9",
           "@silverrage1 @bongbongmarcos our economy<br>would not have failed if every province<br>had an agricultural system like ilocos,<br>especially that my parents were both<br>farmers. remember that the philippines<br>was the biggest exporter during the time<br>of marcos because of masagana 99 and of<br>other things for agriculture.",
           "Topic9: 1.0"
          ],
          [
           "9",
           "your dilawan has already lost. the<br>filipinos have been awakened. during the<br>time of marcos, the philippines had<br>almost the same economic level as that<br>of japan. our military weaponry was also<br>strong. we were considered as the tiger<br>of asia before, and we were the number 1<br>exporter of rice in asia as well as a<br>factory or producer of sugarcane.",
           "Topic9: 1.0"
          ],
          [
           "9",
           "#marcosjr2022 the five-peso coin was<br>still valuable back then. goods were<br>cheap back then, but now even<br>electricity on its own is already<br>expensive. before, electricity and water<br>were almost free in the time of marcos.<br>we even had free rice and groceries from<br>the company. when corykong came into<br>power everything went up",
           "Topic9: 1.0"
          ],
          [
           "9",
           "25. during marcos' time he founded the<br>group \"kadiwa\" which helped and gave<br>free food to the poor which was why no<br>filipino went hungry during his time.",
           "Topic9: 0.99"
          ],
          [
           "9",
           "@gmanews fake history  during the time<br>of marcos you could ask for salt,<br>coffee, rice and canned goods, polvoron,<br>milk for the children.. it is much ok<br>with marcos https://t.co/997dmrjl6f",
           "Topic9: 0.99"
          ],
          [
           "9",
           "true that, back in marcos' time, the<br>people never failed to eat tree times a<br>day  galunggong (mackerel) went from<br>being the food of the poor to the food<br>of the rich, that is the hallmark of<br>cory aquino's administration!",
           "Topic9: 0.99"
          ],
          [
           "9",
           "what about us who had a good life during<br>the time of marcos where ayuda (social<br>amelioration) was given even if there<br>was no pandemic, almost every week and<br>we were able to ask for fish from the<br>palengke (market) #bbmismypresident2022",
           "Topic9: 0.99"
          ],
          [
           "9",
           "@azzirk_eyak @alterbacoor<br>@krisaquinoworld since marcos regime we<br>were 2nd across the globe next to japan,<br>do not get me started with coconut<br>products, 101 products were contributed<br>by the philippines to the world. 1<br>dollar is equivalent to 1 peso. that was<br>how great the philippines was during the<br>time of marcos, of course promoted by<br>grandpa,",
           "Topic9: 1.0"
          ],
          [
           "9",
           "@gentrisenyo @rexinyeta why do you keep<br>on buying ham when cheese is already<br>more than enough. ambisyosa pa. emeeee<br>but seriously, it is quite unfortunate<br>that this is now the only purchasing<br>power of our money. i really liked the<br>time of ferdinand edralin marcos when<br>prices were low and nutribun was given<br>for free hahahaha charrr",
           "Topic9: 1.0"
          ],
          [
           "9",
           "during marcos' time he founded the group<br>\"kadiwa\" which helped and gave free food<br>to the poor which was why no filipino<br>went hungry during his time.<br>#bringbackmarcos",
           "Topic9: 0.99"
          ],
          [
           "9",
           "25. during marcos' time he founded the<br>group \"kadiwa\" which helped and gave<br>free food to the poor which was why no<br>filipino went hungry during his time.",
           "Topic9: 0.99"
          ],
          [
           "9",
           "because during the time of president<br>marcos, food was in abundance for<br>filipinos that were given by the marcos<br>administration. during the time of cory,<br>the live of filipinos became harder<br>because she had government resources<br>sold. because of hunger, the filipinos<br>learned to eat isaw (chicken intestine)",
           "Topic9: 1.0"
          ],
          [
           "9",
           "correct... those projects that could<br>have solved the shortage of agri<br>products, masagana99 and to help our<br>farmers to sell their products, where<br>there was no selfish middleman, straight<br>to kadiwa to sell their products.",
           "Topic9: 0.99"
          ],
          [
           "9",
           "who had the chance to taste this? during<br>elementary days .. these were so good<br>grabe .. how i wish i had the<br>opportunity to witness this scene  the<br>things that they gave the filipinos were<br>good, but we reciprocated them with<br>sorrow  that is why we will come back<br>with bbm!  (ctto)<br>https://t.co/waulxirpqa",
           "Topic9: 0.99"
          ],
          [
           "9",
           "i went through a phase where egg pie was<br>still cheap and that's what i ate when i<br>was depressed. that was marcos' time..<br>hay. it was so cheap. charot.",
           "Topic9: 0.99"
          ]
         ],
         "hovertemplate": "<b>%{hovertext}</b><br><br>Breakdown=%{customdata[2]}<extra></extra>",
         "hovertext": [
          "@silverrage1 @bongbongmarcos our economy<br>would not have failed if every province<br>had an agricultural system like ilocos,<br>especially that my parents were both<br>farmers. remember that the philippines<br>was the biggest exporter during the time<br>of marcos because of masagana 99 and of<br>other things for agriculture.",
          "your dilawan has already lost. the<br>filipinos have been awakened. during the<br>time of marcos, the philippines had<br>almost the same economic level as that<br>of japan. our military weaponry was also<br>strong. we were considered as the tiger<br>of asia before, and we were the number 1<br>exporter of rice in asia as well as a<br>factory or producer of sugarcane.",
          "#marcosjr2022 the five-peso coin was<br>still valuable back then. goods were<br>cheap back then, but now even<br>electricity on its own is already<br>expensive. before, electricity and water<br>were almost free in the time of marcos.<br>we even had free rice and groceries from<br>the company. when corykong came into<br>power everything went up",
          "25. during marcos' time he founded the<br>group \"kadiwa\" which helped and gave<br>free food to the poor which was why no<br>filipino went hungry during his time.",
          "@gmanews fake history  during the time<br>of marcos you could ask for salt,<br>coffee, rice and canned goods, polvoron,<br>milk for the children.. it is much ok<br>with marcos https://t.co/997dmrjl6f",
          "true that, back in marcos' time, the<br>people never failed to eat tree times a<br>day  galunggong (mackerel) went from<br>being the food of the poor to the food<br>of the rich, that is the hallmark of<br>cory aquino's administration!",
          "what about us who had a good life during<br>the time of marcos where ayuda (social<br>amelioration) was given even if there<br>was no pandemic, almost every week and<br>we were able to ask for fish from the<br>palengke (market) #bbmismypresident2022",
          "@azzirk_eyak @alterbacoor<br>@krisaquinoworld since marcos regime we<br>were 2nd across the globe next to japan,<br>do not get me started with coconut<br>products, 101 products were contributed<br>by the philippines to the world. 1<br>dollar is equivalent to 1 peso. that was<br>how great the philippines was during the<br>time of marcos, of course promoted by<br>grandpa,",
          "@gentrisenyo @rexinyeta why do you keep<br>on buying ham when cheese is already<br>more than enough. ambisyosa pa. emeeee<br>but seriously, it is quite unfortunate<br>that this is now the only purchasing<br>power of our money. i really liked the<br>time of ferdinand edralin marcos when<br>prices were low and nutribun was given<br>for free hahahaha charrr",
          "during marcos' time he founded the group<br>\"kadiwa\" which helped and gave free food<br>to the poor which was why no filipino<br>went hungry during his time.<br>#bringbackmarcos",
          "25. during marcos' time he founded the<br>group \"kadiwa\" which helped and gave<br>free food to the poor which was why no<br>filipino went hungry during his time.",
          "because during the time of president<br>marcos, food was in abundance for<br>filipinos that were given by the marcos<br>administration. during the time of cory,<br>the live of filipinos became harder<br>because she had government resources<br>sold. because of hunger, the filipinos<br>learned to eat isaw (chicken intestine)",
          "correct... those projects that could<br>have solved the shortage of agri<br>products, masagana99 and to help our<br>farmers to sell their products, where<br>there was no selfish middleman, straight<br>to kadiwa to sell their products.",
          "who had the chance to taste this? during<br>elementary days .. these were so good<br>grabe .. how i wish i had the<br>opportunity to witness this scene  the<br>things that they gave the filipinos were<br>good, but we reciprocated them with<br>sorrow  that is why we will come back<br>with bbm!  (ctto)<br>https://t.co/waulxirpqa",
          "i went through a phase where egg pie was<br>still cheap and that's what i ate when i<br>was depressed. that was marcos' time..<br>hay. it was so cheap. charot."
         ],
         "legendgroup": "9",
         "marker": {
          "color": "#FF97FF",
          "symbol": "circle"
         },
         "mode": "markers",
         "name": "9",
         "orientation": "v",
         "showlegend": true,
         "type": "scatter",
         "x": [
          178.1009979248047,
          114.88903045654297,
          174.4077606201172,
          145.6640167236328,
          145.6640167236328,
          145.6640167236328,
          145.0687713623047,
          178.1009979248047,
          178.1009979248047,
          144.5399627685547,
          144.5399627685547,
          174.3666229248047,
          115.792724609375,
          145.6640167236328,
          144.5399627685547
         ],
         "xaxis": "x",
         "y": [
          195.13308715820312,
          217.587158203125,
          163.02999877929688,
          208.5560760498047,
          208.5560760498047,
          208.5560760498047,
          240.19808959960938,
          195.13308715820312,
          195.13308715820312,
          173.62161254882812,
          173.62161254882812,
          227.65455627441406,
          187.94955444335938,
          208.5560760498047,
          173.62161254882812
         ],
         "yaxis": "y"
        },
        {
         "customdata": [
          [
           "10",
           "pfem showing us president lyndon johnson<br>why philippines is top rice producing<br>country in asia, circa 1966. the rice<br>program of the country leveled up in<br>1973 under masagana 99. that is the kind<br>of leadership.. bbm-sara are poised to<br>bring back greatness! #bagongpilipinas ❤<br>https://t.co/idikunhmnj",
           "Topic10: 1.0"
          ],
          [
           "10",
           "nobody at the present. former president<br>marcos dealt with hunger concerns in his<br>time. bulgur, sinugno, klim, wheat and<br>nutribuns were a thing during his time.<br>he also made agriculture prosper,<br>resulting in abundance in crops and its<br>cheapness.",
           "Topic10: 1.0"
          ],
          [
           "10",
           "for her birthday, sen. imee offers these<br>nutribuns for the children and<br>vegetables for the residents.  the<br>nutribun is a well-known bread that was<br>distributed during the time of former<br>president ferdinand e. marcos sr. as<br>part of the nutrition program for the<br>youth. https://t.co/kvvivy4ajp",
           "Topic10: 1.0"
          ],
          [
           "10",
           "eschuzme! @dawende, nobody went hungry<br>during marcos' time since the exchange<br>between usd to php back then was<br>$1:2php, my dad said the philippines<br>only experienced your so called poverty<br>when you believed in the widow of your<br>fake hero, poverty was not a trend back<br>in macoy's story",
           "Topic10: 1.0"
          ],
          [
           "10",
           "these shameless monkeys how can they say<br>that the marcos family were thieves. i<br>was able to reach the time of marcos, i<br>am 48 right now. to be honest nobody<br>went hungry only in the time of marcos.<br>these monkeys should also do their<br>research",
           "Topic10: 0.99"
          ],
          [
           "10",
           "notorious? whoever said it is a<br>nincompoop. nutribun is the most<br>successful feeding program launched by<br>the marcos administration for millions<br>of children. it is far better than<br>leni's lugaw which is devoid of<br>nutrition.",
           "Topic10: 0.99"
          ],
          [
           "10",
           "for the birthday, sen. imee provided<br>nutribuns for the children and<br>vegetables for the residents.  the<br>nutribun is a well-known bread that was<br>given away back in the time of former<br>president ferdinand e. marcos sr. as a<br>part of the nutribun program for the<br>children.",
           "Topic10: 1.0"
          ],
          [
           "10",
           "i did. i am a batang '70. marcos made a<br>difference in the philippines. we were<br>leading in southeast asia back then as<br>an exporter of rice, sugar among others.<br>a lot of freebies were given like<br>nutribun at schools, skim milk, corn<br>flakes for all families. there were<br>plenty of activities and projects in<br>barangays.",
           "Topic10: 1.0"
          ],
          [
           "10",
           "pfem with him, us president lyndon<br>johnson and company. during his<br>presidency, philippines is top rice<br>producing country in asia, circa 1966. a<br>rice program  until 1973 under masagana<br>99. i wish bbm-sara will do the same<br>leadership as his father does.<br>https://t.co/phozo2tdxp",
           "Topic10: 1.0"
          ],
          [
           "10",
           "nobody went hungry and the children who<br>were in school were healthy because<br>every month there was free nutribun,<br>milk, and free checkups to your dental<br>health. the surroundings were clean with<br>marcos while with aquino, the police<br>were corrupt, many went hungry, there<br>was a lot of trash. goods were<br>expensive, electricity and water were<br>expensive",
           "Topic10: 1.0"
          ],
          [
           "10",
           "@freechc  during the time of president<br>marcos, no one went hungry, because<br>there was a feeding program in every<br>corner of the philippines.<br>#forevermarcoskami  #prrdamangbayan",
           "Topic10: 0.99"
          ]
         ],
         "hovertemplate": "<b>%{hovertext}</b><br><br>Breakdown=%{customdata[2]}<extra></extra>",
         "hovertext": [
          "pfem showing us president lyndon johnson<br>why philippines is top rice producing<br>country in asia, circa 1966. the rice<br>program of the country leveled up in<br>1973 under masagana 99. that is the kind<br>of leadership.. bbm-sara are poised to<br>bring back greatness! #bagongpilipinas ❤<br>https://t.co/idikunhmnj",
          "nobody at the present. former president<br>marcos dealt with hunger concerns in his<br>time. bulgur, sinugno, klim, wheat and<br>nutribuns were a thing during his time.<br>he also made agriculture prosper,<br>resulting in abundance in crops and its<br>cheapness.",
          "for her birthday, sen. imee offers these<br>nutribuns for the children and<br>vegetables for the residents.  the<br>nutribun is a well-known bread that was<br>distributed during the time of former<br>president ferdinand e. marcos sr. as<br>part of the nutrition program for the<br>youth. https://t.co/kvvivy4ajp",
          "eschuzme! @dawende, nobody went hungry<br>during marcos' time since the exchange<br>between usd to php back then was<br>$1:2php, my dad said the philippines<br>only experienced your so called poverty<br>when you believed in the widow of your<br>fake hero, poverty was not a trend back<br>in macoy's story",
          "these shameless monkeys how can they say<br>that the marcos family were thieves. i<br>was able to reach the time of marcos, i<br>am 48 right now. to be honest nobody<br>went hungry only in the time of marcos.<br>these monkeys should also do their<br>research",
          "notorious? whoever said it is a<br>nincompoop. nutribun is the most<br>successful feeding program launched by<br>the marcos administration for millions<br>of children. it is far better than<br>leni's lugaw which is devoid of<br>nutrition.",
          "for the birthday, sen. imee provided<br>nutribuns for the children and<br>vegetables for the residents.  the<br>nutribun is a well-known bread that was<br>given away back in the time of former<br>president ferdinand e. marcos sr. as a<br>part of the nutribun program for the<br>children.",
          "i did. i am a batang '70. marcos made a<br>difference in the philippines. we were<br>leading in southeast asia back then as<br>an exporter of rice, sugar among others.<br>a lot of freebies were given like<br>nutribun at schools, skim milk, corn<br>flakes for all families. there were<br>plenty of activities and projects in<br>barangays.",
          "pfem with him, us president lyndon<br>johnson and company. during his<br>presidency, philippines is top rice<br>producing country in asia, circa 1966. a<br>rice program  until 1973 under masagana<br>99. i wish bbm-sara will do the same<br>leadership as his father does.<br>https://t.co/phozo2tdxp",
          "nobody went hungry and the children who<br>were in school were healthy because<br>every month there was free nutribun,<br>milk, and free checkups to your dental<br>health. the surroundings were clean with<br>marcos while with aquino, the police<br>were corrupt, many went hungry, there<br>was a lot of trash. goods were<br>expensive, electricity and water were<br>expensive",
          "@freechc  during the time of president<br>marcos, no one went hungry, because<br>there was a feeding program in every<br>corner of the philippines.<br>#forevermarcoskami  #prrdamangbayan"
         ],
         "legendgroup": "10",
         "marker": {
          "color": "#FECB52",
          "symbol": "circle"
         },
         "mode": "markers",
         "name": "10",
         "orientation": "v",
         "showlegend": true,
         "type": "scatter",
         "x": [
          11.308452606201172,
          -16.344070434570312,
          11.308452606201172,
          11.308452606201172,
          28.643665313720703,
          28.643665313720703,
          -16.344070434570312,
          11.308452606201172,
          11.308452606201172,
          11.308452606201172,
          2.7746400833129883
         ],
         "xaxis": "x",
         "y": [
          -247.62986755371094,
          -228.5833740234375,
          -247.62986755371094,
          -247.62986755371094,
          -218.92724609375,
          -218.92724609375,
          -228.5833740234375,
          -247.62986755371094,
          -247.62986755371094,
          -247.62986755371094,
          -207.80162048339844
         ],
         "yaxis": "y"
        },
        {
         "customdata": [
          [
           "11",
           "during the time of marcos, he had a<br>group called \"kadiwa\" that helped and<br>gave free food to poor people so no<br>filipino was hungry during his time.<br>#bringbackmarcos",
           "Topic11: 0.99"
          ],
          [
           "11",
           "if there were a time machine that would<br>take you to meet some famous person of<br>antiquity, who would you like to talk<br>to? — marcos, so i can feel how cheap<br>food, clothes, etc. are.<br>https://curiouscat.me/iamkylen/post/801637276?t=1551357654",
           "Topic11: 0.99"
          ],
          [
           "11",
           "all the children used to have a free<br>nutribun every day because marcos wanted<br>no hunger  in those days, there was a<br>call for the green revolution where<br>every house should grow their own<br>vegetables for the country's agriculture<br>and avoid hunger, not relying on other<br>products.",
           "Topic11: 1.0"
          ],
          [
           "11",
           "dad: during the time of marcos, hunger<br>was rare. the students back then, even<br>if they had no money, were full in the<br>recess. many things have been done that<br>have been beneficial even until now. the<br>things that duterte is doing will<br>benefit the next generations. me: 😊👊👊👊",
           "Topic11: 0.99"
          ],
          [
           "11",
           "during the time of marcos .... rice and<br>galunggong (mackerel) were free ...!!!<br>during the time of the greedy mother and<br>son .... rice was replaced with bullets<br>....!!!",
           "Topic11: 0.99"
          ],
          [
           "11",
           "nutribun, was bread that was sold<br>cheaply to students, this was marcos'<br>program back then, it was cheap and made<br>you not hungry for a long time<br>#pilipinasdebates2016",
           "Topic11: 0.99"
          ],
          [
           "11",
           "even though my parents were poor they<br>were having a good life under marcos<br>regime because everything was cheap",
           "Topic11: 0.72<br>Topic3: 0.27"
          ],
          [
           "11",
           "@datumx11 fyi there was no person hungry<br>during pres marcos because everything<br>you could buy was cheap. when your idol<br>cory was on the seat people had a more<br>difficult time everything became<br>expensive hence why that time is called<br>the \"dark ages\"!!",
           "Topic11: 1.0"
          ],
          [
           "11",
           "25. during the time of marcos, he had a<br>group called \"kadiwa\" that helped and<br>gave free food to poor people so no<br>filipino was hungry during his time.",
           "Topic11: 0.99"
          ],
          [
           "11",
           "during marcos everything was cheap!<br>#ninoyisnotahero there was also free<br>recess for kids at school!",
           "Topic11: 0.99"
          ],
          [
           "11",
           "it was nice during the time of marcos,<br>it was quiet and there was plenty of<br>food",
           "Topic11: 0.98"
          ],
          [
           "11",
           "during marcos' time he had a group<br>called \"kadiwa\" that helped and gave<br>free food to poor people so no filipinos<br>were hungry during his time.",
           "Topic11: 0.99"
          ],
          [
           "11",
           "why was there free soup and nutribun<br>during the time of marcos, which all<br>disappeared after his regime",
           "Topic11: 0.73<br>Topic5: 0.25"
          ],
          [
           "11",
           "and fti complex.. once a brainchild of<br>marcos, the visionary forward looking<br>president.. if properly maximized and<br>had not been sold by bsabnoy to the<br>ayala's, metro could have an ample<br>supply of foods to stabilize rocketing<br>prices.. @pinoyanghang   @dutertenomics<br>@delegazpiylopez",
           "Topic11: 1.0"
          ]
         ],
         "hovertemplate": "<b>%{hovertext}</b><br><br>Breakdown=%{customdata[2]}<extra></extra>",
         "hovertext": [
          "during the time of marcos, he had a<br>group called \"kadiwa\" that helped and<br>gave free food to poor people so no<br>filipino was hungry during his time.<br>#bringbackmarcos",
          "if there were a time machine that would<br>take you to meet some famous person of<br>antiquity, who would you like to talk<br>to? — marcos, so i can feel how cheap<br>food, clothes, etc. are.<br>https://curiouscat.me/iamkylen/post/801637276?t=1551357654",
          "all the children used to have a free<br>nutribun every day because marcos wanted<br>no hunger  in those days, there was a<br>call for the green revolution where<br>every house should grow their own<br>vegetables for the country's agriculture<br>and avoid hunger, not relying on other<br>products.",
          "dad: during the time of marcos, hunger<br>was rare. the students back then, even<br>if they had no money, were full in the<br>recess. many things have been done that<br>have been beneficial even until now. the<br>things that duterte is doing will<br>benefit the next generations. me: 😊👊👊👊",
          "during the time of marcos .... rice and<br>galunggong (mackerel) were free ...!!!<br>during the time of the greedy mother and<br>son .... rice was replaced with bullets<br>....!!!",
          "nutribun, was bread that was sold<br>cheaply to students, this was marcos'<br>program back then, it was cheap and made<br>you not hungry for a long time<br>#pilipinasdebates2016",
          "even though my parents were poor they<br>were having a good life under marcos<br>regime because everything was cheap",
          "@datumx11 fyi there was no person hungry<br>during pres marcos because everything<br>you could buy was cheap. when your idol<br>cory was on the seat people had a more<br>difficult time everything became<br>expensive hence why that time is called<br>the \"dark ages\"!!",
          "25. during the time of marcos, he had a<br>group called \"kadiwa\" that helped and<br>gave free food to poor people so no<br>filipino was hungry during his time.",
          "during marcos everything was cheap!<br>#ninoyisnotahero there was also free<br>recess for kids at school!",
          "it was nice during the time of marcos,<br>it was quiet and there was plenty of<br>food",
          "during marcos' time he had a group<br>called \"kadiwa\" that helped and gave<br>free food to poor people so no filipinos<br>were hungry during his time.",
          "why was there free soup and nutribun<br>during the time of marcos, which all<br>disappeared after his regime",
          "and fti complex.. once a brainchild of<br>marcos, the visionary forward looking<br>president.. if properly maximized and<br>had not been sold by bsabnoy to the<br>ayala's, metro could have an ample<br>supply of foods to stabilize rocketing<br>prices.. @pinoyanghang   @dutertenomics<br>@delegazpiylopez"
         ],
         "legendgroup": "11",
         "marker": {
          "color": "#636efa",
          "symbol": "circle"
         },
         "mode": "markers",
         "name": "11",
         "orientation": "v",
         "showlegend": true,
         "type": "scatter",
         "x": [
          -165.22433471679688,
          -139.4766082763672,
          -153.25299072265625,
          -164.37567138671875,
          -139.4766082763672,
          -139.4766082763672,
          -123.89067840576172,
          -141.8337860107422,
          -171.92666625976562,
          -139.4766082763672,
          -125.05782318115234,
          -187.63427734375,
          -106.62394714355469,
          -114.00450134277344
         ],
         "xaxis": "x",
         "y": [
          29.485414505004883,
          -10.439315795898438,
          -40.563480377197266,
          4.729220390319824,
          -10.439315795898438,
          -10.439315795898438,
          36.626365661621094,
          19.730751037597656,
          -22.410930633544922,
          -10.439315795898438,
          -39.578697204589844,
          0.13887691497802734,
          -17.90091323852539,
          9.473934173583984
         ],
         "yaxis": "y"
        },
        {
         "customdata": [
          [
           "12",
           "hehehe, they say it was nice back during<br>the time of marcos. there was no<br>poverty, and all food was tasty.",
           "Topic12: 0.99"
          ],
          [
           "12",
           "president bong bong marcos jr. and his<br>father fpfem shared the same sentiments<br>and focus on food security to prevent<br>hunger. i still remember the then-former<br>rice and corn administration (rca) being<br>the concentration of staple food in the<br>country. https://t.co/kgvux3edbo",
           "Topic12: 1.0"
          ],
          [
           "12",
           "when marcos was president, other<br>countries looked up to us. during the<br>time of marcos, all children in the<br>philippines, whether rich or poor, had a<br>decent education. plus, during the time<br>of marcos, no filipino became hungry due<br>to poverty, no one was malnourished<br>during his time +",
           "Topic12: 1.0"
          ],
          [
           "12",
           "during the time of marcos, we do not<br>notice the gg (mackerel) haha it was<br>just given away in the stock (pondohan).<br>but since cory became president, it<br>became the national fish .. then it<br>became expensive  #bbmismypresident2022<br>https://twitter.com/korekkajohn/status/1501394107859873794",
           "Topic12: 0.99"
          ],
          [
           "12",
           "when i was an elementary student in the<br>time of marcos items and uniform weren't<br>free, food was free. what are you going<br>to do with a uniform if you don't have<br>food... you could even go to school with<br>slippers back then, this is why during<br>our time people who went absent were<br>rare because of the deliciousness of<br>nutribun and miswa....",
           "Topic12: 1.0"
          ],
          [
           "12",
           "when i was kid no one get starving<br>because president marcos and family to<br>the rescue even we don't ask for  it but<br>his concerned to every pilipino is very<br>rare as president.  #bbmsigawngbayan",
           "Topic12: 0.99"
          ],
          [
           "12",
           "👉history that this generation should<br>know and be reminded:🤔  the #masagana99<br>was launched during the time of<br>ferdinand marcos,it spurred the growth<br>of rice production to help our<br>citizens,philippines that day became an<br>exporter of rice. now think?🤔<br>#tbthursday",
           "Topic12: 1.0"
          ],
          [
           "12",
           "i agree... i always heard that from my<br>grandmother, \"life during marcos' time<br>was strict but nobody went hungry, even<br>the poor were able to buy food to eat\".",
           "Topic12: 0.99"
          ],
          [
           "12",
           "and that was when i realized that the<br>marcos family were good people, even my<br>grandmothers and grandfathers who went<br>through martial law, they say that<br>during marcos' time they did not go<br>hungry because they were provided food<br>when they reached school, you were<br>always safe because there weren't any<br>rapists. and many more reasons.",
           "Topic12: 1.0"
          ],
          [
           "12",
           "yah! are you idiots?! say that the<br>filipinos suffered because of ferdinand<br>marcos! gago kayo. because of marcos<br>before, the farmers had high pay. nobody<br>suffered poverty during the time of<br>marcos. milk was also free back then.<br>all your info is false girl.",
           "Topic12: 1.0"
          ]
         ],
         "hovertemplate": "<b>%{hovertext}</b><br><br>Breakdown=%{customdata[2]}<extra></extra>",
         "hovertext": [
          "hehehe, they say it was nice back during<br>the time of marcos. there was no<br>poverty, and all food was tasty.",
          "president bong bong marcos jr. and his<br>father fpfem shared the same sentiments<br>and focus on food security to prevent<br>hunger. i still remember the then-former<br>rice and corn administration (rca) being<br>the concentration of staple food in the<br>country. https://t.co/kgvux3edbo",
          "when marcos was president, other<br>countries looked up to us. during the<br>time of marcos, all children in the<br>philippines, whether rich or poor, had a<br>decent education. plus, during the time<br>of marcos, no filipino became hungry due<br>to poverty, no one was malnourished<br>during his time +",
          "during the time of marcos, we do not<br>notice the gg (mackerel) haha it was<br>just given away in the stock (pondohan).<br>but since cory became president, it<br>became the national fish .. then it<br>became expensive  #bbmismypresident2022<br>https://twitter.com/korekkajohn/status/1501394107859873794",
          "when i was an elementary student in the<br>time of marcos items and uniform weren't<br>free, food was free. what are you going<br>to do with a uniform if you don't have<br>food... you could even go to school with<br>slippers back then, this is why during<br>our time people who went absent were<br>rare because of the deliciousness of<br>nutribun and miswa....",
          "when i was kid no one get starving<br>because president marcos and family to<br>the rescue even we don't ask for  it but<br>his concerned to every pilipino is very<br>rare as president.  #bbmsigawngbayan",
          "👉history that this generation should<br>know and be reminded:🤔  the #masagana99<br>was launched during the time of<br>ferdinand marcos,it spurred the growth<br>of rice production to help our<br>citizens,philippines that day became an<br>exporter of rice. now think?🤔<br>#tbthursday",
          "i agree... i always heard that from my<br>grandmother, \"life during marcos' time<br>was strict but nobody went hungry, even<br>the poor were able to buy food to eat\".",
          "and that was when i realized that the<br>marcos family were good people, even my<br>grandmothers and grandfathers who went<br>through martial law, they say that<br>during marcos' time they did not go<br>hungry because they were provided food<br>when they reached school, you were<br>always safe because there weren't any<br>rapists. and many more reasons.",
          "yah! are you idiots?! say that the<br>filipinos suffered because of ferdinand<br>marcos! gago kayo. because of marcos<br>before, the farmers had high pay. nobody<br>suffered poverty during the time of<br>marcos. milk was also free back then.<br>all your info is false girl."
         ],
         "legendgroup": "12",
         "marker": {
          "color": "#EF553B",
          "symbol": "circle"
         },
         "mode": "markers",
         "name": "12",
         "orientation": "v",
         "showlegend": true,
         "type": "scatter",
         "x": [
          -230.4674835205078,
          -239.79432678222656,
          -239.79432678222656,
          -201.27069091796875,
          -207.9734649658203,
          -230.4674835205078,
          -239.79432678222656,
          -230.4674835205078,
          -239.79432678222656,
          -207.9734649658203
         ],
         "xaxis": "x",
         "y": [
          -143.4066925048828,
          -112.6521224975586,
          -112.6521224975586,
          -140.1870880126953,
          -112.89781951904297,
          -143.4066925048828,
          -112.6521224975586,
          -143.4066925048828,
          -112.6521224975586,
          -112.89781951904297
         ],
         "yaxis": "y"
        },
        {
         "customdata": [
          [
           "13",
           "the philippines slowly became poorer ,..<br>my mother also told me when she was<br>young she always waited for a helicopter<br>during the time of marcos. do you know<br>why? it's because the helicopters always<br>brought packs of food from the marcos<br>family which is why it's not",
           "Topic13: 0.99"
          ],
          [
           "13",
           "so pitiful for the poor who are starving<br>because they can't get loans without<br>marcos style projects",
           "Topic13: 0.99"
          ],
          [
           "13",
           "i paid 2400 for my philhealth, during<br>the time of marcos medicine and tooth-<br>pulling were free, snacks and school<br>lunch were free #bbmparin",
           "Topic13: 0.99"
          ],
          [
           "13",
           "@johnmar18655220 and @gilcaliwliw that's<br>fake news, there was no hunger during<br>the marcos era, there was a lot of<br>money, the goods were cheap, the<br>medicines were free, the price of rice<br>was only three pesos, and the bus fare<br>was five cents, there were no thieves<br>and addicts, when the aquinos took over,<br>drugs increased and without duterte,<br>philippines would be a narco country.",
           "Topic13: 1.0"
          ],
          [
           "13",
           "this was the experience of my cousin<br>during the early 70s. the rice shortage<br>was caused by consecutive typhons and it<br>was not because of mismanagement, as<br>asserted by the pinklawan. the masagana<br>99 was born after that (although there<br>was already irri at that time). ilocano<br>solutions. https://t.co/og8kahzypz",
           "Topic13: 1.0"
          ],
          [
           "13",
           "you're right - food, electricity, water<br>and fuel were cheap back then. the rich<br>used to be disciplined and kind. after<br>marcos, we became arrogant and we paid<br>the price. we are still paying the<br>price. they got richer while we became<br>poorer. but, do30 is here to fix them<br>all.",
           "Topic13: 1.0"
          ],
          [
           "13",
           "throwback. fpmarcos sr. priorities ✔<br>food security &amp; industrialization  ✔<br>fishers &amp; farmers folks   remember<br>his  ✔ kadiwa ✔masagana99  ✔ blessing of<br>the sea ✔national     grains authority<br>✔ operation       land transfer<br>marcos brand ✌          ctto<br>https://t.co/qbu4jvpkid",
           "Topic13: 1.0"
          ],
          [
           "13",
           "i just remembered. i'm from quezon. the<br>feast of san isidro labradord during the<br>time of marcos.  my parents would ask<br>for suman, one sack of malagkit to give<br>away to those who attended the fiesta.<br>tangina! enter cory, the galunggong<br>(mackerel) became food for the rich.<br>tangina, bbm for life!",
           "Topic13: 1.0"
          ],
          [
           "13",
           "former president marcos had a real sense<br>of urgency: addressed food shortages<br>(i.e. masagana 99) quelled the<br>communists before they sprouted (i.e.<br>m/v karagatan, alsa masa); our kig in<br>'78.  the opposition are just complacent<br>and short-sighted.",
           "Topic13: 1.0"
          ],
          [
           "13",
           "what's happening to the philippines<br>right now is painful, during the time of<br>marcos nfa rice was free and goods were<br>cheap ..wow",
           "Topic13: 0.99"
          ]
         ],
         "hovertemplate": "<b>%{hovertext}</b><br><br>Breakdown=%{customdata[2]}<extra></extra>",
         "hovertext": [
          "the philippines slowly became poorer ,..<br>my mother also told me when she was<br>young she always waited for a helicopter<br>during the time of marcos. do you know<br>why? it's because the helicopters always<br>brought packs of food from the marcos<br>family which is why it's not",
          "so pitiful for the poor who are starving<br>because they can't get loans without<br>marcos style projects",
          "i paid 2400 for my philhealth, during<br>the time of marcos medicine and tooth-<br>pulling were free, snacks and school<br>lunch were free #bbmparin",
          "@johnmar18655220 and @gilcaliwliw that's<br>fake news, there was no hunger during<br>the marcos era, there was a lot of<br>money, the goods were cheap, the<br>medicines were free, the price of rice<br>was only three pesos, and the bus fare<br>was five cents, there were no thieves<br>and addicts, when the aquinos took over,<br>drugs increased and without duterte,<br>philippines would be a narco country.",
          "this was the experience of my cousin<br>during the early 70s. the rice shortage<br>was caused by consecutive typhons and it<br>was not because of mismanagement, as<br>asserted by the pinklawan. the masagana<br>99 was born after that (although there<br>was already irri at that time). ilocano<br>solutions. https://t.co/og8kahzypz",
          "you're right - food, electricity, water<br>and fuel were cheap back then. the rich<br>used to be disciplined and kind. after<br>marcos, we became arrogant and we paid<br>the price. we are still paying the<br>price. they got richer while we became<br>poorer. but, do30 is here to fix them<br>all.",
          "throwback. fpmarcos sr. priorities ✔<br>food security &amp; industrialization  ✔<br>fishers &amp; farmers folks   remember<br>his  ✔ kadiwa ✔masagana99  ✔ blessing of<br>the sea ✔national     grains authority<br>✔ operation       land transfer<br>marcos brand ✌          ctto<br>https://t.co/qbu4jvpkid",
          "i just remembered. i'm from quezon. the<br>feast of san isidro labradord during the<br>time of marcos.  my parents would ask<br>for suman, one sack of malagkit to give<br>away to those who attended the fiesta.<br>tangina! enter cory, the galunggong<br>(mackerel) became food for the rich.<br>tangina, bbm for life!",
          "former president marcos had a real sense<br>of urgency: addressed food shortages<br>(i.e. masagana 99) quelled the<br>communists before they sprouted (i.e.<br>m/v karagatan, alsa masa); our kig in<br>'78.  the opposition are just complacent<br>and short-sighted.",
          "what's happening to the philippines<br>right now is painful, during the time of<br>marcos nfa rice was free and goods were<br>cheap ..wow"
         ],
         "legendgroup": "13",
         "marker": {
          "color": "#00cc96",
          "symbol": "circle"
         },
         "mode": "markers",
         "name": "13",
         "orientation": "v",
         "showlegend": true,
         "type": "scatter",
         "x": [
          -116.67001342773438,
          -100.72771453857422,
          -100.72771453857422,
          -59.268863677978516,
          -87.46859741210938,
          -70.9223861694336,
          -87.46859741210938,
          -70.9223861694336,
          -87.46859741210938,
          -100.72771453857422
         ],
         "xaxis": "x",
         "y": [
          -151.52053833007812,
          -124.994873046875,
          -124.994873046875,
          -149.00839233398438,
          -155.1007843017578,
          -123.65501403808594,
          -155.1007843017578,
          -123.65501403808594,
          -155.1007843017578,
          -124.994873046875
         ],
         "yaxis": "y"
        }
       ],
       "layout": {
        "annotations": [
         {
          "align": "left",
          "font": {
           "color": "#FF5533"
          },
          "showarrow": false,
          "text": "Topic 1:",
          "x": -0.075,
          "xref": "paper",
          "y": -0.08,
          "yref": "paper"
         },
         {
          "align": "left",
          "font": {
           "color": "black"
          },
          "showarrow": false,
          "text": "came, chaos, chaos, stopped, cory, stopped, milk, stopped, school, also, also, milk, chaos, mindanao, mindanao",
          "x": 0,
          "xref": "paper",
          "y": -0.08,
          "yref": "paper"
         },
         {
          "align": "left",
          "font": {
           "color": "#FF5533"
          },
          "showarrow": false,
          "text": "Topic 2:",
          "x": -0.075,
          "xref": "paper",
          "y": -0.13,
          "yref": "paper"
         },
         {
          "align": "left",
          "font": {
           "color": "black"
          },
          "showarrow": false,
          "text": "ph, well, mom, dont, also, rice, foodmy, mom, many, freebie, one, furious",
          "x": 0,
          "xref": "paper",
          "y": -0.13,
          "yref": "paper"
         },
         {
          "align": "left",
          "font": {
           "color": "#FF5533"
          },
          "showarrow": false,
          "text": "Topic 3:",
          "x": -0.075,
          "xref": "paper",
          "y": -0.18,
          "yref": "paper"
         },
         {
          "align": "left",
          "font": {
           "color": "black"
          },
          "showarrow": false,
          "text": "said, even, born, president, beautiful, school, really, good, grandfather",
          "x": 0,
          "xref": "paper",
          "y": -0.18,
          "yref": "paper"
         },
         {
          "align": "left",
          "font": {
           "color": "#FF5533"
          },
          "showarrow": false,
          "text": "Topic 4:",
          "x": -0.075,
          "xref": "paper",
          "y": -0.23000000000000004,
          "yref": "paper"
         },
         {
          "align": "left",
          "font": {
           "color": "black"
          },
          "showarrow": false,
          "text": "rice, free, dilaw, time, marcos, hungry, term, bountiful, project, president, others",
          "x": 0,
          "xref": "paper",
          "y": -0.23000000000000004,
          "yref": "paper"
         },
         {
          "align": "left",
          "font": {
           "color": "#FF5533"
          },
          "showarrow": false,
          "text": "Topic 5:",
          "x": -0.075,
          "xref": "paper",
          "y": -0.28,
          "yref": "paper"
         },
         {
          "align": "left",
          "font": {
           "color": "black"
          },
          "showarrow": false,
          "text": "nutribun, least, free, klim, back, school, powdered, disappeared, like",
          "x": 0,
          "xref": "paper",
          "y": -0.28,
          "yref": "paper"
         },
         {
          "align": "left",
          "font": {
           "color": "#FF5533"
          },
          "showarrow": false,
          "text": "Topic 6:",
          "x": -0.075,
          "xref": "paper",
          "y": -0.33,
          "yref": "paper"
         },
         {
          "align": "left",
          "font": {
           "color": "black"
          },
          "showarrow": false,
          "text": "time, back, poor, garden, werent, know, marcos, time, one, born",
          "x": 0,
          "xref": "paper",
          "y": -0.33,
          "yref": "paper"
         },
         {
          "align": "left",
          "font": {
           "color": "#FF5533"
          },
          "showarrow": false,
          "text": "Topic 7:",
          "x": -0.075,
          "xref": "paper",
          "y": -0.38000000000000006,
          "yref": "paper"
         },
         {
          "align": "left",
          "font": {
           "color": "black"
          },
          "showarrow": false,
          "text": "youre, blame, education, free, free, education, bbms, son, blame, past, past, administration, past",
          "x": 0,
          "xref": "paper",
          "y": -0.38000000000000006,
          "yref": "paper"
         },
         {
          "align": "left",
          "font": {
           "color": "#FF5533"
          },
          "showarrow": false,
          "text": "Topic 8:",
          "x": -0.075,
          "xref": "paper",
          "y": -0.43000000000000005,
          "yref": "paper"
         },
         {
          "align": "left",
          "font": {
           "color": "black"
          },
          "showarrow": false,
          "text": "healthy, snack, eat, nutribun, school, nowadays, thought, ppl, regime, eat, bag",
          "x": 0,
          "xref": "paper",
          "y": -0.43000000000000005,
          "yref": "paper"
         },
         {
          "align": "left",
          "font": {
           "color": "#FF5533"
          },
          "showarrow": false,
          "text": "Topic 9:",
          "x": -0.075,
          "xref": "paper",
          "y": -0.48000000000000004,
          "yref": "paper"
         },
         {
          "align": "left",
          "font": {
           "color": "black"
          },
          "showarrow": false,
          "text": "filipino, time, product, went, marcos, time, food, poor, gave, kadiwa, good",
          "x": 0,
          "xref": "paper",
          "y": -0.48000000000000004,
          "yref": "paper"
         },
         {
          "align": "left",
          "font": {
           "color": "#FF5533"
          },
          "showarrow": false,
          "text": "Topic 10:",
          "x": -0.075,
          "xref": "paper",
          "y": -0.53,
          "yref": "paper"
         },
         {
          "align": "left",
          "font": {
           "color": "black"
          },
          "showarrow": false,
          "text": "program, nutribuns, nobody, feeding, program, agriculture, prosper, timehe, also, presentformer, president, timebulgur, also, made",
          "x": 0,
          "xref": "paper",
          "y": -0.53,
          "yref": "paper"
         },
         {
          "align": "left",
          "font": {
           "color": "#FF5533"
          },
          "showarrow": false,
          "text": "Topic 11:",
          "x": -0.075,
          "xref": "paper",
          "y": -0.58,
          "yref": "paper"
         },
         {
          "align": "left",
          "font": {
           "color": "black"
          },
          "showarrow": false,
          "text": "would, cheap, marcos, everything, recess, everything, everything, cheap, kid, school, ninoyisnotahero, also, ninoyisnotahero",
          "x": 0,
          "xref": "paper",
          "y": -0.58,
          "yref": "paper"
         },
         {
          "align": "left",
          "font": {
           "color": "#FF5533"
          },
          "showarrow": false,
          "text": "Topic 12:",
          "x": -0.075,
          "xref": "paper",
          "y": -0.63,
          "yref": "paper"
         },
         {
          "align": "left",
          "font": {
           "color": "black"
          },
          "showarrow": false,
          "text": "ask, concerned, get, starving, pilipino, rare, concerned, every, concerned, every, pilipino, pilipino, rare, rare, presidentbbmsigawngbayan",
          "x": 0,
          "xref": "paper",
          "y": -0.63,
          "yref": "paper"
         },
         {
          "align": "left",
          "font": {
           "color": "#FF5533"
          },
          "showarrow": false,
          "text": "Topic 13:",
          "x": -0.075,
          "xref": "paper",
          "y": -0.68,
          "yref": "paper"
         },
         {
          "align": "left",
          "font": {
           "color": "black"
          },
          "showarrow": false,
          "text": "price, became, became, poorer, poorer, poorer, do30, richer, fuel, disciplined, kind, marcos, became",
          "x": 0,
          "xref": "paper",
          "y": -0.68,
          "yref": "paper"
         }
        ],
        "height": 710,
        "legend": {
         "font": {
          "color": "black"
         },
         "title": {
          "text": "Topic"
         },
         "tracegroupgap": 0
        },
        "margin": {
         "b": 250
        },
        "paper_bgcolor": "#fbfbfb",
        "template": {
         "data": {
          "bar": [
           {
            "error_x": {
             "color": "#2a3f5f"
            },
            "error_y": {
             "color": "#2a3f5f"
            },
            "marker": {
             "line": {
              "color": "#E5ECF6",
              "width": 0.5
             },
             "pattern": {
              "fillmode": "overlay",
              "size": 10,
              "solidity": 0.2
             }
            },
            "type": "bar"
           }
          ],
          "barpolar": [
           {
            "marker": {
             "line": {
              "color": "#E5ECF6",
              "width": 0.5
             },
             "pattern": {
              "fillmode": "overlay",
              "size": 10,
              "solidity": 0.2
             }
            },
            "type": "barpolar"
           }
          ],
          "carpet": [
           {
            "aaxis": {
             "endlinecolor": "#2a3f5f",
             "gridcolor": "white",
             "linecolor": "white",
             "minorgridcolor": "white",
             "startlinecolor": "#2a3f5f"
            },
            "baxis": {
             "endlinecolor": "#2a3f5f",
             "gridcolor": "white",
             "linecolor": "white",
             "minorgridcolor": "white",
             "startlinecolor": "#2a3f5f"
            },
            "type": "carpet"
           }
          ],
          "choropleth": [
           {
            "colorbar": {
             "outlinewidth": 0,
             "ticks": ""
            },
            "type": "choropleth"
           }
          ],
          "contour": [
           {
            "colorbar": {
             "outlinewidth": 0,
             "ticks": ""
            },
            "colorscale": [
             [
              0,
              "#0d0887"
             ],
             [
              0.1111111111111111,
              "#46039f"
             ],
             [
              0.2222222222222222,
              "#7201a8"
             ],
             [
              0.3333333333333333,
              "#9c179e"
             ],
             [
              0.4444444444444444,
              "#bd3786"
             ],
             [
              0.5555555555555556,
              "#d8576b"
             ],
             [
              0.6666666666666666,
              "#ed7953"
             ],
             [
              0.7777777777777778,
              "#fb9f3a"
             ],
             [
              0.8888888888888888,
              "#fdca26"
             ],
             [
              1,
              "#f0f921"
             ]
            ],
            "type": "contour"
           }
          ],
          "contourcarpet": [
           {
            "colorbar": {
             "outlinewidth": 0,
             "ticks": ""
            },
            "type": "contourcarpet"
           }
          ],
          "heatmap": [
           {
            "colorbar": {
             "outlinewidth": 0,
             "ticks": ""
            },
            "colorscale": [
             [
              0,
              "#0d0887"
             ],
             [
              0.1111111111111111,
              "#46039f"
             ],
             [
              0.2222222222222222,
              "#7201a8"
             ],
             [
              0.3333333333333333,
              "#9c179e"
             ],
             [
              0.4444444444444444,
              "#bd3786"
             ],
             [
              0.5555555555555556,
              "#d8576b"
             ],
             [
              0.6666666666666666,
              "#ed7953"
             ],
             [
              0.7777777777777778,
              "#fb9f3a"
             ],
             [
              0.8888888888888888,
              "#fdca26"
             ],
             [
              1,
              "#f0f921"
             ]
            ],
            "type": "heatmap"
           }
          ],
          "heatmapgl": [
           {
            "colorbar": {
             "outlinewidth": 0,
             "ticks": ""
            },
            "colorscale": [
             [
              0,
              "#0d0887"
             ],
             [
              0.1111111111111111,
              "#46039f"
             ],
             [
              0.2222222222222222,
              "#7201a8"
             ],
             [
              0.3333333333333333,
              "#9c179e"
             ],
             [
              0.4444444444444444,
              "#bd3786"
             ],
             [
              0.5555555555555556,
              "#d8576b"
             ],
             [
              0.6666666666666666,
              "#ed7953"
             ],
             [
              0.7777777777777778,
              "#fb9f3a"
             ],
             [
              0.8888888888888888,
              "#fdca26"
             ],
             [
              1,
              "#f0f921"
             ]
            ],
            "type": "heatmapgl"
           }
          ],
          "histogram": [
           {
            "marker": {
             "pattern": {
              "fillmode": "overlay",
              "size": 10,
              "solidity": 0.2
             }
            },
            "type": "histogram"
           }
          ],
          "histogram2d": [
           {
            "colorbar": {
             "outlinewidth": 0,
             "ticks": ""
            },
            "colorscale": [
             [
              0,
              "#0d0887"
             ],
             [
              0.1111111111111111,
              "#46039f"
             ],
             [
              0.2222222222222222,
              "#7201a8"
             ],
             [
              0.3333333333333333,
              "#9c179e"
             ],
             [
              0.4444444444444444,
              "#bd3786"
             ],
             [
              0.5555555555555556,
              "#d8576b"
             ],
             [
              0.6666666666666666,
              "#ed7953"
             ],
             [
              0.7777777777777778,
              "#fb9f3a"
             ],
             [
              0.8888888888888888,
              "#fdca26"
             ],
             [
              1,
              "#f0f921"
             ]
            ],
            "type": "histogram2d"
           }
          ],
          "histogram2dcontour": [
           {
            "colorbar": {
             "outlinewidth": 0,
             "ticks": ""
            },
            "colorscale": [
             [
              0,
              "#0d0887"
             ],
             [
              0.1111111111111111,
              "#46039f"
             ],
             [
              0.2222222222222222,
              "#7201a8"
             ],
             [
              0.3333333333333333,
              "#9c179e"
             ],
             [
              0.4444444444444444,
              "#bd3786"
             ],
             [
              0.5555555555555556,
              "#d8576b"
             ],
             [
              0.6666666666666666,
              "#ed7953"
             ],
             [
              0.7777777777777778,
              "#fb9f3a"
             ],
             [
              0.8888888888888888,
              "#fdca26"
             ],
             [
              1,
              "#f0f921"
             ]
            ],
            "type": "histogram2dcontour"
           }
          ],
          "mesh3d": [
           {
            "colorbar": {
             "outlinewidth": 0,
             "ticks": ""
            },
            "type": "mesh3d"
           }
          ],
          "parcoords": [
           {
            "line": {
             "colorbar": {
              "outlinewidth": 0,
              "ticks": ""
             }
            },
            "type": "parcoords"
           }
          ],
          "pie": [
           {
            "automargin": true,
            "type": "pie"
           }
          ],
          "scatter": [
           {
            "fillpattern": {
             "fillmode": "overlay",
             "size": 10,
             "solidity": 0.2
            },
            "type": "scatter"
           }
          ],
          "scatter3d": [
           {
            "line": {
             "colorbar": {
              "outlinewidth": 0,
              "ticks": ""
             }
            },
            "marker": {
             "colorbar": {
              "outlinewidth": 0,
              "ticks": ""
             }
            },
            "type": "scatter3d"
           }
          ],
          "scattercarpet": [
           {
            "marker": {
             "colorbar": {
              "outlinewidth": 0,
              "ticks": ""
             }
            },
            "type": "scattercarpet"
           }
          ],
          "scattergeo": [
           {
            "marker": {
             "colorbar": {
              "outlinewidth": 0,
              "ticks": ""
             }
            },
            "type": "scattergeo"
           }
          ],
          "scattergl": [
           {
            "marker": {
             "colorbar": {
              "outlinewidth": 0,
              "ticks": ""
             }
            },
            "type": "scattergl"
           }
          ],
          "scattermapbox": [
           {
            "marker": {
             "colorbar": {
              "outlinewidth": 0,
              "ticks": ""
             }
            },
            "type": "scattermapbox"
           }
          ],
          "scatterpolar": [
           {
            "marker": {
             "colorbar": {
              "outlinewidth": 0,
              "ticks": ""
             }
            },
            "type": "scatterpolar"
           }
          ],
          "scatterpolargl": [
           {
            "marker": {
             "colorbar": {
              "outlinewidth": 0,
              "ticks": ""
             }
            },
            "type": "scatterpolargl"
           }
          ],
          "scatterternary": [
           {
            "marker": {
             "colorbar": {
              "outlinewidth": 0,
              "ticks": ""
             }
            },
            "type": "scatterternary"
           }
          ],
          "surface": [
           {
            "colorbar": {
             "outlinewidth": 0,
             "ticks": ""
            },
            "colorscale": [
             [
              0,
              "#0d0887"
             ],
             [
              0.1111111111111111,
              "#46039f"
             ],
             [
              0.2222222222222222,
              "#7201a8"
             ],
             [
              0.3333333333333333,
              "#9c179e"
             ],
             [
              0.4444444444444444,
              "#bd3786"
             ],
             [
              0.5555555555555556,
              "#d8576b"
             ],
             [
              0.6666666666666666,
              "#ed7953"
             ],
             [
              0.7777777777777778,
              "#fb9f3a"
             ],
             [
              0.8888888888888888,
              "#fdca26"
             ],
             [
              1,
              "#f0f921"
             ]
            ],
            "type": "surface"
           }
          ],
          "table": [
           {
            "cells": {
             "fill": {
              "color": "#EBF0F8"
             },
             "line": {
              "color": "white"
             }
            },
            "header": {
             "fill": {
              "color": "#C8D4E3"
             },
             "line": {
              "color": "white"
             }
            },
            "type": "table"
           }
          ]
         },
         "layout": {
          "annotationdefaults": {
           "arrowcolor": "#2a3f5f",
           "arrowhead": 0,
           "arrowwidth": 1
          },
          "autotypenumbers": "strict",
          "coloraxis": {
           "colorbar": {
            "outlinewidth": 0,
            "ticks": ""
           }
          },
          "colorscale": {
           "diverging": [
            [
             0,
             "#8e0152"
            ],
            [
             0.1,
             "#c51b7d"
            ],
            [
             0.2,
             "#de77ae"
            ],
            [
             0.3,
             "#f1b6da"
            ],
            [
             0.4,
             "#fde0ef"
            ],
            [
             0.5,
             "#f7f7f7"
            ],
            [
             0.6,
             "#e6f5d0"
            ],
            [
             0.7,
             "#b8e186"
            ],
            [
             0.8,
             "#7fbc41"
            ],
            [
             0.9,
             "#4d9221"
            ],
            [
             1,
             "#276419"
            ]
           ],
           "sequential": [
            [
             0,
             "#0d0887"
            ],
            [
             0.1111111111111111,
             "#46039f"
            ],
            [
             0.2222222222222222,
             "#7201a8"
            ],
            [
             0.3333333333333333,
             "#9c179e"
            ],
            [
             0.4444444444444444,
             "#bd3786"
            ],
            [
             0.5555555555555556,
             "#d8576b"
            ],
            [
             0.6666666666666666,
             "#ed7953"
            ],
            [
             0.7777777777777778,
             "#fb9f3a"
            ],
            [
             0.8888888888888888,
             "#fdca26"
            ],
            [
             1,
             "#f0f921"
            ]
           ],
           "sequentialminus": [
            [
             0,
             "#0d0887"
            ],
            [
             0.1111111111111111,
             "#46039f"
            ],
            [
             0.2222222222222222,
             "#7201a8"
            ],
            [
             0.3333333333333333,
             "#9c179e"
            ],
            [
             0.4444444444444444,
             "#bd3786"
            ],
            [
             0.5555555555555556,
             "#d8576b"
            ],
            [
             0.6666666666666666,
             "#ed7953"
            ],
            [
             0.7777777777777778,
             "#fb9f3a"
            ],
            [
             0.8888888888888888,
             "#fdca26"
            ],
            [
             1,
             "#f0f921"
            ]
           ]
          },
          "colorway": [
           "#636efa",
           "#EF553B",
           "#00cc96",
           "#ab63fa",
           "#FFA15A",
           "#19d3f3",
           "#FF6692",
           "#B6E880",
           "#FF97FF",
           "#FECB52"
          ],
          "font": {
           "color": "#2a3f5f"
          },
          "geo": {
           "bgcolor": "white",
           "lakecolor": "white",
           "landcolor": "#E5ECF6",
           "showlakes": true,
           "showland": true,
           "subunitcolor": "white"
          },
          "hoverlabel": {
           "align": "left"
          },
          "hovermode": "closest",
          "mapbox": {
           "style": "light"
          },
          "paper_bgcolor": "white",
          "plot_bgcolor": "#E5ECF6",
          "polar": {
           "angularaxis": {
            "gridcolor": "white",
            "linecolor": "white",
            "ticks": ""
           },
           "bgcolor": "#E5ECF6",
           "radialaxis": {
            "gridcolor": "white",
            "linecolor": "white",
            "ticks": ""
           }
          },
          "scene": {
           "xaxis": {
            "backgroundcolor": "#E5ECF6",
            "gridcolor": "white",
            "gridwidth": 2,
            "linecolor": "white",
            "showbackground": true,
            "ticks": "",
            "zerolinecolor": "white"
           },
           "yaxis": {
            "backgroundcolor": "#E5ECF6",
            "gridcolor": "white",
            "gridwidth": 2,
            "linecolor": "white",
            "showbackground": true,
            "ticks": "",
            "zerolinecolor": "white"
           },
           "zaxis": {
            "backgroundcolor": "#E5ECF6",
            "gridcolor": "white",
            "gridwidth": 2,
            "linecolor": "white",
            "showbackground": true,
            "ticks": "",
            "zerolinecolor": "white"
           }
          },
          "shapedefaults": {
           "line": {
            "color": "#2a3f5f"
           }
          },
          "ternary": {
           "aaxis": {
            "gridcolor": "white",
            "linecolor": "white",
            "ticks": ""
           },
           "baxis": {
            "gridcolor": "white",
            "linecolor": "white",
            "ticks": ""
           },
           "bgcolor": "#E5ECF6",
           "caxis": {
            "gridcolor": "white",
            "linecolor": "white",
            "ticks": ""
           }
          },
          "title": {
           "x": 0.05
          },
          "xaxis": {
           "automargin": true,
           "gridcolor": "white",
           "linecolor": "white",
           "ticks": "",
           "title": {
            "standoff": 15
           },
           "zerolinecolor": "white",
           "zerolinewidth": 2
          },
          "yaxis": {
           "automargin": true,
           "gridcolor": "white",
           "linecolor": "white",
           "ticks": "",
           "title": {
            "standoff": 15
           },
           "zerolinecolor": "white",
           "zerolinewidth": 2
          }
         }
        },
        "title": {
         "font": {
          "color": "black"
         },
         "text": "Topic Clustering using LDA and t-SNE"
        },
        "xaxis": {
         "anchor": "y",
         "domain": [
          0,
          1
         ],
         "showticklabels": false,
         "title": {
          "text": ""
         }
        },
        "yaxis": {
         "anchor": "x",
         "domain": [
          0,
          1
         ],
         "showticklabels": false,
         "title": {
          "text": ""
         }
        }
       }
      },
      "text/html": [
       "<div>                            <div id=\"3184faed-ba66-42b5-b527-0d158849becc\" class=\"plotly-graph-div\" style=\"height:710px; width:100%;\"></div>            <script type=\"text/javascript\">                require([\"plotly\"], function(Plotly) {                    window.PLOTLYENV=window.PLOTLYENV || {};                                    if (document.getElementById(\"3184faed-ba66-42b5-b527-0d158849becc\")) {                    Plotly.newPlot(                        \"3184faed-ba66-42b5-b527-0d158849becc\",                        [{\"customdata\":[[\"1\",\"@bethangsioco you are wrong, with my 50<br>centavo allowance, i already had the<br>ability to buy palamig and sapin sapin,<br>with 10 centavos to spare. during<br>dismissal, i would buy coconut juice<br>with my 50 centavo allowance. it is not<br>true that the value of the peso lowered.\",\"Topic1: 1.0\"],[\"1\",\"@thatoneesteban @kbrosas not all people<br>in the part are victims during the time<br>of martial law ... according to my<br>grandfather and grandmother, life back<br>then was great during the time of marcos<br>... martial law was set in place only<br>because of communists ... those who did<br>not disobey the law were not victims ...<br>life was properous back then no hunger<br>...\",\"Topic1: 1.0\"],[\"1\",\"this is how cheap the goods were during<br>the time of marcos<br>#marcosjrforpresident2022  bring back<br>marcos\",\"Topic1: 0.98\"],[\"1\",\"this was how we were before, many things<br>were free\\u2665\\ufe0f\",\"Topic1: 0.96\"],[\"1\",\"when marcos was president, we had free<br>nutribun at school. there was also milk.<br>it was stopped when cory came in. after<br>that there was more chaos in mindanao\",\"Topic1: 0.99\"],[\"1\",\"haven't you noticed that the rich are<br>seemingly afraid of marcos because it<br>was the poor who marcos had as priority,<br>during the time of marcos, based on the<br>stories of the elders, the agricultural<br>system was excellent, when the<br>leadership was replaced by the aquinos,<br>former government companies were<br>privatized.\",\"Topic1: 1.0\"],[\"1\",\"i agree @pulburonn  ml was very<br>necessary during that time. if it<br>weren't for ml, what happened in<br>cambodia would have also happened to the<br>philippines. also, it was very nice<br>living in the time of marcos. i did not<br>even think of money before because there<br>was a lot of free food that was given by<br>the school and the community.\",\"Topic1: 1.0\"],[\"1\",\"i remember during the time of marcos<br>nutribun was free, there was even milk.\",\"Topic1: 0.98\"],[\"1\",\"i remember during the time of marcos,<br>nutribun was free, there was even milk.\",\"Topic1: 0.98\"]],\"hovertemplate\":\"<b>%{hovertext}</b><br><br>Breakdown=%{customdata[2]}<extra></extra>\",\"hovertext\":[\"@bethangsioco you are wrong, with my 50<br>centavo allowance, i already had the<br>ability to buy palamig and sapin sapin,<br>with 10 centavos to spare. during<br>dismissal, i would buy coconut juice<br>with my 50 centavo allowance. it is not<br>true that the value of the peso lowered.\",\"@thatoneesteban @kbrosas not all people<br>in the part are victims during the time<br>of martial law ... according to my<br>grandfather and grandmother, life back<br>then was great during the time of marcos<br>... martial law was set in place only<br>because of communists ... those who did<br>not disobey the law were not victims ...<br>life was properous back then no hunger<br>...\",\"this is how cheap the goods were during<br>the time of marcos<br>#marcosjrforpresident2022  bring back<br>marcos\",\"this was how we were before, many things<br>were free\\u2665\\ufe0f\",\"when marcos was president, we had free<br>nutribun at school. there was also milk.<br>it was stopped when cory came in. after<br>that there was more chaos in mindanao\",\"haven't you noticed that the rich are<br>seemingly afraid of marcos because it<br>was the poor who marcos had as priority,<br>during the time of marcos, based on the<br>stories of the elders, the agricultural<br>system was excellent, when the<br>leadership was replaced by the aquinos,<br>former government companies were<br>privatized.\",\"i agree @pulburonn  ml was very<br>necessary during that time. if it<br>weren't for ml, what happened in<br>cambodia would have also happened to the<br>philippines. also, it was very nice<br>living in the time of marcos. i did not<br>even think of money before because there<br>was a lot of free food that was given by<br>the school and the community.\",\"i remember during the time of marcos<br>nutribun was free, there was even milk.\",\"i remember during the time of marcos,<br>nutribun was free, there was even milk.\"],\"legendgroup\":\"1\",\"marker\":{\"color\":\"#636efa\",\"symbol\":\"circle\"},\"mode\":\"markers\",\"name\":\"1\",\"orientation\":\"v\",\"showlegend\":true,\"x\":[-218.3583526611328,-218.3583526611328,-210.92205810546875,-182.3350372314453,-172.01060485839844,-192.5296630859375,-218.3583526611328,-194.35984802246094,-210.92205810546875],\"xaxis\":\"x\",\"y\":[113.51825714111328,113.51825714111328,142.91748046875,142.97900390625,113.18157196044922,121.81513977050781,113.51825714111328,95.99054718017578,142.91748046875],\"yaxis\":\"y\",\"type\":\"scatter\"},{\"customdata\":[[\"2\",\"my mom was able to reach the time of<br>marcos... if you were thin and lacked<br>nutrition... you received more attention<br>and you will be given food  my mom also<br>worked in manila before  the rich were<br>really the ones who were furious before\",\"Topic2: 1.0\"],[\"2\",\"they said it was chaotic during martial<br>law. well, it was actually peaceful you<br>know. goods were cheap. and there were<br>many freebies from marcos.\",\"Topic2: 0.99\"],[\"2\",\"i don't think during the marcos days<br>that people couldn't eat, poop, or leave<br>- they can and they even enjoy the<br>safest environment they are in, there<br>was also economic advancement and<br>welfare. well of course unless they're<br>npas. \\ud83d\\ude02 now? what happened? why? i don't<br>want to speak. haha!\",\"Topic2: 1.0\"],[\"2\",\"this is the nutribun and milk that was<br>provided for the students during the<br>time of ferdinand marcos. \\u2764<br>https://t.co/le2q3bxblq\",\"Topic2: 0.69<br>Topic5: 0.3\"],[\"2\",\"@botitsky ph became self-sufficient in<br>&amp; exporter of rice during fm<br>incumbency. that's why irri was<br>installed in ph in 64, due to potential<br>of ph to model rice production, added to<br>los banos ecology.\",\"Topic2: 1.0\"]],\"hovertemplate\":\"<b>%{hovertext}</b><br><br>Breakdown=%{customdata[2]}<extra></extra>\",\"hovertext\":[\"my mom was able to reach the time of<br>marcos... if you were thin and lacked<br>nutrition... you received more attention<br>and you will be given food  my mom also<br>worked in manila before  the rich were<br>really the ones who were furious before\",\"they said it was chaotic during martial<br>law. well, it was actually peaceful you<br>know. goods were cheap. and there were<br>many freebies from marcos.\",\"i don't think during the marcos days<br>that people couldn't eat, poop, or leave<br>- they can and they even enjoy the<br>safest environment they are in, there<br>was also economic advancement and<br>welfare. well of course unless they're<br>npas. \\ud83d\\ude02 now? what happened? why? i don't<br>want to speak. haha!\",\"this is the nutribun and milk that was<br>provided for the students during the<br>time of ferdinand marcos. \\u2764<br>https://t.co/le2q3bxblq\",\"@botitsky ph became self-sufficient in<br>&amp; exporter of rice during fm<br>incumbency. that's why irri was<br>installed in ph in 64, due to potential<br>of ph to model rice production, added to<br>los banos ecology.\"],\"legendgroup\":\"2\",\"marker\":{\"color\":\"#EF553B\",\"symbol\":\"circle\"},\"mode\":\"markers\",\"name\":\"2\",\"orientation\":\"v\",\"showlegend\":true,\"x\":[-1.6846799850463867,-9.28873062133789,15.690434455871582,31.995012283325195,7.28024435043335],\"xaxis\":\"x\",\"y\":[-77.5179214477539,-97.91854858398438,-89.60161590576172,-107.12984466552734,-111.39324951171875],\"yaxis\":\"y\",\"type\":\"scatter\"},{\"customdata\":[[\"3\",\"girl it's true!! my grandfather always<br>said that life was beautiful when marcos<br>was president, the goods were still very<br>cheap. then mommy said that even when<br>they were in school, marcos always had<br>rationed food for them, so she said<br>there really was no malnourishment<br>during that time.\",\"Topic3: 1.0\"],[\"3\",\"i was there. i was in elementary school.<br>project of former president marcos. it<br>was a good life. even if you had no<br>allowance, there was free nutribun and<br>soup.\",\"Topic3: 0.99\"],[\"3\",\"@datumx11  you're fake news, percy lapid<br>is more credible than you.. there was no<br>famine back then because there were fti<br>and kadiwa rolling stores around the<br>country aside from mrs marcos' green<br>revolution project.. don't spread<br>ignorance here\",\"Topic3: 1.0\"],[\"3\",\"@philstarnews there were free reader's<br>and science digests. 2 pesos for a kilo<br>of rice. cheap goods and food. it wasn't<br>scary to play at night. after edsa we<br>were starving. the price of goods<br>increased. our doctor at the community<br>clinic was gone. there were also no free<br>books at school and whatnot\",\"Topic3: 1.0\"],[\"3\",\"@repasar1 everyday nfa employees go<br>around the markets to see if rice<br>retailers sell an overpriced rice. if<br>caught, the license is revoked and they<br>still have a case. no one went hungry<br>during the marcos years. galunggong<br>(mackerel) cost 20/kilo. i hope to<br>return to that lifestyle.\",\"Topic3: 1.0\"],[\"3\",\"you are the ones who should stop!!! and<br>it's true that what marcos did in the<br>philippines will never be forgotten, it<br>was beautiful, imagine in his time there<br>was nutribun, klim milk, corn powder and<br>bulgor in schools, and even the clothing<br>was very filipino!! that's why i love<br>marcos\",\"Topic3: 1.0\"],[\"3\",\"there really was plenty of food during<br>the time of president marcos. that,<br>cocoy acts like he was paid, just to<br>divert attention. it's always marcos<br>despite the passing of time?<br>#electionfraud2016\",\"Topic3: 0.99\"],[\"3\",\"imagine before during the time of<br>president marcos more than 30 years from<br>now, we would be leading more in the<br>entire sea region and exporter of rice<br>because of the masagana 99 project of<br>president marcos  , take note vietnam<br>was one of those countries that the<br>government taught how to harvest rice<br>abundantly now look they are already<br>progressive.\",\"Topic3: 1.0\"],[\"3\",\"klim, bulgur, corn meal, those were the<br>rations of the people during the marcos<br>regime which is why nobody went hungry,<br>the 1 centavo could be spent and life<br>was peaceful, there were no snatchers,<br>rapists, holduppers, burglars, and<br>kidnappers. nothing comes close to the<br>time of fem. i was born in 1962 which is<br>why i know this.<br>https://twitter.com/joepring_/status/1450799542996135944\",\"Topic3: 1.0\"],[\"3\",\"same with corikong ... what is the deal<br>with @lenirobredo in the future, where<br>even mud will be eaten by the filipinos?<br>during the time of cory, the chicken<br>blood and chicken feet were eaten and a<br>lot were eating pagpag or leftover food<br>because of the aquinos.  marcos is back<br>#launionforbbmsara\",\"Topic3: 1.0\"],[\"3\",\"according to the foolish diehard fans of<br>noynoy their lives were better during<br>his time because goods were cheaper. i<br>said instead, \\\"king ina niyo\\\" goods were<br>cheaper during the time of marcos.\",\"Topic3: 0.99\"],[\"3\",\"back in the time of pres. marcos,<br>copious amounts of food arrived in your<br>homes. i will reiterate, food was the<br>one that approached you. \\ud83e\\udd26\\u200d\\u2640\\ufe0fproof?\\ud83e\\udd26\\u200d\\u2640\\ufe0f<br>are the experiences of my mom, aunts,<br>uncles, and grandma who are still alive<br>right now\\ud83e\\udd37\\u200d\\u2640\\ufe0fthat was their experience<br>during the time of marcos\",\"Topic3: 1.0\"],[\"3\",\"@ilda_talk imagine when i was little<br>during the time of p marcos, there was<br>free bread, rice, sardines and klim milk<br>ml is good that time, we were safe now<br>all lost and messy\",\"Topic3: 0.99\"],[\"3\",\"back in marcos' era, nobody was poor or<br>hungry because of the free food provided<br>in school and poor families always<br>received aid, i'm a witness, that's the<br>fact! #bbmismypresident2022\",\"Topic3: 0.99\"],[\"3\",\"i was not born when president marcos was<br>in power, i really wish i was born in<br>that year because i want to experience<br>what happened in the philippines back<br>then when people were not hungry. i hope<br>it can still happen now, even though<br>there are naive young people\",\"Topic3: 1.0\"],[\"3\",\"i was not born during that time but my<br>grandfather said, the agri business was<br>easy back then, since there were<br>assistances. and the prices were cheap,<br>there was many benefits for everyone. \\ud83e\\udd17<br>even he belongs to a marcos loyalist. it<br>used to be their group. \\ud83d\\udcaabut, he's gone<br>last 1999 killed by a drug addict. \\ud83d\\ude23\",\"Topic3: 1.0\"],[\"3\",\"during the time of marcos they simply<br>gave away nfa, when cory came into power<br>it suddenly received a price. there was<br>free nutribun amd yellow corn in school.\",\"Topic3: 0.99\"],[\"3\",\"true... it's easy to miss the time of<br>marcos. everyone received food. there<br>were even free school supplies back<br>then.\",\"Topic3: 0.99\"],[\"3\",\"this bread reminded me that the era of<br>former president ferdinand e. marcos<br>gave free food to the children before,<br>in order to combat malnutrition, for me<br>he is the first best president in the<br>philippines #bbmsara2022\",\"Topic3: 0.99\"]],\"hovertemplate\":\"<b>%{hovertext}</b><br><br>Breakdown=%{customdata[2]}<extra></extra>\",\"hovertext\":[\"girl it's true!! my grandfather always<br>said that life was beautiful when marcos<br>was president, the goods were still very<br>cheap. then mommy said that even when<br>they were in school, marcos always had<br>rationed food for them, so she said<br>there really was no malnourishment<br>during that time.\",\"i was there. i was in elementary school.<br>project of former president marcos. it<br>was a good life. even if you had no<br>allowance, there was free nutribun and<br>soup.\",\"@datumx11  you're fake news, percy lapid<br>is more credible than you.. there was no<br>famine back then because there were fti<br>and kadiwa rolling stores around the<br>country aside from mrs marcos' green<br>revolution project.. don't spread<br>ignorance here\",\"@philstarnews there were free reader's<br>and science digests. 2 pesos for a kilo<br>of rice. cheap goods and food. it wasn't<br>scary to play at night. after edsa we<br>were starving. the price of goods<br>increased. our doctor at the community<br>clinic was gone. there were also no free<br>books at school and whatnot\",\"@repasar1 everyday nfa employees go<br>around the markets to see if rice<br>retailers sell an overpriced rice. if<br>caught, the license is revoked and they<br>still have a case. no one went hungry<br>during the marcos years. galunggong<br>(mackerel) cost 20/kilo. i hope to<br>return to that lifestyle.\",\"you are the ones who should stop!!! and<br>it's true that what marcos did in the<br>philippines will never be forgotten, it<br>was beautiful, imagine in his time there<br>was nutribun, klim milk, corn powder and<br>bulgor in schools, and even the clothing<br>was very filipino!! that's why i love<br>marcos\",\"there really was plenty of food during<br>the time of president marcos. that,<br>cocoy acts like he was paid, just to<br>divert attention. it's always marcos<br>despite the passing of time?<br>#electionfraud2016\",\"imagine before during the time of<br>president marcos more than 30 years from<br>now, we would be leading more in the<br>entire sea region and exporter of rice<br>because of the masagana 99 project of<br>president marcos  , take note vietnam<br>was one of those countries that the<br>government taught how to harvest rice<br>abundantly now look they are already<br>progressive.\",\"klim, bulgur, corn meal, those were the<br>rations of the people during the marcos<br>regime which is why nobody went hungry,<br>the 1 centavo could be spent and life<br>was peaceful, there were no snatchers,<br>rapists, holduppers, burglars, and<br>kidnappers. nothing comes close to the<br>time of fem. i was born in 1962 which is<br>why i know this.<br>https://twitter.com/joepring_/status/1450799542996135944\",\"same with corikong ... what is the deal<br>with @lenirobredo in the future, where<br>even mud will be eaten by the filipinos?<br>during the time of cory, the chicken<br>blood and chicken feet were eaten and a<br>lot were eating pagpag or leftover food<br>because of the aquinos.  marcos is back<br>#launionforbbmsara\",\"according to the foolish diehard fans of<br>noynoy their lives were better during<br>his time because goods were cheaper. i<br>said instead, \\\"king ina niyo\\\" goods were<br>cheaper during the time of marcos.\",\"back in the time of pres. marcos,<br>copious amounts of food arrived in your<br>homes. i will reiterate, food was the<br>one that approached you. \\ud83e\\udd26\\u200d\\u2640\\ufe0fproof?\\ud83e\\udd26\\u200d\\u2640\\ufe0f<br>are the experiences of my mom, aunts,<br>uncles, and grandma who are still alive<br>right now\\ud83e\\udd37\\u200d\\u2640\\ufe0fthat was their experience<br>during the time of marcos\",\"@ilda_talk imagine when i was little<br>during the time of p marcos, there was<br>free bread, rice, sardines and klim milk<br>ml is good that time, we were safe now<br>all lost and messy\",\"back in marcos' era, nobody was poor or<br>hungry because of the free food provided<br>in school and poor families always<br>received aid, i'm a witness, that's the<br>fact! #bbmismypresident2022\",\"i was not born when president marcos was<br>in power, i really wish i was born in<br>that year because i want to experience<br>what happened in the philippines back<br>then when people were not hungry. i hope<br>it can still happen now, even though<br>there are naive young people\",\"i was not born during that time but my<br>grandfather said, the agri business was<br>easy back then, since there were<br>assistances. and the prices were cheap,<br>there was many benefits for everyone. \\ud83e\\udd17<br>even he belongs to a marcos loyalist. it<br>used to be their group. \\ud83d\\udcaabut, he's gone<br>last 1999 killed by a drug addict. \\ud83d\\ude23\",\"during the time of marcos they simply<br>gave away nfa, when cory came into power<br>it suddenly received a price. there was<br>free nutribun amd yellow corn in school.\",\"true... it's easy to miss the time of<br>marcos. everyone received food. there<br>were even free school supplies back<br>then.\",\"this bread reminded me that the era of<br>former president ferdinand e. marcos<br>gave free food to the children before,<br>in order to combat malnutrition, for me<br>he is the first best president in the<br>philippines #bbmsara2022\"],\"legendgroup\":\"3\",\"marker\":{\"color\":\"#00cc96\",\"symbol\":\"circle\"},\"mode\":\"markers\",\"name\":\"3\",\"orientation\":\"v\",\"showlegend\":true,\"x\":[-69.03777313232422,-32.70147705078125,-5.511035919189453,-39.87624740600586,-69.03777313232422,-69.03777313232422,-32.70147705078125,-69.54505920410156,-96.40923309326172,-63.77434158325195,-36.53691482543945,-69.54505920410156,-36.53691482543945,-36.53691482543945,-69.03777313232422,-69.03777313232422,-32.70147705078125,-32.70147705078125,-36.53691482543945],\"xaxis\":\"x\",\"y\":[162.15036010742188,146.96493530273438,171.9673614501953,219.01007080078125,162.15036010742188,162.15036010742188,146.96493530273438,202.03482055664062,184.25222778320312,126.49569702148438,186.16053771972656,202.03482055664062,186.16053771972656,186.16053771972656,162.15036010742188,162.15036010742188,146.96493530273438,146.96493530273438,186.16053771972656],\"yaxis\":\"y\",\"type\":\"scatter\"},{\"customdata\":[[\"4\",\"@philstarnews i do not remember any<br>particular occurrence like that. life<br>was happy and quiet during the time of<br>marcos. we had free ballet and piano<br>teachers. the clinic had doctors and<br>dentists with free medicine. we had free<br>milk and yellow corn that's why we were<br>never hungry. we had feeding in school<br>1/2\",\"Topic4: 1.0\"],[\"4\",\"look back: in may 1973, the green<br>revolution was launched by former pres.<br>marcos & madame imelda, under the name<br>of masagana (bountiful) 99,which aimed<br>to produce 99 sacks of rice  per hectare<br>that was necessary to make the country<br>self-sufficient in terms of rice. #pbbm<br>ctto\",\"Topic4: 1.0\"],[\"4\",\"for those who experienced free milo,<br>milk(klim), bulgur, bread, free<br>mouthwash during the time of marcos,<br>only marcos has the compassion for those<br>families who are full and hungry without<br>the media covering for them.<br>#labanmarcosjr  still marcos\",\"Topic4: 0.99\"],[\"4\",\"during the time of marcos kangkong and<br>galunggong (mackerel) was 20 and 40<br>which they say was what made the lives<br>of people hard. when cory was in power,<br>the price of everything was doubled! but<br>it was still the fault of marcos. the<br>dilaw enjoyed blaming others. any color<br>is fine just not dilaw. choose the real<br>lesser evil.\",\"Topic4: 1.0\"],[\"4\",\"time of marcos .... cheap rice and<br>galunggong ...!!! was not the time of a<br>mothers' greed .... bullets replaced<br>rice ....!!!\",\"Topic4: 0.99\"],[\"4\",\"@maarrkkkyyyy  correct and panot is the<br>worst.... time of marcos... no child was<br>hungry.\",\"Topic4: 0.99\"],[\"4\",\"@ancalerts the masagana 99 project of<br>president marcos during his term, all<br>farmers had bountiful harvest. the<br>philippines even taught the proper<br>harvesting techniques to vietnam. after<br>corykong grabbed the power, all the good<br>projects of president marcos was<br>removed. here we are now after 33 years<br>#bagsak\",\"Topic4: 1.0\"],[\"4\",\"@renguillar @k_aletha and 5 others  yes,<br>klim. that is why during marcos, no poor<br>child got hungry. because there were<br>marcos type building of schools. and<br>there were ration snacks.\",\"Topic4: 0.99\"]],\"hovertemplate\":\"<b>%{hovertext}</b><br><br>Breakdown=%{customdata[2]}<extra></extra>\",\"hovertext\":[\"@philstarnews i do not remember any<br>particular occurrence like that. life<br>was happy and quiet during the time of<br>marcos. we had free ballet and piano<br>teachers. the clinic had doctors and<br>dentists with free medicine. we had free<br>milk and yellow corn that's why we were<br>never hungry. we had feeding in school<br>1/2\",\"look back: in may 1973, the green<br>revolution was launched by former pres.<br>marcos & madame imelda, under the name<br>of masagana (bountiful) 99,which aimed<br>to produce 99 sacks of rice  per hectare<br>that was necessary to make the country<br>self-sufficient in terms of rice. #pbbm<br>ctto\",\"for those who experienced free milo,<br>milk(klim), bulgur, bread, free<br>mouthwash during the time of marcos,<br>only marcos has the compassion for those<br>families who are full and hungry without<br>the media covering for them.<br>#labanmarcosjr  still marcos\",\"during the time of marcos kangkong and<br>galunggong (mackerel) was 20 and 40<br>which they say was what made the lives<br>of people hard. when cory was in power,<br>the price of everything was doubled! but<br>it was still the fault of marcos. the<br>dilaw enjoyed blaming others. any color<br>is fine just not dilaw. choose the real<br>lesser evil.\",\"time of marcos .... cheap rice and<br>galunggong ...!!! was not the time of a<br>mothers' greed .... bullets replaced<br>rice ....!!!\",\"@maarrkkkyyyy  correct and panot is the<br>worst.... time of marcos... no child was<br>hungry.\",\"@ancalerts the masagana 99 project of<br>president marcos during his term, all<br>farmers had bountiful harvest. the<br>philippines even taught the proper<br>harvesting techniques to vietnam. after<br>corykong grabbed the power, all the good<br>projects of president marcos was<br>removed. here we are now after 33 years<br>#bagsak\",\"@renguillar @k_aletha and 5 others  yes,<br>klim. that is why during marcos, no poor<br>child got hungry. because there were<br>marcos type building of schools. and<br>there were ration snacks.\"],\"legendgroup\":\"4\",\"marker\":{\"color\":\"#ab63fa\",\"symbol\":\"circle\"},\"mode\":\"markers\",\"name\":\"4\",\"orientation\":\"v\",\"showlegend\":true,\"x\":[-6.634251117706299,-43.573978424072266,-22.879302978515625,-48.307640075683594,-31.770837783813477,-22.879302978515625,-18.787147521972656,-54.356178283691406],\"xaxis\":\"x\",\"y\":[10.060861587524414,-12.173112869262695,30.839677810668945,33.3345832824707,8.162708282470703,30.839677810668945,-11.434159278869629,10.50372314453125],\"yaxis\":\"y\",\"type\":\"scatter\"},{\"customdata\":[[\"5\",\"i remember back then, even when i did<br>not have pocket money, i was still able<br>to eat because of the free nutribun and<br>klim milk for the students and because<br>of that no student went hungry, marcos<br>had true compassion for the filpinos and<br>the country\",\"Topic5: 0.99\"],[\"5\",\"back then there was free klim milk,<br>nutribun bread and wheat or bulgur that<br>were distributed daily to public schools<br>to fight malnutrition in our country.<br>but when marcos disappeared and cory<br>aquino became the president, the free<br>[nutribun] gradually disappeared<br>#covid19ph\",\"Topic5: 1.0\"],[\"5\",\"marcos sr had a great vision for this<br>country. food &energy sufficiency coz he<br>planned to be the asia's superpower.he<br>built roads,bridges,power plants &<br>towers for power transport then hired<br>brains to make the best crops. but a<br>housewife told us that she's better.<br>now,we're poor.\",\"Topic5: 1.0\"],[\"5\",\"during the time of marcos, the rise of<br>the dollar was controlled, galunggong<br>(mackerel) was cheap. why do those<br>people who did not even reach the marcos<br>regime feel the need to get mad? i was<br>grade 1 during martial law. i go to<br>school alone, because my parents felt<br>secure that there were no addicts on the<br>street.\",\"Topic5: 1.0\"],[\"5\",\"during the time of pres marcos, no one<br>was hungry in school because there was<br>nutribun am & pm, the roads were safe,<br>the people were polite.\",\"Topic5: 0.99\"],[\"5\",\"there were npa members who pretended to<br>be soldiers back then to show that the<br>martial law declared by marcos was bad.<br>and my dad and mom said they were taken<br>care of, there was always food and<br>vaccines, no child went hungry, marcos<br>and imelda visited from house to house\",\"Topic5: 1.0\"],[\"5\",\"who among you had the chance to taste<br>the klim and corn flour which were great<br>in making polvoron. it was free during<br>the time of ferdinand marcos! plus<br>nutribun. #genx let us not fool<br>ourselves i am genx\\ud83d\\udc85\\ud83c\\udffc\\ud83d\\ude0e\",\"Topic5: 0.99\"],[\"5\",\"ph attained food sufficiency only under<br>ferdinand marcos<br>https://viralvideo.ph/ph-attained-food-<br>sufficiency-only-under-ferdinand-<br>marcos/?utm_source=rss&utm_medium=rss&utm_campaign=ph-<br>attained-food-sufficiency-only-under-<br>ferdinand-marcos\",\"Topic5: 0.98\"],[\"5\",\"\\ud83d\\udc4a\\ud83d\\udc4a\\ud83d\\udc4a it's become crazy at least during<br>the time of president marcos the<br>students were not hungry because there<br>were free snacks like nutribun and it<br>was still hot. then every family was<br>also given monthly powdered milk and<br>powdered chuchu which is made into<br>lugaw.<br>https://facebook.com/fe.venus/posts/3610255529014821\",\"Topic5: 1.0\"],[\"5\",\"ph attained food sufficiency only under<br>ferdinand marcos<br>https://viralvideo.ph/ph-attained-food-<br>sufficiency-only-under-ferdinand-<br>marcos/?utm_source=rss&utm_medium=rss&utm_campaign=ph-<br>attained-food-sufficiency-only-under-<br>ferdinand-marcos\",\"Topic5: 0.98\"],[\"5\",\"food was free in public schools during<br>the time of marcos. goodness gracious.<br>#pilipinasdebates2016\",\"Topic5: 0.98\"],[\"5\",\"answer cory's biggest jejemon trolls!!!<br>your brain has no nutrition..  at least<br>marcos had nutribun, klim, trigo and<br>free dental hygiene check up..\",\"Topic5: 0.99\"],[\"5\",\"i grew old without knowing what the<br>aquino family did... i studied<br>elementary during the time of president<br>marcos, we had food and milk at school.<br>when the government went to the mother<br>of the balding man, all students went<br>hungry. that's how trash the dilawan<br>were\",\"Topic5: 1.0\"],[\"5\",\"@apocalypsetita @jcmanila and 3 others<br>that's why i remember during marcos's<br>time there was a green revolution, the<br>fields were abundant for the pinoys, no<br>one was hungry because there was always<br>a new harvest in the backyard planting.<br>now lazy lazy lazy just hope. even in<br>the family, we still depend on the<br>parents, even if we already have our own<br>family. that's the truth\",\"Topic5: 1.0\"],[\"5\",\"@tloremla  it's true!! during marcos<br>time, i was in grade school free food at<br>school.. no child hungry at school and<br>there was free milk and the nutribun<br>bread was very big...\",\"Topic5: 0.99\"],[\"5\",\"because he was so angry with the marcos<br>family, he didn't taste nutribun and<br>klim due to being rich back then or he<br>was paid by the activists ever since he<br>was in high school \\ud83d\\ude02\",\"Topic5: 0.99\"],[\"5\",\"there are still \\\"never again\\\" and<br>\\\"marcos not a hero\\\" remaining idiots<br>here in the philippines. most of them<br>did not even reach martial law or at<br>least ate the last nutribun.  dumb<br>people indoctrinated by the holy<br>textbook, designed by aquino's oligarch<br>allies.\",\"Topic5: 1.0\"],[\"5\",\"sometimes when my mother was talking<br>about how good the country was back then<br>under marcos' rule, like cheap food,<br>free nutribun in schools, it seemed like<br>it would be better to go back to that<br>time\",\"Topic5: 0.99\"],[\"5\",\"ph attained food sufficiency only under<br>ferdinand marcos<br>https://viralvideo.ph/ph-attained-food-<br>sufficiency-only-under-ferdinand-<br>marcos/?utm_source=rss&utm_medium=rss&utm_campaign=ph-<br>attained-food-sufficiency-only-under-<br>ferdinand-marcos\",\"Topic5: 0.98\"]],\"hovertemplate\":\"<b>%{hovertext}</b><br><br>Breakdown=%{customdata[2]}<extra></extra>\",\"hovertext\":[\"i remember back then, even when i did<br>not have pocket money, i was still able<br>to eat because of the free nutribun and<br>klim milk for the students and because<br>of that no student went hungry, marcos<br>had true compassion for the filpinos and<br>the country\",\"back then there was free klim milk,<br>nutribun bread and wheat or bulgur that<br>were distributed daily to public schools<br>to fight malnutrition in our country.<br>but when marcos disappeared and cory<br>aquino became the president, the free<br>[nutribun] gradually disappeared<br>#covid19ph\",\"marcos sr had a great vision for this<br>country. food &energy sufficiency coz he<br>planned to be the asia's superpower.he<br>built roads,bridges,power plants &<br>towers for power transport then hired<br>brains to make the best crops. but a<br>housewife told us that she's better.<br>now,we're poor.\",\"during the time of marcos, the rise of<br>the dollar was controlled, galunggong<br>(mackerel) was cheap. why do those<br>people who did not even reach the marcos<br>regime feel the need to get mad? i was<br>grade 1 during martial law. i go to<br>school alone, because my parents felt<br>secure that there were no addicts on the<br>street.\",\"during the time of pres marcos, no one<br>was hungry in school because there was<br>nutribun am & pm, the roads were safe,<br>the people were polite.\",\"there were npa members who pretended to<br>be soldiers back then to show that the<br>martial law declared by marcos was bad.<br>and my dad and mom said they were taken<br>care of, there was always food and<br>vaccines, no child went hungry, marcos<br>and imelda visited from house to house\",\"who among you had the chance to taste<br>the klim and corn flour which were great<br>in making polvoron. it was free during<br>the time of ferdinand marcos! plus<br>nutribun. #genx let us not fool<br>ourselves i am genx\\ud83d\\udc85\\ud83c\\udffc\\ud83d\\ude0e\",\"ph attained food sufficiency only under<br>ferdinand marcos<br>https://viralvideo.ph/ph-attained-food-<br>sufficiency-only-under-ferdinand-<br>marcos/?utm_source=rss&utm_medium=rss&utm_campaign=ph-<br>attained-food-sufficiency-only-under-<br>ferdinand-marcos\",\"\\ud83d\\udc4a\\ud83d\\udc4a\\ud83d\\udc4a it's become crazy at least during<br>the time of president marcos the<br>students were not hungry because there<br>were free snacks like nutribun and it<br>was still hot. then every family was<br>also given monthly powdered milk and<br>powdered chuchu which is made into<br>lugaw.<br>https://facebook.com/fe.venus/posts/3610255529014821\",\"ph attained food sufficiency only under<br>ferdinand marcos<br>https://viralvideo.ph/ph-attained-food-<br>sufficiency-only-under-ferdinand-<br>marcos/?utm_source=rss&utm_medium=rss&utm_campaign=ph-<br>attained-food-sufficiency-only-under-<br>ferdinand-marcos\",\"food was free in public schools during<br>the time of marcos. goodness gracious.<br>#pilipinasdebates2016\",\"answer cory's biggest jejemon trolls!!!<br>your brain has no nutrition..  at least<br>marcos had nutribun, klim, trigo and<br>free dental hygiene check up..\",\"i grew old without knowing what the<br>aquino family did... i studied<br>elementary during the time of president<br>marcos, we had food and milk at school.<br>when the government went to the mother<br>of the balding man, all students went<br>hungry. that's how trash the dilawan<br>were\",\"@apocalypsetita @jcmanila and 3 others<br>that's why i remember during marcos's<br>time there was a green revolution, the<br>fields were abundant for the pinoys, no<br>one was hungry because there was always<br>a new harvest in the backyard planting.<br>now lazy lazy lazy just hope. even in<br>the family, we still depend on the<br>parents, even if we already have our own<br>family. that's the truth\",\"@tloremla  it's true!! during marcos<br>time, i was in grade school free food at<br>school.. no child hungry at school and<br>there was free milk and the nutribun<br>bread was very big...\",\"because he was so angry with the marcos<br>family, he didn't taste nutribun and<br>klim due to being rich back then or he<br>was paid by the activists ever since he<br>was in high school \\ud83d\\ude02\",\"there are still \\\"never again\\\" and<br>\\\"marcos not a hero\\\" remaining idiots<br>here in the philippines. most of them<br>did not even reach martial law or at<br>least ate the last nutribun.  dumb<br>people indoctrinated by the holy<br>textbook, designed by aquino's oligarch<br>allies.\",\"sometimes when my mother was talking<br>about how good the country was back then<br>under marcos' rule, like cheap food,<br>free nutribun in schools, it seemed like<br>it would be better to go back to that<br>time\",\"ph attained food sufficiency only under<br>ferdinand marcos<br>https://viralvideo.ph/ph-attained-food-<br>sufficiency-only-under-ferdinand-<br>marcos/?utm_source=rss&utm_medium=rss&utm_campaign=ph-<br>attained-food-sufficiency-only-under-<br>ferdinand-marcos\"],\"legendgroup\":\"5\",\"marker\":{\"color\":\"#FFA15A\",\"symbol\":\"circle\"},\"mode\":\"markers\",\"name\":\"5\",\"orientation\":\"v\",\"showlegend\":true,\"x\":[144.02891540527344,101.40633392333984,115.32681274414062,156.73495483398438,139.1040802001953,156.73495483398438,80.33096313476562,118.96611785888672,101.40633392333984,118.96611785888672,118.96611785888672,139.1040802001953,156.73495483398438,101.40633392333984,89.9976806640625,139.1040802001953,101.40633392333984,139.1040802001953,118.96611785888672],\"xaxis\":\"x\",\"y\":[-162.4788818359375,-100.88731384277344,-167.65744018554688,-131.91416931152344,-98.74905395507812,-131.91416931152344,-126.9582290649414,-134.2237091064453,-100.88731384277344,-134.2237091064453,-134.2237091064453,-98.74905395507812,-131.91416931152344,-100.88731384277344,-152.27244567871094,-98.74905395507812,-100.88731384277344,-98.74905395507812,-134.2237091064453],\"yaxis\":\"y\",\"type\":\"scatter\"},{\"customdata\":[[\"6\",\"i hope it goes back to the time before<br>when schools had garden vegetables<br>hahhah it was so fun to garden, cook,<br>then eat. also the free milk and bread<br>led to students being full during the<br>time of marcos\",\"Topic6: 0.86<br>Topic5: 0.13\"],[\"6\",\"i know that you did not reach marcos'<br>time back then. there were few poor and<br>hungry back then. even the children<br>weren't malnourished because of the free<br>food back then. 80% poor people? you are<br>the ones who don't know anything because<br>you weren't born during marcos' time\",\"Topic6: 1.0\"],[\"6\",\"during the time of marcos nfa rice was<br>not sold, it was free, rationed, and<br>given to the poor\",\"Topic6: 0.99\"],[\"6\",\"@rodybaher3 and @conrado_balweg it's not<br>sustainable but no one was hungry during<br>that time?? all the goods were cheap?<br>they say there was nothing difficult<br>during the time of marcos and before you<br>speak of a dictator, first learn why<br>martial law needed to be implemented\",\"Topic6: 0.99\"]],\"hovertemplate\":\"<b>%{hovertext}</b><br><br>Breakdown=%{customdata[2]}<extra></extra>\",\"hovertext\":[\"i hope it goes back to the time before<br>when schools had garden vegetables<br>hahhah it was so fun to garden, cook,<br>then eat. also the free milk and bread<br>led to students being full during the<br>time of marcos\",\"i know that you did not reach marcos'<br>time back then. there were few poor and<br>hungry back then. even the children<br>weren't malnourished because of the free<br>food back then. 80% poor people? you are<br>the ones who don't know anything because<br>you weren't born during marcos' time\",\"during the time of marcos nfa rice was<br>not sold, it was free, rationed, and<br>given to the poor\",\"@rodybaher3 and @conrado_balweg it's not<br>sustainable but no one was hungry during<br>that time?? all the goods were cheap?<br>they say there was nothing difficult<br>during the time of marcos and before you<br>speak of a dictator, first learn why<br>martial law needed to be implemented\"],\"legendgroup\":\"6\",\"marker\":{\"color\":\"#19d3f3\",\"symbol\":\"circle\"},\"mode\":\"markers\",\"name\":\"6\",\"orientation\":\"v\",\"showlegend\":true,\"x\":[69.34392547607422,49.82377243041992,57.944400787353516,38.67323303222656],\"xaxis\":\"x\",\"y\":[-37.0535774230957,-43.50339126586914,-19.728540420532227,-26.608503341674805],\"yaxis\":\"y\",\"type\":\"scatter\"},{\"customdata\":[[\"7\",\"its 1982 and marcos wants food self-<br>sufficiency coupled with economic<br>independence for the philippines.\",\"Topic7: 0.99\"],[\"7\",\"a lot of things were free during the<br>time of marcos and there were a lot of<br>rations even if there weren't typhoons.<br>during the time of panot, even if you<br>already suffered from the typhoon, you<br>will still not be given aid if you were<br>not a supporter. do you remember yolanda\",\"Topic7: 1.0\"],[\"7\",\"they act like they were already there<br>during the time of marcos? hey eneng<br>don't be a brat because i was alive<br>during the time of marcos but i never<br>had a bad experience, and i remember my<br>school days, milk, bread, and bulgor<br>were free in school... after edsa, the<br>npas that replaced them dabbled in<br>corrupt acts in the farm..\\ud83d\\ude20\\ud83d\\ude20\",\"Topic7: 1.0\"],[\"7\",\"you say it's all marcos's fault, but he<br>was already sitting, you can blame the<br>past administration, during marcos' time<br>there were free education and free meals<br>for the students, why even the education<br>of bbm's son you're complaining, you<br>know you're just envious\\ud83d\\ude1c blame the<br>dilawan\",\"Topic7: 1.0\"],[\"7\",\"@mjcayabyabinq sister, are you like this<br>because you didn't get to eat nutribun?<br>ask the elders it was free during the<br>time of marcos.\",\"Topic7: 0.99\"],[\"7\",\"but tbh it was good during marcos' time,<br>the goods were cheap. and you could buy<br>more than 3 kilos of rice for 6 pesos,<br>right?\",\"Topic7: 0.99\"],[\"7\",\"@thedorkknight9 bro, marcos is the<br>president of my people., that's a sick<br>child you posted and even in this day<br>there are children like that who get<br>sick. there was no famine during marcos'<br>time because i was already a person of<br>that time..everything was cheaper<br>including water, electricity was cheap<br>and at work everything was regular.\",\"Topic7: 1.0\"],[\"7\",\"everything was caused by marcos, he was<br>already in power, blame the past<br>administration, back during the time of<br>marcos there was free education and even<br>the food for the students was free, why<br>meddle with the schooling of bbm's son<br>that's just jealousy\\ud83d\\ude1cblame the dilawan\",\"Topic7: 1.0\"],[\"7\",\"there was martial law during the marcos<br>era, but the prices were cheap and no<br>one was hungry\",\"Topic7: 0.51<br>Topic5: 0.24<br>Topic3: 0.23\"],[\"7\",\"the reason why the poor were the only<br>ones who suffered is because of the<br>dilawan who became pink now..back during<br>the time of marcos we did not feel<br>hunger because the free food and milk<br>were abundant... back during the time of<br>cory it went downhill even until ninoy.<br>https://twitter.com/joepring_/status/1450799542996135944\",\"Topic7: 1.0\"],[\"7\",\"yes friend, during the time of marcos<br>sr., they we're able to do just that,<br>the masagana 99 project. from giving<br>fertilizer up to distribution to<br>\\\"kadiwa\\\" of different agricultural<br>products, the government worked hand in<br>hand with the farmers.\",\"Topic7: 1.0\"],[\"7\",\"during marcos time, bringin money to<br>school was not a trend and there were no<br>hungry students. students were just<br>advised to bring glass....<br>http://fb.me/4eqygvqaz\",\"Topic7: 0.99\"],[\"7\",\"@jeniieandpeers and @kayemontevidad<br>bruh, during the time of marcos, even<br>the poor could eat because everything<br>was cheap, and now you're still going to<br>vote for someone who didn't develop the<br>philippines, you're just a stupid boy\",\"Topic7: 1.0\"],[\"7\",\"why did we get free nutribun and sopas<br>during the time of marcos after his<br>regime no more\",\"Topic7: 0.78<br>Topic8: 0.21\"],[\"7\",\"because of marcos, no student was<br>hungry. thanks for the nutribun marcos!<br>long live marcos! #mlnonfiction\",\"Topic7: 0.99\"]],\"hovertemplate\":\"<b>%{hovertext}</b><br><br>Breakdown=%{customdata[2]}<extra></extra>\",\"hovertext\":[\"its 1982 and marcos wants food self-<br>sufficiency coupled with economic<br>independence for the philippines.\",\"a lot of things were free during the<br>time of marcos and there were a lot of<br>rations even if there weren't typhoons.<br>during the time of panot, even if you<br>already suffered from the typhoon, you<br>will still not be given aid if you were<br>not a supporter. do you remember yolanda\",\"they act like they were already there<br>during the time of marcos? hey eneng<br>don't be a brat because i was alive<br>during the time of marcos but i never<br>had a bad experience, and i remember my<br>school days, milk, bread, and bulgor<br>were free in school... after edsa, the<br>npas that replaced them dabbled in<br>corrupt acts in the farm..\\ud83d\\ude20\\ud83d\\ude20\",\"you say it's all marcos's fault, but he<br>was already sitting, you can blame the<br>past administration, during marcos' time<br>there were free education and free meals<br>for the students, why even the education<br>of bbm's son you're complaining, you<br>know you're just envious\\ud83d\\ude1c blame the<br>dilawan\",\"@mjcayabyabinq sister, are you like this<br>because you didn't get to eat nutribun?<br>ask the elders it was free during the<br>time of marcos.\",\"but tbh it was good during marcos' time,<br>the goods were cheap. and you could buy<br>more than 3 kilos of rice for 6 pesos,<br>right?\",\"@thedorkknight9 bro, marcos is the<br>president of my people., that's a sick<br>child you posted and even in this day<br>there are children like that who get<br>sick. there was no famine during marcos'<br>time because i was already a person of<br>that time..everything was cheaper<br>including water, electricity was cheap<br>and at work everything was regular.\",\"everything was caused by marcos, he was<br>already in power, blame the past<br>administration, back during the time of<br>marcos there was free education and even<br>the food for the students was free, why<br>meddle with the schooling of bbm's son<br>that's just jealousy\\ud83d\\ude1cblame the dilawan\",\"there was martial law during the marcos<br>era, but the prices were cheap and no<br>one was hungry\",\"the reason why the poor were the only<br>ones who suffered is because of the<br>dilawan who became pink now..back during<br>the time of marcos we did not feel<br>hunger because the free food and milk<br>were abundant... back during the time of<br>cory it went downhill even until ninoy.<br>https://twitter.com/joepring_/status/1450799542996135944\",\"yes friend, during the time of marcos<br>sr., they we're able to do just that,<br>the masagana 99 project. from giving<br>fertilizer up to distribution to<br>\\\"kadiwa\\\" of different agricultural<br>products, the government worked hand in<br>hand with the farmers.\",\"during marcos time, bringin money to<br>school was not a trend and there were no<br>hungry students. students were just<br>advised to bring glass....<br>http://fb.me/4eqygvqaz\",\"@jeniieandpeers and @kayemontevidad<br>bruh, during the time of marcos, even<br>the poor could eat because everything<br>was cheap, and now you're still going to<br>vote for someone who didn't develop the<br>philippines, you're just a stupid boy\",\"why did we get free nutribun and sopas<br>during the time of marcos after his<br>regime no more\",\"because of marcos, no student was<br>hungry. thanks for the nutribun marcos!<br>long live marcos! #mlnonfiction\"],\"legendgroup\":\"7\",\"marker\":{\"color\":\"#FF6692\",\"symbol\":\"circle\"},\"mode\":\"markers\",\"name\":\"7\",\"orientation\":\"v\",\"showlegend\":true,\"x\":[76.14017486572266,80.54020690917969,80.54020690917969,80.54020690917969,47.24701690673828,47.24701690673828,101.8393325805664,106.50348663330078,53.88570785522461,106.50348663330078,80.54020690917969,52.30488967895508,80.54020690917969,118.73091888427734,80.02318572998047],\"xaxis\":\"x\",\"y\":[33.42945861816406,67.43824005126953,67.43824005126953,67.43824005126953,74.47830200195312,74.47830200195312,40.72203826904297,90.0289077758789,103.21897888183594,90.0289077758789,67.43824005126953,45.452030181884766,67.43824005126953,61.76706314086914,102.86345672607422],\"yaxis\":\"y\",\"type\":\"scatter\"},{\"customdata\":[[\"8\",\"i was here when it happened--free during<br>the time of marcos, , bam said during<br>the time of aquino--scraps were the only<br>thing you can eat from the store.\",\"Topic8: 0.99\"],[\"8\",\"even here in laguna the elders still<br>prefer the time of marcos. there were<br>many projects, the people were<br>disciplined, there was a lot of food,<br>there was a focus in projects related to<br>education, etc.\",\"Topic8: 0.99\"],[\"8\",\"@dozz3h_vbril that is what i experienced<br>back then, during the time of<br>marcos..agricultural products were in<br>abundance..because of governmental<br>support, especially with irrigation..and<br>everthing changed when marcos sr. was<br>removed from office.<br>https://t.co/ickbrv5xtm..\",\"Topic8: 0.99\"],[\"8\",\"during the time of marcos, there was<br>free food in public schools. the<br>infrastructures.\",\"Topic8: 0.98\"],[\"8\",\"nutribun was a healthy snack advocated<br>during the administration of president<br>marcos, distributed in public schools<br>nationwide, to minimize the consumption<br>of unhealthy junk foods by students for<br>a healthy living.    read full story:<br>http://pia.gov.ph/news/articles/1024894.\",\"Topic8: 1.0\"],[\"8\",\"they were happy during the time of<br>marcos because they had free nutribun \\ud83d\\ude34\",\"Topic8: 0.74<br>Topic5: 0.23\"],[\"8\",\"during the time of marcos, it was never<br>the case where betamax, isaw, ulo, pwet,<br>paa ng manok (chicken blood, chicken<br>intestine, chicken head, chicken butt,<br>chicken feet) were eaten.  but when the<br>economy was handled by the cartel's that<br>acted as tentacles by korikong or dila<br>one after edsa1?  oh all of those things<br>became a viand of poor filipinos.<br>gets!!!...\",\"Topic8: 1.0\"],[\"8\",\"kida during in marcos' regime eat<br>nutribun bread, i thought ppl are<br>starving marcos regime    and kids in<br>nowadays eat a bag of piattos....    the<br>evolution of school snacks\",\"Topic8: 0.99\"],[\"8\",\"do you not know that during the time of<br>marcos, there was always free food? fish<br>among others were cheap\",\"Topic8: 0.99\"],[\"8\",\"@lynr3 @fortunatojen @banwa_ko<br>@krisaquinoworld i was alive during the<br>time of marcos my father had a decent<br>job, we were filled with skim milk and<br>nutribun. i am guessing that you are<br>stubborn that is why you do not like<br>marcos\",\"Topic8: 0.99\"]],\"hovertemplate\":\"<b>%{hovertext}</b><br><br>Breakdown=%{customdata[2]}<extra></extra>\",\"hovertext\":[\"i was here when it happened--free during<br>the time of marcos, , bam said during<br>the time of aquino--scraps were the only<br>thing you can eat from the store.\",\"even here in laguna the elders still<br>prefer the time of marcos. there were<br>many projects, the people were<br>disciplined, there was a lot of food,<br>there was a focus in projects related to<br>education, etc.\",\"@dozz3h_vbril that is what i experienced<br>back then, during the time of<br>marcos..agricultural products were in<br>abundance..because of governmental<br>support, especially with irrigation..and<br>everthing changed when marcos sr. was<br>removed from office.<br>https://t.co/ickbrv5xtm..\",\"during the time of marcos, there was<br>free food in public schools. the<br>infrastructures.\",\"nutribun was a healthy snack advocated<br>during the administration of president<br>marcos, distributed in public schools<br>nationwide, to minimize the consumption<br>of unhealthy junk foods by students for<br>a healthy living.    read full story:<br>http://pia.gov.ph/news/articles/1024894.\",\"they were happy during the time of<br>marcos because they had free nutribun \\ud83d\\ude34\",\"during the time of marcos, it was never<br>the case where betamax, isaw, ulo, pwet,<br>paa ng manok (chicken blood, chicken<br>intestine, chicken head, chicken butt,<br>chicken feet) were eaten.  but when the<br>economy was handled by the cartel's that<br>acted as tentacles by korikong or dila<br>one after edsa1?  oh all of those things<br>became a viand of poor filipinos.<br>gets!!!...\",\"kida during in marcos' regime eat<br>nutribun bread, i thought ppl are<br>starving marcos regime    and kids in<br>nowadays eat a bag of piattos....    the<br>evolution of school snacks\",\"do you not know that during the time of<br>marcos, there was always free food? fish<br>among others were cheap\",\"@lynr3 @fortunatojen @banwa_ko<br>@krisaquinoworld i was alive during the<br>time of marcos my father had a decent<br>job, we were filled with skim milk and<br>nutribun. i am guessing that you are<br>stubborn that is why you do not like<br>marcos\"],\"legendgroup\":\"8\",\"marker\":{\"color\":\"#B6E880\",\"symbol\":\"circle\"},\"mode\":\"markers\",\"name\":\"8\",\"orientation\":\"v\",\"showlegend\":true,\"x\":[188.6171112060547,188.6171112060547,213.7025909423828,183.43077087402344,216.83819580078125,199.05419921875,163.99783325195312,188.6171112060547,213.7025909423828,213.7025909423828],\"xaxis\":\"x\",\"y\":[15.898988723754883,15.898988723754883,-4.975439071655273,-14.315385818481445,25.59939193725586,-32.7834587097168,-0.06093237176537514,15.898988723754883,-4.975439071655273,-4.975439071655273],\"yaxis\":\"y\",\"type\":\"scatter\"},{\"customdata\":[[\"9\",\"@silverrage1 @bongbongmarcos our economy<br>would not have failed if every province<br>had an agricultural system like ilocos,<br>especially that my parents were both<br>farmers. remember that the philippines<br>was the biggest exporter during the time<br>of marcos because of masagana 99 and of<br>other things for agriculture.\",\"Topic9: 1.0\"],[\"9\",\"your dilawan has already lost. the<br>filipinos have been awakened. during the<br>time of marcos, the philippines had<br>almost the same economic level as that<br>of japan. our military weaponry was also<br>strong. we were considered as the tiger<br>of asia before, and we were the number 1<br>exporter of rice in asia as well as a<br>factory or producer of sugarcane.\",\"Topic9: 1.0\"],[\"9\",\"#marcosjr2022 the five-peso coin was<br>still valuable back then. goods were<br>cheap back then, but now even<br>electricity on its own is already<br>expensive. before, electricity and water<br>were almost free in the time of marcos.<br>we even had free rice and groceries from<br>the company. when corykong came into<br>power everything went up\",\"Topic9: 1.0\"],[\"9\",\"25. during marcos' time he founded the<br>group \\\"kadiwa\\\" which helped and gave<br>free food to the poor which was why no<br>filipino went hungry during his time.\",\"Topic9: 0.99\"],[\"9\",\"@gmanews fake history  during the time<br>of marcos you could ask for salt,<br>coffee, rice and canned goods, polvoron,<br>milk for the children.. it is much ok<br>with marcos https://t.co/997dmrjl6f\",\"Topic9: 0.99\"],[\"9\",\"true that, back in marcos' time, the<br>people never failed to eat tree times a<br>day  galunggong (mackerel) went from<br>being the food of the poor to the food<br>of the rich, that is the hallmark of<br>cory aquino's administration!\",\"Topic9: 0.99\"],[\"9\",\"what about us who had a good life during<br>the time of marcos where ayuda (social<br>amelioration) was given even if there<br>was no pandemic, almost every week and<br>we were able to ask for fish from the<br>palengke (market) #bbmismypresident2022\",\"Topic9: 0.99\"],[\"9\",\"@azzirk_eyak @alterbacoor<br>@krisaquinoworld since marcos regime we<br>were 2nd across the globe next to japan,<br>do not get me started with coconut<br>products, 101 products were contributed<br>by the philippines to the world. 1<br>dollar is equivalent to 1 peso. that was<br>how great the philippines was during the<br>time of marcos, of course promoted by<br>grandpa,\",\"Topic9: 1.0\"],[\"9\",\"@gentrisenyo @rexinyeta why do you keep<br>on buying ham when cheese is already<br>more than enough. ambisyosa pa. emeeee<br>but seriously, it is quite unfortunate<br>that this is now the only purchasing<br>power of our money. i really liked the<br>time of ferdinand edralin marcos when<br>prices were low and nutribun was given<br>for free hahahaha charrr\",\"Topic9: 1.0\"],[\"9\",\"during marcos' time he founded the group<br>\\\"kadiwa\\\" which helped and gave free food<br>to the poor which was why no filipino<br>went hungry during his time.<br>#bringbackmarcos\",\"Topic9: 0.99\"],[\"9\",\"25. during marcos' time he founded the<br>group \\\"kadiwa\\\" which helped and gave<br>free food to the poor which was why no<br>filipino went hungry during his time.\",\"Topic9: 0.99\"],[\"9\",\"because during the time of president<br>marcos, food was in abundance for<br>filipinos that were given by the marcos<br>administration. during the time of cory,<br>the live of filipinos became harder<br>because she had government resources<br>sold. because of hunger, the filipinos<br>learned to eat isaw (chicken intestine)\",\"Topic9: 1.0\"],[\"9\",\"correct... those projects that could<br>have solved the shortage of agri<br>products, masagana99 and to help our<br>farmers to sell their products, where<br>there was no selfish middleman, straight<br>to kadiwa to sell their products.\",\"Topic9: 0.99\"],[\"9\",\"who had the chance to taste this? during<br>elementary days .. these were so good<br>grabe .. how i wish i had the<br>opportunity to witness this scene  the<br>things that they gave the filipinos were<br>good, but we reciprocated them with<br>sorrow  that is why we will come back<br>with bbm!  (ctto)<br>https://t.co/waulxirpqa\",\"Topic9: 0.99\"],[\"9\",\"i went through a phase where egg pie was<br>still cheap and that's what i ate when i<br>was depressed. that was marcos' time..<br>hay. it was so cheap. charot.\",\"Topic9: 0.99\"]],\"hovertemplate\":\"<b>%{hovertext}</b><br><br>Breakdown=%{customdata[2]}<extra></extra>\",\"hovertext\":[\"@silverrage1 @bongbongmarcos our economy<br>would not have failed if every province<br>had an agricultural system like ilocos,<br>especially that my parents were both<br>farmers. remember that the philippines<br>was the biggest exporter during the time<br>of marcos because of masagana 99 and of<br>other things for agriculture.\",\"your dilawan has already lost. the<br>filipinos have been awakened. during the<br>time of marcos, the philippines had<br>almost the same economic level as that<br>of japan. our military weaponry was also<br>strong. we were considered as the tiger<br>of asia before, and we were the number 1<br>exporter of rice in asia as well as a<br>factory or producer of sugarcane.\",\"#marcosjr2022 the five-peso coin was<br>still valuable back then. goods were<br>cheap back then, but now even<br>electricity on its own is already<br>expensive. before, electricity and water<br>were almost free in the time of marcos.<br>we even had free rice and groceries from<br>the company. when corykong came into<br>power everything went up\",\"25. during marcos' time he founded the<br>group \\\"kadiwa\\\" which helped and gave<br>free food to the poor which was why no<br>filipino went hungry during his time.\",\"@gmanews fake history  during the time<br>of marcos you could ask for salt,<br>coffee, rice and canned goods, polvoron,<br>milk for the children.. it is much ok<br>with marcos https://t.co/997dmrjl6f\",\"true that, back in marcos' time, the<br>people never failed to eat tree times a<br>day  galunggong (mackerel) went from<br>being the food of the poor to the food<br>of the rich, that is the hallmark of<br>cory aquino's administration!\",\"what about us who had a good life during<br>the time of marcos where ayuda (social<br>amelioration) was given even if there<br>was no pandemic, almost every week and<br>we were able to ask for fish from the<br>palengke (market) #bbmismypresident2022\",\"@azzirk_eyak @alterbacoor<br>@krisaquinoworld since marcos regime we<br>were 2nd across the globe next to japan,<br>do not get me started with coconut<br>products, 101 products were contributed<br>by the philippines to the world. 1<br>dollar is equivalent to 1 peso. that was<br>how great the philippines was during the<br>time of marcos, of course promoted by<br>grandpa,\",\"@gentrisenyo @rexinyeta why do you keep<br>on buying ham when cheese is already<br>more than enough. ambisyosa pa. emeeee<br>but seriously, it is quite unfortunate<br>that this is now the only purchasing<br>power of our money. i really liked the<br>time of ferdinand edralin marcos when<br>prices were low and nutribun was given<br>for free hahahaha charrr\",\"during marcos' time he founded the group<br>\\\"kadiwa\\\" which helped and gave free food<br>to the poor which was why no filipino<br>went hungry during his time.<br>#bringbackmarcos\",\"25. during marcos' time he founded the<br>group \\\"kadiwa\\\" which helped and gave<br>free food to the poor which was why no<br>filipino went hungry during his time.\",\"because during the time of president<br>marcos, food was in abundance for<br>filipinos that were given by the marcos<br>administration. during the time of cory,<br>the live of filipinos became harder<br>because she had government resources<br>sold. because of hunger, the filipinos<br>learned to eat isaw (chicken intestine)\",\"correct... those projects that could<br>have solved the shortage of agri<br>products, masagana99 and to help our<br>farmers to sell their products, where<br>there was no selfish middleman, straight<br>to kadiwa to sell their products.\",\"who had the chance to taste this? during<br>elementary days .. these were so good<br>grabe .. how i wish i had the<br>opportunity to witness this scene  the<br>things that they gave the filipinos were<br>good, but we reciprocated them with<br>sorrow  that is why we will come back<br>with bbm!  (ctto)<br>https://t.co/waulxirpqa\",\"i went through a phase where egg pie was<br>still cheap and that's what i ate when i<br>was depressed. that was marcos' time..<br>hay. it was so cheap. charot.\"],\"legendgroup\":\"9\",\"marker\":{\"color\":\"#FF97FF\",\"symbol\":\"circle\"},\"mode\":\"markers\",\"name\":\"9\",\"orientation\":\"v\",\"showlegend\":true,\"x\":[178.1009979248047,114.88903045654297,174.4077606201172,145.6640167236328,145.6640167236328,145.6640167236328,145.0687713623047,178.1009979248047,178.1009979248047,144.5399627685547,144.5399627685547,174.3666229248047,115.792724609375,145.6640167236328,144.5399627685547],\"xaxis\":\"x\",\"y\":[195.13308715820312,217.587158203125,163.02999877929688,208.5560760498047,208.5560760498047,208.5560760498047,240.19808959960938,195.13308715820312,195.13308715820312,173.62161254882812,173.62161254882812,227.65455627441406,187.94955444335938,208.5560760498047,173.62161254882812],\"yaxis\":\"y\",\"type\":\"scatter\"},{\"customdata\":[[\"10\",\"pfem showing us president lyndon johnson<br>why philippines is top rice producing<br>country in asia, circa 1966. the rice<br>program of the country leveled up in<br>1973 under masagana 99. that is the kind<br>of leadership.. bbm-sara are poised to<br>bring back greatness! #bagongpilipinas \\u2764<br>https://t.co/idikunhmnj\",\"Topic10: 1.0\"],[\"10\",\"nobody at the present. former president<br>marcos dealt with hunger concerns in his<br>time. bulgur, sinugno, klim, wheat and<br>nutribuns were a thing during his time.<br>he also made agriculture prosper,<br>resulting in abundance in crops and its<br>cheapness.\",\"Topic10: 1.0\"],[\"10\",\"for her birthday, sen. imee offers these<br>nutribuns for the children and<br>vegetables for the residents.  the<br>nutribun is a well-known bread that was<br>distributed during the time of former<br>president ferdinand e. marcos sr. as<br>part of the nutrition program for the<br>youth. https://t.co/kvvivy4ajp\",\"Topic10: 1.0\"],[\"10\",\"eschuzme! @dawende, nobody went hungry<br>during marcos' time since the exchange<br>between usd to php back then was<br>$1:2php, my dad said the philippines<br>only experienced your so called poverty<br>when you believed in the widow of your<br>fake hero, poverty was not a trend back<br>in macoy's story\",\"Topic10: 1.0\"],[\"10\",\"these shameless monkeys how can they say<br>that the marcos family were thieves. i<br>was able to reach the time of marcos, i<br>am 48 right now. to be honest nobody<br>went hungry only in the time of marcos.<br>these monkeys should also do their<br>research\",\"Topic10: 0.99\"],[\"10\",\"notorious? whoever said it is a<br>nincompoop. nutribun is the most<br>successful feeding program launched by<br>the marcos administration for millions<br>of children. it is far better than<br>leni's lugaw which is devoid of<br>nutrition.\",\"Topic10: 0.99\"],[\"10\",\"for the birthday, sen. imee provided<br>nutribuns for the children and<br>vegetables for the residents.  the<br>nutribun is a well-known bread that was<br>given away back in the time of former<br>president ferdinand e. marcos sr. as a<br>part of the nutribun program for the<br>children.\",\"Topic10: 1.0\"],[\"10\",\"i did. i am a batang '70. marcos made a<br>difference in the philippines. we were<br>leading in southeast asia back then as<br>an exporter of rice, sugar among others.<br>a lot of freebies were given like<br>nutribun at schools, skim milk, corn<br>flakes for all families. there were<br>plenty of activities and projects in<br>barangays.\",\"Topic10: 1.0\"],[\"10\",\"pfem with him, us president lyndon<br>johnson and company. during his<br>presidency, philippines is top rice<br>producing country in asia, circa 1966. a<br>rice program  until 1973 under masagana<br>99. i wish bbm-sara will do the same<br>leadership as his father does.<br>https://t.co/phozo2tdxp\",\"Topic10: 1.0\"],[\"10\",\"nobody went hungry and the children who<br>were in school were healthy because<br>every month there was free nutribun,<br>milk, and free checkups to your dental<br>health. the surroundings were clean with<br>marcos while with aquino, the police<br>were corrupt, many went hungry, there<br>was a lot of trash. goods were<br>expensive, electricity and water were<br>expensive\",\"Topic10: 1.0\"],[\"10\",\"@freechc  during the time of president<br>marcos, no one went hungry, because<br>there was a feeding program in every<br>corner of the philippines.<br>#forevermarcoskami  #prrdamangbayan\",\"Topic10: 0.99\"]],\"hovertemplate\":\"<b>%{hovertext}</b><br><br>Breakdown=%{customdata[2]}<extra></extra>\",\"hovertext\":[\"pfem showing us president lyndon johnson<br>why philippines is top rice producing<br>country in asia, circa 1966. the rice<br>program of the country leveled up in<br>1973 under masagana 99. that is the kind<br>of leadership.. bbm-sara are poised to<br>bring back greatness! #bagongpilipinas \\u2764<br>https://t.co/idikunhmnj\",\"nobody at the present. former president<br>marcos dealt with hunger concerns in his<br>time. bulgur, sinugno, klim, wheat and<br>nutribuns were a thing during his time.<br>he also made agriculture prosper,<br>resulting in abundance in crops and its<br>cheapness.\",\"for her birthday, sen. imee offers these<br>nutribuns for the children and<br>vegetables for the residents.  the<br>nutribun is a well-known bread that was<br>distributed during the time of former<br>president ferdinand e. marcos sr. as<br>part of the nutrition program for the<br>youth. https://t.co/kvvivy4ajp\",\"eschuzme! @dawende, nobody went hungry<br>during marcos' time since the exchange<br>between usd to php back then was<br>$1:2php, my dad said the philippines<br>only experienced your so called poverty<br>when you believed in the widow of your<br>fake hero, poverty was not a trend back<br>in macoy's story\",\"these shameless monkeys how can they say<br>that the marcos family were thieves. i<br>was able to reach the time of marcos, i<br>am 48 right now. to be honest nobody<br>went hungry only in the time of marcos.<br>these monkeys should also do their<br>research\",\"notorious? whoever said it is a<br>nincompoop. nutribun is the most<br>successful feeding program launched by<br>the marcos administration for millions<br>of children. it is far better than<br>leni's lugaw which is devoid of<br>nutrition.\",\"for the birthday, sen. imee provided<br>nutribuns for the children and<br>vegetables for the residents.  the<br>nutribun is a well-known bread that was<br>given away back in the time of former<br>president ferdinand e. marcos sr. as a<br>part of the nutribun program for the<br>children.\",\"i did. i am a batang '70. marcos made a<br>difference in the philippines. we were<br>leading in southeast asia back then as<br>an exporter of rice, sugar among others.<br>a lot of freebies were given like<br>nutribun at schools, skim milk, corn<br>flakes for all families. there were<br>plenty of activities and projects in<br>barangays.\",\"pfem with him, us president lyndon<br>johnson and company. during his<br>presidency, philippines is top rice<br>producing country in asia, circa 1966. a<br>rice program  until 1973 under masagana<br>99. i wish bbm-sara will do the same<br>leadership as his father does.<br>https://t.co/phozo2tdxp\",\"nobody went hungry and the children who<br>were in school were healthy because<br>every month there was free nutribun,<br>milk, and free checkups to your dental<br>health. the surroundings were clean with<br>marcos while with aquino, the police<br>were corrupt, many went hungry, there<br>was a lot of trash. goods were<br>expensive, electricity and water were<br>expensive\",\"@freechc  during the time of president<br>marcos, no one went hungry, because<br>there was a feeding program in every<br>corner of the philippines.<br>#forevermarcoskami  #prrdamangbayan\"],\"legendgroup\":\"10\",\"marker\":{\"color\":\"#FECB52\",\"symbol\":\"circle\"},\"mode\":\"markers\",\"name\":\"10\",\"orientation\":\"v\",\"showlegend\":true,\"x\":[11.308452606201172,-16.344070434570312,11.308452606201172,11.308452606201172,28.643665313720703,28.643665313720703,-16.344070434570312,11.308452606201172,11.308452606201172,11.308452606201172,2.7746400833129883],\"xaxis\":\"x\",\"y\":[-247.62986755371094,-228.5833740234375,-247.62986755371094,-247.62986755371094,-218.92724609375,-218.92724609375,-228.5833740234375,-247.62986755371094,-247.62986755371094,-247.62986755371094,-207.80162048339844],\"yaxis\":\"y\",\"type\":\"scatter\"},{\"customdata\":[[\"11\",\"during the time of marcos, he had a<br>group called \\\"kadiwa\\\" that helped and<br>gave free food to poor people so no<br>filipino was hungry during his time.<br>#bringbackmarcos\",\"Topic11: 0.99\"],[\"11\",\"if there were a time machine that would<br>take you to meet some famous person of<br>antiquity, who would you like to talk<br>to? \\u2014 marcos, so i can feel how cheap<br>food, clothes, etc. are.<br>https://curiouscat.me/iamkylen/post/801637276?t=1551357654\",\"Topic11: 0.99\"],[\"11\",\"all the children used to have a free<br>nutribun every day because marcos wanted<br>no hunger  in those days, there was a<br>call for the green revolution where<br>every house should grow their own<br>vegetables for the country's agriculture<br>and avoid hunger, not relying on other<br>products.\",\"Topic11: 1.0\"],[\"11\",\"dad: during the time of marcos, hunger<br>was rare. the students back then, even<br>if they had no money, were full in the<br>recess. many things have been done that<br>have been beneficial even until now. the<br>things that duterte is doing will<br>benefit the next generations. me: \\ud83d\\ude0a\\ud83d\\udc4a\\ud83d\\udc4a\\ud83d\\udc4a\",\"Topic11: 0.99\"],[\"11\",\"during the time of marcos .... rice and<br>galunggong (mackerel) were free ...!!!<br>during the time of the greedy mother and<br>son .... rice was replaced with bullets<br>....!!!\",\"Topic11: 0.99\"],[\"11\",\"nutribun, was bread that was sold<br>cheaply to students, this was marcos'<br>program back then, it was cheap and made<br>you not hungry for a long time<br>#pilipinasdebates2016\",\"Topic11: 0.99\"],[\"11\",\"even though my parents were poor they<br>were having a good life under marcos<br>regime because everything was cheap\",\"Topic11: 0.72<br>Topic3: 0.27\"],[\"11\",\"@datumx11 fyi there was no person hungry<br>during pres marcos because everything<br>you could buy was cheap. when your idol<br>cory was on the seat people had a more<br>difficult time everything became<br>expensive hence why that time is called<br>the \\\"dark ages\\\"!!\",\"Topic11: 1.0\"],[\"11\",\"25. during the time of marcos, he had a<br>group called \\\"kadiwa\\\" that helped and<br>gave free food to poor people so no<br>filipino was hungry during his time.\",\"Topic11: 0.99\"],[\"11\",\"during marcos everything was cheap!<br>#ninoyisnotahero there was also free<br>recess for kids at school!\",\"Topic11: 0.99\"],[\"11\",\"it was nice during the time of marcos,<br>it was quiet and there was plenty of<br>food\",\"Topic11: 0.98\"],[\"11\",\"during marcos' time he had a group<br>called \\\"kadiwa\\\" that helped and gave<br>free food to poor people so no filipinos<br>were hungry during his time.\",\"Topic11: 0.99\"],[\"11\",\"why was there free soup and nutribun<br>during the time of marcos, which all<br>disappeared after his regime\",\"Topic11: 0.73<br>Topic5: 0.25\"],[\"11\",\"and fti complex.. once a brainchild of<br>marcos, the visionary forward looking<br>president.. if properly maximized and<br>had not been sold by bsabnoy to the<br>ayala's, metro could have an ample<br>supply of foods to stabilize rocketing<br>prices.. @pinoyanghang   @dutertenomics<br>@delegazpiylopez\",\"Topic11: 1.0\"]],\"hovertemplate\":\"<b>%{hovertext}</b><br><br>Breakdown=%{customdata[2]}<extra></extra>\",\"hovertext\":[\"during the time of marcos, he had a<br>group called \\\"kadiwa\\\" that helped and<br>gave free food to poor people so no<br>filipino was hungry during his time.<br>#bringbackmarcos\",\"if there were a time machine that would<br>take you to meet some famous person of<br>antiquity, who would you like to talk<br>to? \\u2014 marcos, so i can feel how cheap<br>food, clothes, etc. are.<br>https://curiouscat.me/iamkylen/post/801637276?t=1551357654\",\"all the children used to have a free<br>nutribun every day because marcos wanted<br>no hunger  in those days, there was a<br>call for the green revolution where<br>every house should grow their own<br>vegetables for the country's agriculture<br>and avoid hunger, not relying on other<br>products.\",\"dad: during the time of marcos, hunger<br>was rare. the students back then, even<br>if they had no money, were full in the<br>recess. many things have been done that<br>have been beneficial even until now. the<br>things that duterte is doing will<br>benefit the next generations. me: \\ud83d\\ude0a\\ud83d\\udc4a\\ud83d\\udc4a\\ud83d\\udc4a\",\"during the time of marcos .... rice and<br>galunggong (mackerel) were free ...!!!<br>during the time of the greedy mother and<br>son .... rice was replaced with bullets<br>....!!!\",\"nutribun, was bread that was sold<br>cheaply to students, this was marcos'<br>program back then, it was cheap and made<br>you not hungry for a long time<br>#pilipinasdebates2016\",\"even though my parents were poor they<br>were having a good life under marcos<br>regime because everything was cheap\",\"@datumx11 fyi there was no person hungry<br>during pres marcos because everything<br>you could buy was cheap. when your idol<br>cory was on the seat people had a more<br>difficult time everything became<br>expensive hence why that time is called<br>the \\\"dark ages\\\"!!\",\"25. during the time of marcos, he had a<br>group called \\\"kadiwa\\\" that helped and<br>gave free food to poor people so no<br>filipino was hungry during his time.\",\"during marcos everything was cheap!<br>#ninoyisnotahero there was also free<br>recess for kids at school!\",\"it was nice during the time of marcos,<br>it was quiet and there was plenty of<br>food\",\"during marcos' time he had a group<br>called \\\"kadiwa\\\" that helped and gave<br>free food to poor people so no filipinos<br>were hungry during his time.\",\"why was there free soup and nutribun<br>during the time of marcos, which all<br>disappeared after his regime\",\"and fti complex.. once a brainchild of<br>marcos, the visionary forward looking<br>president.. if properly maximized and<br>had not been sold by bsabnoy to the<br>ayala's, metro could have an ample<br>supply of foods to stabilize rocketing<br>prices.. @pinoyanghang   @dutertenomics<br>@delegazpiylopez\"],\"legendgroup\":\"11\",\"marker\":{\"color\":\"#636efa\",\"symbol\":\"circle\"},\"mode\":\"markers\",\"name\":\"11\",\"orientation\":\"v\",\"showlegend\":true,\"x\":[-165.22433471679688,-139.4766082763672,-153.25299072265625,-164.37567138671875,-139.4766082763672,-139.4766082763672,-123.89067840576172,-141.8337860107422,-171.92666625976562,-139.4766082763672,-125.05782318115234,-187.63427734375,-106.62394714355469,-114.00450134277344],\"xaxis\":\"x\",\"y\":[29.485414505004883,-10.439315795898438,-40.563480377197266,4.729220390319824,-10.439315795898438,-10.439315795898438,36.626365661621094,19.730751037597656,-22.410930633544922,-10.439315795898438,-39.578697204589844,0.13887691497802734,-17.90091323852539,9.473934173583984],\"yaxis\":\"y\",\"type\":\"scatter\"},{\"customdata\":[[\"12\",\"hehehe, they say it was nice back during<br>the time of marcos. there was no<br>poverty, and all food was tasty.\",\"Topic12: 0.99\"],[\"12\",\"president bong bong marcos jr. and his<br>father fpfem shared the same sentiments<br>and focus on food security to prevent<br>hunger. i still remember the then-former<br>rice and corn administration (rca) being<br>the concentration of staple food in the<br>country. https://t.co/kgvux3edbo\",\"Topic12: 1.0\"],[\"12\",\"when marcos was president, other<br>countries looked up to us. during the<br>time of marcos, all children in the<br>philippines, whether rich or poor, had a<br>decent education. plus, during the time<br>of marcos, no filipino became hungry due<br>to poverty, no one was malnourished<br>during his time +\",\"Topic12: 1.0\"],[\"12\",\"during the time of marcos, we do not<br>notice the gg (mackerel) haha it was<br>just given away in the stock (pondohan).<br>but since cory became president, it<br>became the national fish .. then it<br>became expensive  #bbmismypresident2022<br>https://twitter.com/korekkajohn/status/1501394107859873794\",\"Topic12: 0.99\"],[\"12\",\"when i was an elementary student in the<br>time of marcos items and uniform weren't<br>free, food was free. what are you going<br>to do with a uniform if you don't have<br>food... you could even go to school with<br>slippers back then, this is why during<br>our time people who went absent were<br>rare because of the deliciousness of<br>nutribun and miswa....\",\"Topic12: 1.0\"],[\"12\",\"when i was kid no one get starving<br>because president marcos and family to<br>the rescue even we don't ask for  it but<br>his concerned to every pilipino is very<br>rare as president.  #bbmsigawngbayan\",\"Topic12: 0.99\"],[\"12\",\"\\ud83d\\udc49history that this generation should<br>know and be reminded:\\ud83e\\udd14  the #masagana99<br>was launched during the time of<br>ferdinand marcos,it spurred the growth<br>of rice production to help our<br>citizens,philippines that day became an<br>exporter of rice. now think?\\ud83e\\udd14<br>#tbthursday\",\"Topic12: 1.0\"],[\"12\",\"i agree... i always heard that from my<br>grandmother, \\\"life during marcos' time<br>was strict but nobody went hungry, even<br>the poor were able to buy food to eat\\\".\",\"Topic12: 0.99\"],[\"12\",\"and that was when i realized that the<br>marcos family were good people, even my<br>grandmothers and grandfathers who went<br>through martial law, they say that<br>during marcos' time they did not go<br>hungry because they were provided food<br>when they reached school, you were<br>always safe because there weren't any<br>rapists. and many more reasons.\",\"Topic12: 1.0\"],[\"12\",\"yah! are you idiots?! say that the<br>filipinos suffered because of ferdinand<br>marcos! gago kayo. because of marcos<br>before, the farmers had high pay. nobody<br>suffered poverty during the time of<br>marcos. milk was also free back then.<br>all your info is false girl.\",\"Topic12: 1.0\"]],\"hovertemplate\":\"<b>%{hovertext}</b><br><br>Breakdown=%{customdata[2]}<extra></extra>\",\"hovertext\":[\"hehehe, they say it was nice back during<br>the time of marcos. there was no<br>poverty, and all food was tasty.\",\"president bong bong marcos jr. and his<br>father fpfem shared the same sentiments<br>and focus on food security to prevent<br>hunger. i still remember the then-former<br>rice and corn administration (rca) being<br>the concentration of staple food in the<br>country. https://t.co/kgvux3edbo\",\"when marcos was president, other<br>countries looked up to us. during the<br>time of marcos, all children in the<br>philippines, whether rich or poor, had a<br>decent education. plus, during the time<br>of marcos, no filipino became hungry due<br>to poverty, no one was malnourished<br>during his time +\",\"during the time of marcos, we do not<br>notice the gg (mackerel) haha it was<br>just given away in the stock (pondohan).<br>but since cory became president, it<br>became the national fish .. then it<br>became expensive  #bbmismypresident2022<br>https://twitter.com/korekkajohn/status/1501394107859873794\",\"when i was an elementary student in the<br>time of marcos items and uniform weren't<br>free, food was free. what are you going<br>to do with a uniform if you don't have<br>food... you could even go to school with<br>slippers back then, this is why during<br>our time people who went absent were<br>rare because of the deliciousness of<br>nutribun and miswa....\",\"when i was kid no one get starving<br>because president marcos and family to<br>the rescue even we don't ask for  it but<br>his concerned to every pilipino is very<br>rare as president.  #bbmsigawngbayan\",\"\\ud83d\\udc49history that this generation should<br>know and be reminded:\\ud83e\\udd14  the #masagana99<br>was launched during the time of<br>ferdinand marcos,it spurred the growth<br>of rice production to help our<br>citizens,philippines that day became an<br>exporter of rice. now think?\\ud83e\\udd14<br>#tbthursday\",\"i agree... i always heard that from my<br>grandmother, \\\"life during marcos' time<br>was strict but nobody went hungry, even<br>the poor were able to buy food to eat\\\".\",\"and that was when i realized that the<br>marcos family were good people, even my<br>grandmothers and grandfathers who went<br>through martial law, they say that<br>during marcos' time they did not go<br>hungry because they were provided food<br>when they reached school, you were<br>always safe because there weren't any<br>rapists. and many more reasons.\",\"yah! are you idiots?! say that the<br>filipinos suffered because of ferdinand<br>marcos! gago kayo. because of marcos<br>before, the farmers had high pay. nobody<br>suffered poverty during the time of<br>marcos. milk was also free back then.<br>all your info is false girl.\"],\"legendgroup\":\"12\",\"marker\":{\"color\":\"#EF553B\",\"symbol\":\"circle\"},\"mode\":\"markers\",\"name\":\"12\",\"orientation\":\"v\",\"showlegend\":true,\"x\":[-230.4674835205078,-239.79432678222656,-239.79432678222656,-201.27069091796875,-207.9734649658203,-230.4674835205078,-239.79432678222656,-230.4674835205078,-239.79432678222656,-207.9734649658203],\"xaxis\":\"x\",\"y\":[-143.4066925048828,-112.6521224975586,-112.6521224975586,-140.1870880126953,-112.89781951904297,-143.4066925048828,-112.6521224975586,-143.4066925048828,-112.6521224975586,-112.89781951904297],\"yaxis\":\"y\",\"type\":\"scatter\"},{\"customdata\":[[\"13\",\"the philippines slowly became poorer ,..<br>my mother also told me when she was<br>young she always waited for a helicopter<br>during the time of marcos. do you know<br>why? it's because the helicopters always<br>brought packs of food from the marcos<br>family which is why it's not\",\"Topic13: 0.99\"],[\"13\",\"so pitiful for the poor who are starving<br>because they can't get loans without<br>marcos style projects\",\"Topic13: 0.99\"],[\"13\",\"i paid 2400 for my philhealth, during<br>the time of marcos medicine and tooth-<br>pulling were free, snacks and school<br>lunch were free #bbmparin\",\"Topic13: 0.99\"],[\"13\",\"@johnmar18655220 and @gilcaliwliw that's<br>fake news, there was no hunger during<br>the marcos era, there was a lot of<br>money, the goods were cheap, the<br>medicines were free, the price of rice<br>was only three pesos, and the bus fare<br>was five cents, there were no thieves<br>and addicts, when the aquinos took over,<br>drugs increased and without duterte,<br>philippines would be a narco country.\",\"Topic13: 1.0\"],[\"13\",\"this was the experience of my cousin<br>during the early 70s. the rice shortage<br>was caused by consecutive typhons and it<br>was not because of mismanagement, as<br>asserted by the pinklawan. the masagana<br>99 was born after that (although there<br>was already irri at that time). ilocano<br>solutions. https://t.co/og8kahzypz\",\"Topic13: 1.0\"],[\"13\",\"you're right - food, electricity, water<br>and fuel were cheap back then. the rich<br>used to be disciplined and kind. after<br>marcos, we became arrogant and we paid<br>the price. we are still paying the<br>price. they got richer while we became<br>poorer. but, do30 is here to fix them<br>all.\",\"Topic13: 1.0\"],[\"13\",\"throwback. fpmarcos sr. priorities \\u2714<br>food security &amp; industrialization  \\u2714<br>fishers &amp; farmers folks   remember<br>his  \\u2714 kadiwa \\u2714masagana99  \\u2714 blessing of<br>the sea \\u2714national     grains authority<br>\\u2714 operation       land transfer<br>marcos brand \\u270c          ctto<br>https://t.co/qbu4jvpkid\",\"Topic13: 1.0\"],[\"13\",\"i just remembered. i'm from quezon. the<br>feast of san isidro labradord during the<br>time of marcos.  my parents would ask<br>for suman, one sack of malagkit to give<br>away to those who attended the fiesta.<br>tangina! enter cory, the galunggong<br>(mackerel) became food for the rich.<br>tangina, bbm for life!\",\"Topic13: 1.0\"],[\"13\",\"former president marcos had a real sense<br>of urgency: addressed food shortages<br>(i.e. masagana 99) quelled the<br>communists before they sprouted (i.e.<br>m/v karagatan, alsa masa); our kig in<br>'78.  the opposition are just complacent<br>and short-sighted.\",\"Topic13: 1.0\"],[\"13\",\"what's happening to the philippines<br>right now is painful, during the time of<br>marcos nfa rice was free and goods were<br>cheap ..wow\",\"Topic13: 0.99\"]],\"hovertemplate\":\"<b>%{hovertext}</b><br><br>Breakdown=%{customdata[2]}<extra></extra>\",\"hovertext\":[\"the philippines slowly became poorer ,..<br>my mother also told me when she was<br>young she always waited for a helicopter<br>during the time of marcos. do you know<br>why? it's because the helicopters always<br>brought packs of food from the marcos<br>family which is why it's not\",\"so pitiful for the poor who are starving<br>because they can't get loans without<br>marcos style projects\",\"i paid 2400 for my philhealth, during<br>the time of marcos medicine and tooth-<br>pulling were free, snacks and school<br>lunch were free #bbmparin\",\"@johnmar18655220 and @gilcaliwliw that's<br>fake news, there was no hunger during<br>the marcos era, there was a lot of<br>money, the goods were cheap, the<br>medicines were free, the price of rice<br>was only three pesos, and the bus fare<br>was five cents, there were no thieves<br>and addicts, when the aquinos took over,<br>drugs increased and without duterte,<br>philippines would be a narco country.\",\"this was the experience of my cousin<br>during the early 70s. the rice shortage<br>was caused by consecutive typhons and it<br>was not because of mismanagement, as<br>asserted by the pinklawan. the masagana<br>99 was born after that (although there<br>was already irri at that time). ilocano<br>solutions. https://t.co/og8kahzypz\",\"you're right - food, electricity, water<br>and fuel were cheap back then. the rich<br>used to be disciplined and kind. after<br>marcos, we became arrogant and we paid<br>the price. we are still paying the<br>price. they got richer while we became<br>poorer. but, do30 is here to fix them<br>all.\",\"throwback. fpmarcos sr. priorities \\u2714<br>food security &amp; industrialization  \\u2714<br>fishers &amp; farmers folks   remember<br>his  \\u2714 kadiwa \\u2714masagana99  \\u2714 blessing of<br>the sea \\u2714national     grains authority<br>\\u2714 operation       land transfer<br>marcos brand \\u270c          ctto<br>https://t.co/qbu4jvpkid\",\"i just remembered. i'm from quezon. the<br>feast of san isidro labradord during the<br>time of marcos.  my parents would ask<br>for suman, one sack of malagkit to give<br>away to those who attended the fiesta.<br>tangina! enter cory, the galunggong<br>(mackerel) became food for the rich.<br>tangina, bbm for life!\",\"former president marcos had a real sense<br>of urgency: addressed food shortages<br>(i.e. masagana 99) quelled the<br>communists before they sprouted (i.e.<br>m/v karagatan, alsa masa); our kig in<br>'78.  the opposition are just complacent<br>and short-sighted.\",\"what's happening to the philippines<br>right now is painful, during the time of<br>marcos nfa rice was free and goods were<br>cheap ..wow\"],\"legendgroup\":\"13\",\"marker\":{\"color\":\"#00cc96\",\"symbol\":\"circle\"},\"mode\":\"markers\",\"name\":\"13\",\"orientation\":\"v\",\"showlegend\":true,\"x\":[-116.67001342773438,-100.72771453857422,-100.72771453857422,-59.268863677978516,-87.46859741210938,-70.9223861694336,-87.46859741210938,-70.9223861694336,-87.46859741210938,-100.72771453857422],\"xaxis\":\"x\",\"y\":[-151.52053833007812,-124.994873046875,-124.994873046875,-149.00839233398438,-155.1007843017578,-123.65501403808594,-155.1007843017578,-123.65501403808594,-155.1007843017578,-124.994873046875],\"yaxis\":\"y\",\"type\":\"scatter\"}],                        {\"template\":{\"data\":{\"histogram2dcontour\":[{\"type\":\"histogram2dcontour\",\"colorbar\":{\"outlinewidth\":0,\"ticks\":\"\"},\"colorscale\":[[0.0,\"#0d0887\"],[0.1111111111111111,\"#46039f\"],[0.2222222222222222,\"#7201a8\"],[0.3333333333333333,\"#9c179e\"],[0.4444444444444444,\"#bd3786\"],[0.5555555555555556,\"#d8576b\"],[0.6666666666666666,\"#ed7953\"],[0.7777777777777778,\"#fb9f3a\"],[0.8888888888888888,\"#fdca26\"],[1.0,\"#f0f921\"]]}],\"choropleth\":[{\"type\":\"choropleth\",\"colorbar\":{\"outlinewidth\":0,\"ticks\":\"\"}}],\"histogram2d\":[{\"type\":\"histogram2d\",\"colorbar\":{\"outlinewidth\":0,\"ticks\":\"\"},\"colorscale\":[[0.0,\"#0d0887\"],[0.1111111111111111,\"#46039f\"],[0.2222222222222222,\"#7201a8\"],[0.3333333333333333,\"#9c179e\"],[0.4444444444444444,\"#bd3786\"],[0.5555555555555556,\"#d8576b\"],[0.6666666666666666,\"#ed7953\"],[0.7777777777777778,\"#fb9f3a\"],[0.8888888888888888,\"#fdca26\"],[1.0,\"#f0f921\"]]}],\"heatmap\":[{\"type\":\"heatmap\",\"colorbar\":{\"outlinewidth\":0,\"ticks\":\"\"},\"colorscale\":[[0.0,\"#0d0887\"],[0.1111111111111111,\"#46039f\"],[0.2222222222222222,\"#7201a8\"],[0.3333333333333333,\"#9c179e\"],[0.4444444444444444,\"#bd3786\"],[0.5555555555555556,\"#d8576b\"],[0.6666666666666666,\"#ed7953\"],[0.7777777777777778,\"#fb9f3a\"],[0.8888888888888888,\"#fdca26\"],[1.0,\"#f0f921\"]]}],\"heatmapgl\":[{\"type\":\"heatmapgl\",\"colorbar\":{\"outlinewidth\":0,\"ticks\":\"\"},\"colorscale\":[[0.0,\"#0d0887\"],[0.1111111111111111,\"#46039f\"],[0.2222222222222222,\"#7201a8\"],[0.3333333333333333,\"#9c179e\"],[0.4444444444444444,\"#bd3786\"],[0.5555555555555556,\"#d8576b\"],[0.6666666666666666,\"#ed7953\"],[0.7777777777777778,\"#fb9f3a\"],[0.8888888888888888,\"#fdca26\"],[1.0,\"#f0f921\"]]}],\"contourcarpet\":[{\"type\":\"contourcarpet\",\"colorbar\":{\"outlinewidth\":0,\"ticks\":\"\"}}],\"contour\":[{\"type\":\"contour\",\"colorbar\":{\"outlinewidth\":0,\"ticks\":\"\"},\"colorscale\":[[0.0,\"#0d0887\"],[0.1111111111111111,\"#46039f\"],[0.2222222222222222,\"#7201a8\"],[0.3333333333333333,\"#9c179e\"],[0.4444444444444444,\"#bd3786\"],[0.5555555555555556,\"#d8576b\"],[0.6666666666666666,\"#ed7953\"],[0.7777777777777778,\"#fb9f3a\"],[0.8888888888888888,\"#fdca26\"],[1.0,\"#f0f921\"]]}],\"surface\":[{\"type\":\"surface\",\"colorbar\":{\"outlinewidth\":0,\"ticks\":\"\"},\"colorscale\":[[0.0,\"#0d0887\"],[0.1111111111111111,\"#46039f\"],[0.2222222222222222,\"#7201a8\"],[0.3333333333333333,\"#9c179e\"],[0.4444444444444444,\"#bd3786\"],[0.5555555555555556,\"#d8576b\"],[0.6666666666666666,\"#ed7953\"],[0.7777777777777778,\"#fb9f3a\"],[0.8888888888888888,\"#fdca26\"],[1.0,\"#f0f921\"]]}],\"mesh3d\":[{\"type\":\"mesh3d\",\"colorbar\":{\"outlinewidth\":0,\"ticks\":\"\"}}],\"scatter\":[{\"fillpattern\":{\"fillmode\":\"overlay\",\"size\":10,\"solidity\":0.2},\"type\":\"scatter\"}],\"parcoords\":[{\"type\":\"parcoords\",\"line\":{\"colorbar\":{\"outlinewidth\":0,\"ticks\":\"\"}}}],\"scatterpolargl\":[{\"type\":\"scatterpolargl\",\"marker\":{\"colorbar\":{\"outlinewidth\":0,\"ticks\":\"\"}}}],\"bar\":[{\"error_x\":{\"color\":\"#2a3f5f\"},\"error_y\":{\"color\":\"#2a3f5f\"},\"marker\":{\"line\":{\"color\":\"#E5ECF6\",\"width\":0.5},\"pattern\":{\"fillmode\":\"overlay\",\"size\":10,\"solidity\":0.2}},\"type\":\"bar\"}],\"scattergeo\":[{\"type\":\"scattergeo\",\"marker\":{\"colorbar\":{\"outlinewidth\":0,\"ticks\":\"\"}}}],\"scatterpolar\":[{\"type\":\"scatterpolar\",\"marker\":{\"colorbar\":{\"outlinewidth\":0,\"ticks\":\"\"}}}],\"histogram\":[{\"marker\":{\"pattern\":{\"fillmode\":\"overlay\",\"size\":10,\"solidity\":0.2}},\"type\":\"histogram\"}],\"scattergl\":[{\"type\":\"scattergl\",\"marker\":{\"colorbar\":{\"outlinewidth\":0,\"ticks\":\"\"}}}],\"scatter3d\":[{\"type\":\"scatter3d\",\"line\":{\"colorbar\":{\"outlinewidth\":0,\"ticks\":\"\"}},\"marker\":{\"colorbar\":{\"outlinewidth\":0,\"ticks\":\"\"}}}],\"scattermapbox\":[{\"type\":\"scattermapbox\",\"marker\":{\"colorbar\":{\"outlinewidth\":0,\"ticks\":\"\"}}}],\"scatterternary\":[{\"type\":\"scatterternary\",\"marker\":{\"colorbar\":{\"outlinewidth\":0,\"ticks\":\"\"}}}],\"scattercarpet\":[{\"type\":\"scattercarpet\",\"marker\":{\"colorbar\":{\"outlinewidth\":0,\"ticks\":\"\"}}}],\"carpet\":[{\"aaxis\":{\"endlinecolor\":\"#2a3f5f\",\"gridcolor\":\"white\",\"linecolor\":\"white\",\"minorgridcolor\":\"white\",\"startlinecolor\":\"#2a3f5f\"},\"baxis\":{\"endlinecolor\":\"#2a3f5f\",\"gridcolor\":\"white\",\"linecolor\":\"white\",\"minorgridcolor\":\"white\",\"startlinecolor\":\"#2a3f5f\"},\"type\":\"carpet\"}],\"table\":[{\"cells\":{\"fill\":{\"color\":\"#EBF0F8\"},\"line\":{\"color\":\"white\"}},\"header\":{\"fill\":{\"color\":\"#C8D4E3\"},\"line\":{\"color\":\"white\"}},\"type\":\"table\"}],\"barpolar\":[{\"marker\":{\"line\":{\"color\":\"#E5ECF6\",\"width\":0.5},\"pattern\":{\"fillmode\":\"overlay\",\"size\":10,\"solidity\":0.2}},\"type\":\"barpolar\"}],\"pie\":[{\"automargin\":true,\"type\":\"pie\"}]},\"layout\":{\"autotypenumbers\":\"strict\",\"colorway\":[\"#636efa\",\"#EF553B\",\"#00cc96\",\"#ab63fa\",\"#FFA15A\",\"#19d3f3\",\"#FF6692\",\"#B6E880\",\"#FF97FF\",\"#FECB52\"],\"font\":{\"color\":\"#2a3f5f\"},\"hovermode\":\"closest\",\"hoverlabel\":{\"align\":\"left\"},\"paper_bgcolor\":\"white\",\"plot_bgcolor\":\"#E5ECF6\",\"polar\":{\"bgcolor\":\"#E5ECF6\",\"angularaxis\":{\"gridcolor\":\"white\",\"linecolor\":\"white\",\"ticks\":\"\"},\"radialaxis\":{\"gridcolor\":\"white\",\"linecolor\":\"white\",\"ticks\":\"\"}},\"ternary\":{\"bgcolor\":\"#E5ECF6\",\"aaxis\":{\"gridcolor\":\"white\",\"linecolor\":\"white\",\"ticks\":\"\"},\"baxis\":{\"gridcolor\":\"white\",\"linecolor\":\"white\",\"ticks\":\"\"},\"caxis\":{\"gridcolor\":\"white\",\"linecolor\":\"white\",\"ticks\":\"\"}},\"coloraxis\":{\"colorbar\":{\"outlinewidth\":0,\"ticks\":\"\"}},\"colorscale\":{\"sequential\":[[0.0,\"#0d0887\"],[0.1111111111111111,\"#46039f\"],[0.2222222222222222,\"#7201a8\"],[0.3333333333333333,\"#9c179e\"],[0.4444444444444444,\"#bd3786\"],[0.5555555555555556,\"#d8576b\"],[0.6666666666666666,\"#ed7953\"],[0.7777777777777778,\"#fb9f3a\"],[0.8888888888888888,\"#fdca26\"],[1.0,\"#f0f921\"]],\"sequentialminus\":[[0.0,\"#0d0887\"],[0.1111111111111111,\"#46039f\"],[0.2222222222222222,\"#7201a8\"],[0.3333333333333333,\"#9c179e\"],[0.4444444444444444,\"#bd3786\"],[0.5555555555555556,\"#d8576b\"],[0.6666666666666666,\"#ed7953\"],[0.7777777777777778,\"#fb9f3a\"],[0.8888888888888888,\"#fdca26\"],[1.0,\"#f0f921\"]],\"diverging\":[[0,\"#8e0152\"],[0.1,\"#c51b7d\"],[0.2,\"#de77ae\"],[0.3,\"#f1b6da\"],[0.4,\"#fde0ef\"],[0.5,\"#f7f7f7\"],[0.6,\"#e6f5d0\"],[0.7,\"#b8e186\"],[0.8,\"#7fbc41\"],[0.9,\"#4d9221\"],[1,\"#276419\"]]},\"xaxis\":{\"gridcolor\":\"white\",\"linecolor\":\"white\",\"ticks\":\"\",\"title\":{\"standoff\":15},\"zerolinecolor\":\"white\",\"automargin\":true,\"zerolinewidth\":2},\"yaxis\":{\"gridcolor\":\"white\",\"linecolor\":\"white\",\"ticks\":\"\",\"title\":{\"standoff\":15},\"zerolinecolor\":\"white\",\"automargin\":true,\"zerolinewidth\":2},\"scene\":{\"xaxis\":{\"backgroundcolor\":\"#E5ECF6\",\"gridcolor\":\"white\",\"linecolor\":\"white\",\"showbackground\":true,\"ticks\":\"\",\"zerolinecolor\":\"white\",\"gridwidth\":2},\"yaxis\":{\"backgroundcolor\":\"#E5ECF6\",\"gridcolor\":\"white\",\"linecolor\":\"white\",\"showbackground\":true,\"ticks\":\"\",\"zerolinecolor\":\"white\",\"gridwidth\":2},\"zaxis\":{\"backgroundcolor\":\"#E5ECF6\",\"gridcolor\":\"white\",\"linecolor\":\"white\",\"showbackground\":true,\"ticks\":\"\",\"zerolinecolor\":\"white\",\"gridwidth\":2}},\"shapedefaults\":{\"line\":{\"color\":\"#2a3f5f\"}},\"annotationdefaults\":{\"arrowcolor\":\"#2a3f5f\",\"arrowhead\":0,\"arrowwidth\":1},\"geo\":{\"bgcolor\":\"white\",\"landcolor\":\"#E5ECF6\",\"subunitcolor\":\"white\",\"showland\":true,\"showlakes\":true,\"lakecolor\":\"white\"},\"title\":{\"x\":0.05},\"mapbox\":{\"style\":\"light\"}}},\"xaxis\":{\"anchor\":\"y\",\"domain\":[0.0,1.0],\"title\":{\"text\":\"\"},\"showticklabels\":false},\"yaxis\":{\"anchor\":\"x\",\"domain\":[0.0,1.0],\"title\":{\"text\":\"\"},\"showticklabels\":false},\"legend\":{\"title\":{\"text\":\"Topic\"},\"tracegroupgap\":0,\"font\":{\"color\":\"black\"}},\"title\":{\"text\":\"Topic Clustering using LDA and t-SNE\",\"font\":{\"color\":\"black\"}},\"annotations\":[{\"align\":\"left\",\"font\":{\"color\":\"#FF5533\"},\"showarrow\":false,\"text\":\"Topic 1:\",\"x\":-0.075,\"xref\":\"paper\",\"y\":-0.08,\"yref\":\"paper\"},{\"align\":\"left\",\"font\":{\"color\":\"black\"},\"showarrow\":false,\"text\":\"came, chaos, chaos, stopped, cory, stopped, milk, stopped, school, also, also, milk, chaos, mindanao, mindanao\",\"x\":0,\"xref\":\"paper\",\"y\":-0.08,\"yref\":\"paper\"},{\"align\":\"left\",\"font\":{\"color\":\"#FF5533\"},\"showarrow\":false,\"text\":\"Topic 2:\",\"x\":-0.075,\"xref\":\"paper\",\"y\":-0.13,\"yref\":\"paper\"},{\"align\":\"left\",\"font\":{\"color\":\"black\"},\"showarrow\":false,\"text\":\"ph, well, mom, dont, also, rice, foodmy, mom, many, freebie, one, furious\",\"x\":0,\"xref\":\"paper\",\"y\":-0.13,\"yref\":\"paper\"},{\"align\":\"left\",\"font\":{\"color\":\"#FF5533\"},\"showarrow\":false,\"text\":\"Topic 3:\",\"x\":-0.075,\"xref\":\"paper\",\"y\":-0.18,\"yref\":\"paper\"},{\"align\":\"left\",\"font\":{\"color\":\"black\"},\"showarrow\":false,\"text\":\"said, even, born, president, beautiful, school, really, good, grandfather\",\"x\":0,\"xref\":\"paper\",\"y\":-0.18,\"yref\":\"paper\"},{\"align\":\"left\",\"font\":{\"color\":\"#FF5533\"},\"showarrow\":false,\"text\":\"Topic 4:\",\"x\":-0.075,\"xref\":\"paper\",\"y\":-0.23000000000000004,\"yref\":\"paper\"},{\"align\":\"left\",\"font\":{\"color\":\"black\"},\"showarrow\":false,\"text\":\"rice, free, dilaw, time, marcos, hungry, term, bountiful, project, president, others\",\"x\":0,\"xref\":\"paper\",\"y\":-0.23000000000000004,\"yref\":\"paper\"},{\"align\":\"left\",\"font\":{\"color\":\"#FF5533\"},\"showarrow\":false,\"text\":\"Topic 5:\",\"x\":-0.075,\"xref\":\"paper\",\"y\":-0.28,\"yref\":\"paper\"},{\"align\":\"left\",\"font\":{\"color\":\"black\"},\"showarrow\":false,\"text\":\"nutribun, least, free, klim, back, school, powdered, disappeared, like\",\"x\":0,\"xref\":\"paper\",\"y\":-0.28,\"yref\":\"paper\"},{\"align\":\"left\",\"font\":{\"color\":\"#FF5533\"},\"showarrow\":false,\"text\":\"Topic 6:\",\"x\":-0.075,\"xref\":\"paper\",\"y\":-0.33,\"yref\":\"paper\"},{\"align\":\"left\",\"font\":{\"color\":\"black\"},\"showarrow\":false,\"text\":\"time, back, poor, garden, werent, know, marcos, time, one, born\",\"x\":0,\"xref\":\"paper\",\"y\":-0.33,\"yref\":\"paper\"},{\"align\":\"left\",\"font\":{\"color\":\"#FF5533\"},\"showarrow\":false,\"text\":\"Topic 7:\",\"x\":-0.075,\"xref\":\"paper\",\"y\":-0.38000000000000006,\"yref\":\"paper\"},{\"align\":\"left\",\"font\":{\"color\":\"black\"},\"showarrow\":false,\"text\":\"youre, blame, education, free, free, education, bbms, son, blame, past, past, administration, past\",\"x\":0,\"xref\":\"paper\",\"y\":-0.38000000000000006,\"yref\":\"paper\"},{\"align\":\"left\",\"font\":{\"color\":\"#FF5533\"},\"showarrow\":false,\"text\":\"Topic 8:\",\"x\":-0.075,\"xref\":\"paper\",\"y\":-0.43000000000000005,\"yref\":\"paper\"},{\"align\":\"left\",\"font\":{\"color\":\"black\"},\"showarrow\":false,\"text\":\"healthy, snack, eat, nutribun, school, nowadays, thought, ppl, regime, eat, bag\",\"x\":0,\"xref\":\"paper\",\"y\":-0.43000000000000005,\"yref\":\"paper\"},{\"align\":\"left\",\"font\":{\"color\":\"#FF5533\"},\"showarrow\":false,\"text\":\"Topic 9:\",\"x\":-0.075,\"xref\":\"paper\",\"y\":-0.48000000000000004,\"yref\":\"paper\"},{\"align\":\"left\",\"font\":{\"color\":\"black\"},\"showarrow\":false,\"text\":\"filipino, time, product, went, marcos, time, food, poor, gave, kadiwa, good\",\"x\":0,\"xref\":\"paper\",\"y\":-0.48000000000000004,\"yref\":\"paper\"},{\"align\":\"left\",\"font\":{\"color\":\"#FF5533\"},\"showarrow\":false,\"text\":\"Topic 10:\",\"x\":-0.075,\"xref\":\"paper\",\"y\":-0.53,\"yref\":\"paper\"},{\"align\":\"left\",\"font\":{\"color\":\"black\"},\"showarrow\":false,\"text\":\"program, nutribuns, nobody, feeding, program, agriculture, prosper, timehe, also, presentformer, president, timebulgur, also, made\",\"x\":0,\"xref\":\"paper\",\"y\":-0.53,\"yref\":\"paper\"},{\"align\":\"left\",\"font\":{\"color\":\"#FF5533\"},\"showarrow\":false,\"text\":\"Topic 11:\",\"x\":-0.075,\"xref\":\"paper\",\"y\":-0.58,\"yref\":\"paper\"},{\"align\":\"left\",\"font\":{\"color\":\"black\"},\"showarrow\":false,\"text\":\"would, cheap, marcos, everything, recess, everything, everything, cheap, kid, school, ninoyisnotahero, also, ninoyisnotahero\",\"x\":0,\"xref\":\"paper\",\"y\":-0.58,\"yref\":\"paper\"},{\"align\":\"left\",\"font\":{\"color\":\"#FF5533\"},\"showarrow\":false,\"text\":\"Topic 12:\",\"x\":-0.075,\"xref\":\"paper\",\"y\":-0.63,\"yref\":\"paper\"},{\"align\":\"left\",\"font\":{\"color\":\"black\"},\"showarrow\":false,\"text\":\"ask, concerned, get, starving, pilipino, rare, concerned, every, concerned, every, pilipino, pilipino, rare, rare, presidentbbmsigawngbayan\",\"x\":0,\"xref\":\"paper\",\"y\":-0.63,\"yref\":\"paper\"},{\"align\":\"left\",\"font\":{\"color\":\"#FF5533\"},\"showarrow\":false,\"text\":\"Topic 13:\",\"x\":-0.075,\"xref\":\"paper\",\"y\":-0.68,\"yref\":\"paper\"},{\"align\":\"left\",\"font\":{\"color\":\"black\"},\"showarrow\":false,\"text\":\"price, became, became, poorer, poorer, poorer, do30, richer, fuel, disciplined, kind, marcos, became\",\"x\":0,\"xref\":\"paper\",\"y\":-0.68,\"yref\":\"paper\"}],\"margin\":{\"b\":250},\"height\":710,\"paper_bgcolor\":\"#fbfbfb\"},                        {\"responsive\": true}                    ).then(function(){\n",
       "                            \n",
       "var gd = document.getElementById('3184faed-ba66-42b5-b527-0d158849becc');\n",
       "var x = new MutationObserver(function (mutations, observer) {{\n",
       "        var display = window.getComputedStyle(gd).display;\n",
       "        if (!display || display === 'none') {{\n",
       "            console.log([gd, 'removed!']);\n",
       "            Plotly.purge(gd);\n",
       "            observer.disconnect();\n",
       "        }}\n",
       "}});\n",
       "\n",
       "// Listen for the removal of the full notebook cells\n",
       "var notebookContainer = gd.closest('#notebook-container');\n",
       "if (notebookContainer) {{\n",
       "    x.observe(notebookContainer, {childList: true});\n",
       "}}\n",
       "\n",
       "// Listen for the clearing of the current output cell\n",
       "var outputEl = gd.closest('.output');\n",
       "if (outputEl) {{\n",
       "    x.observe(outputEl, {childList: true});\n",
       "}}\n",
       "\n",
       "                        })                };                });            </script>        </div>"
      ]
     },
     "metadata": {},
     "output_type": "display_data"
    }
   ],
   "source": [
    "# Plot tweets as colored points\n",
    "df_topics_cluster.sort_values(\n",
    "    'Cluster', key=lambda x: pd.to_numeric(x, errors='coerce'), inplace=True)\n",
    "\n",
    "fig = px.scatter(df_topics_cluster, x='X', y='Y', color='Cluster',\n",
    "                 title='Topic Clustering using LDA and t-SNE',\n",
    "                 hover_name='Tweet',\n",
    "                 hover_data={'X': False, 'Y': False, 'Cluster': False, 'Tweet': False, 'Breakdown': True})\n",
    "\n",
    "for i, keyword in enumerate(df_topics['Keywords']):\n",
    "    fig.add_annotation(\n",
    "        x=-0.075,\n",
    "        y=-0.2*(i/4)-0.08,\n",
    "        text=f\"Topic {i+1}:\",\n",
    "        showarrow=False,\n",
    "        xref='paper',\n",
    "        yref='paper',\n",
    "        align='left',\n",
    "        font=dict(color='#FF5533')\n",
    "    )\n",
    "    fig.add_annotation(\n",
    "        x=0,\n",
    "        y=-0.2*(i/4)-0.08,\n",
    "        text=keyword.replace(' ', ', '),\n",
    "        showarrow=False,\n",
    "        xref='paper',\n",
    "        yref='paper',\n",
    "        align='left',\n",
    "        font=dict(color='black')\n",
    "    )\n",
    "\n",
    "fig.update_layout(height=710,\n",
    "                  xaxis_title='', yaxis_title='',\n",
    "                  margin=dict(b=250),\n",
    "                  paper_bgcolor='#fbfbfb',\n",
    "                  title=dict(font=dict(color='black')),\n",
    "                  legend=dict(title=\"Topic\", font=dict(color='black')))\n",
    "fig.update_xaxes(showticklabels=False)\n",
    "fig.update_yaxes(showticklabels=False)\n",
    "fig.show()"
   ]
  }
 ],
 "metadata": {
  "kernelspec": {
   "display_name": "Python 3 (ipykernel)",
   "language": "python",
   "name": "python3"
  },
  "language_info": {
   "codemirror_mode": {
    "name": "ipython",
    "version": 3
   },
   "file_extension": ".py",
   "mimetype": "text/x-python",
   "name": "python",
   "nbconvert_exporter": "python",
   "pygments_lexer": "ipython3",
   "version": "3.9.12"
  },
  "toc": {
   "base_numbering": 1,
   "nav_menu": {},
   "number_sections": true,
   "sideBar": true,
   "skip_h1_title": false,
   "title_cell": "Table of Contents",
   "title_sidebar": "Contents",
   "toc_cell": false,
   "toc_position": {},
   "toc_section_display": true,
   "toc_window_display": false
  }
 },
 "nbformat": 4,
 "nbformat_minor": 5
}
